{
  "nbformat": 4,
  "nbformat_minor": 0,
  "metadata": {
    "colab": {
      "name": "homework3-nlp.ipynb",
      "provenance": [],
      "collapsed_sections": []
    },
    "kernelspec": {
      "name": "python3",
      "display_name": "Python 3"
    },
    "accelerator": "GPU"
  },
  "cells": [
    {
      "cell_type": "code",
      "metadata": {
        "colab": {
          "base_uri": "https://localhost:8080/"
        },
        "id": "1zuqJRanyj7U",
        "outputId": "61bcd8ae-0c30-47fa-ed79-5d1cbbaec2f9"
      },
      "source": [
        "from google.colab import drive\r\n",
        "\r\n",
        "drive.mount('/content/gdrive')"
      ],
      "execution_count": 3,
      "outputs": [
        {
          "output_type": "stream",
          "text": [
            "Drive already mounted at /content/gdrive; to attempt to forcibly remount, call drive.mount(\"/content/gdrive\", force_remount=True).\n"
          ],
          "name": "stdout"
        }
      ]
    },
    {
      "cell_type": "code",
      "metadata": {
        "colab": {
          "base_uri": "https://localhost:8080/"
        },
        "id": "6Zx0hzEBzH3r",
        "outputId": "c8486ed1-667c-46ae-e8e8-11d11ce8d194"
      },
      "source": [
        "% cd gdrive/MyDrive/nlp-unibuc/"
      ],
      "execution_count": 4,
      "outputs": [
        {
          "output_type": "stream",
          "text": [
            "/content/gdrive/MyDrive/nlp-unibuc\n"
          ],
          "name": "stdout"
        }
      ]
    },
    {
      "cell_type": "markdown",
      "metadata": {
        "id": "GyXPR3PIzqN5"
      },
      "source": [
        "# Classification using BiLSTM"
      ]
    },
    {
      "cell_type": "markdown",
      "metadata": {
        "id": "oS-b_VBczxom"
      },
      "source": [
        "Firstly, we load the dataset and set the golden labels as we did in the previous notebook."
      ]
    },
    {
      "cell_type": "code",
      "metadata": {
        "colab": {
          "base_uri": "https://localhost:8080/",
          "height": 293
        },
        "id": "WpWAnJtuzPau",
        "outputId": "3dfaf639-e8ea-4816-9eb9-4bc28dd8ef42"
      },
      "source": [
        "import pandas as pd\r\n",
        "\r\n",
        "df = pd.read_csv(\"imdb_reviews.csv\", index_col=0)\r\n",
        "df.head()"
      ],
      "execution_count": 5,
      "outputs": [
        {
          "output_type": "execute_result",
          "data": {
            "text/html": [
              "<div>\n",
              "<style scoped>\n",
              "    .dataframe tbody tr th:only-of-type {\n",
              "        vertical-align: middle;\n",
              "    }\n",
              "\n",
              "    .dataframe tbody tr th {\n",
              "        vertical-align: top;\n",
              "    }\n",
              "\n",
              "    .dataframe thead th {\n",
              "        text-align: right;\n",
              "    }\n",
              "</style>\n",
              "<table border=\"1\" class=\"dataframe\">\n",
              "  <thead>\n",
              "    <tr style=\"text-align: right;\">\n",
              "      <th></th>\n",
              "      <th>movie</th>\n",
              "      <th>title</th>\n",
              "      <th>text</th>\n",
              "      <th>score</th>\n",
              "      <th>user</th>\n",
              "      <th>date</th>\n",
              "      <th>helpfulness_votes</th>\n",
              "      <th>positive_helpfulness_votes</th>\n",
              "    </tr>\n",
              "  </thead>\n",
              "  <tbody>\n",
              "    <tr>\n",
              "      <th>0</th>\n",
              "      <td>Couples Retreat</td>\n",
              "      <td>Worst movie I've seen in a while...</td>\n",
              "      <td>I watched this for free On Demand and still fe...</td>\n",
              "      <td>5.0</td>\n",
              "      <td>glyeakley</td>\n",
              "      <td>2010/09/25</td>\n",
              "      <td>47</td>\n",
              "      <td>30</td>\n",
              "    </tr>\n",
              "    <tr>\n",
              "      <th>1</th>\n",
              "      <td>Disaster Movie</td>\n",
              "      <td>The irony is very correct.</td>\n",
              "      <td>Since the name of the movie is \"Disaster Movie...</td>\n",
              "      <td>NaN</td>\n",
              "      <td>mewte</td>\n",
              "      <td>2008/08/29</td>\n",
              "      <td>411</td>\n",
              "      <td>345</td>\n",
              "    </tr>\n",
              "    <tr>\n",
              "      <th>2</th>\n",
              "      <td>Seven Psychopaths</td>\n",
              "      <td>Skinny, toothless, and blind</td>\n",
              "      <td>Hmm, it's quite risky with all these movies th...</td>\n",
              "      <td>6.0</td>\n",
              "      <td>mircea-lungu</td>\n",
              "      <td>2013/04/21</td>\n",
              "      <td>24</td>\n",
              "      <td>11</td>\n",
              "    </tr>\n",
              "    <tr>\n",
              "      <th>3</th>\n",
              "      <td>The Counselor</td>\n",
              "      <td>A dark, bleak masterpiece about predators - 10/10</td>\n",
              "      <td>Don't believe the bad reviews here: If you lov...</td>\n",
              "      <td>10.0</td>\n",
              "      <td>rockenrohl</td>\n",
              "      <td>2013/10/26</td>\n",
              "      <td>139</td>\n",
              "      <td>86</td>\n",
              "    </tr>\n",
              "    <tr>\n",
              "      <th>4</th>\n",
              "      <td>Scouts Guide to the Zombie Apocalypse</td>\n",
              "      <td>Scouts vs. Zombies gotta like that!</td>\n",
              "      <td>Comedy and Horror mix well in this coming of a...</td>\n",
              "      <td>6.0</td>\n",
              "      <td>philipmorrison-73118</td>\n",
              "      <td>2016/01/24</td>\n",
              "      <td>3</td>\n",
              "      <td>2</td>\n",
              "    </tr>\n",
              "  </tbody>\n",
              "</table>\n",
              "</div>"
            ],
            "text/plain": [
              "                                   movie  ... positive_helpfulness_votes\n",
              "0                        Couples Retreat  ...                         30\n",
              "1                         Disaster Movie  ...                        345\n",
              "2                      Seven Psychopaths  ...                         11\n",
              "3                          The Counselor  ...                         86\n",
              "4  Scouts Guide to the Zombie Apocalypse  ...                          2\n",
              "\n",
              "[5 rows x 8 columns]"
            ]
          },
          "metadata": {
            "tags": []
          },
          "execution_count": 5
        }
      ]
    },
    {
      "cell_type": "code",
      "metadata": {
        "colab": {
          "base_uri": "https://localhost:8080/",
          "height": 224
        },
        "id": "RMZevsM10DTj",
        "outputId": "91d8d620-d110-4069-a341-d5ff4bdfa8f9"
      },
      "source": [
        "df = df.drop([\"movie\", \"title\", \"user\", \"date\", \"helpfulness_votes\", \"positive_helpfulness_votes\"], axis=1)\r\n",
        "df = df.dropna()\r\n",
        "df = df.sample(n=10000)\r\n",
        "print(len(df))\r\n",
        "df.head()"
      ],
      "execution_count": 6,
      "outputs": [
        {
          "output_type": "stream",
          "text": [
            "10000\n"
          ],
          "name": "stdout"
        },
        {
          "output_type": "execute_result",
          "data": {
            "text/html": [
              "<div>\n",
              "<style scoped>\n",
              "    .dataframe tbody tr th:only-of-type {\n",
              "        vertical-align: middle;\n",
              "    }\n",
              "\n",
              "    .dataframe tbody tr th {\n",
              "        vertical-align: top;\n",
              "    }\n",
              "\n",
              "    .dataframe thead th {\n",
              "        text-align: right;\n",
              "    }\n",
              "</style>\n",
              "<table border=\"1\" class=\"dataframe\">\n",
              "  <thead>\n",
              "    <tr style=\"text-align: right;\">\n",
              "      <th></th>\n",
              "      <th>text</th>\n",
              "      <th>score</th>\n",
              "    </tr>\n",
              "  </thead>\n",
              "  <tbody>\n",
              "    <tr>\n",
              "      <th>30015</th>\n",
              "      <td>\"Lucky Number Slevin\" is a stylish revenge thr...</td>\n",
              "      <td>8.0</td>\n",
              "    </tr>\n",
              "    <tr>\n",
              "      <th>14909</th>\n",
              "      <td>You probably think this film is completely foc...</td>\n",
              "      <td>8.0</td>\n",
              "    </tr>\n",
              "    <tr>\n",
              "      <th>20188</th>\n",
              "      <td>Reviewers Notes, humbly submitted: 1. One of t...</td>\n",
              "      <td>9.0</td>\n",
              "    </tr>\n",
              "    <tr>\n",
              "      <th>13265</th>\n",
              "      <td>Every now and again, a film comes along that c...</td>\n",
              "      <td>6.0</td>\n",
              "    </tr>\n",
              "    <tr>\n",
              "      <th>22553</th>\n",
              "      <td>It's a nice film adaptation of a fairly nice t...</td>\n",
              "      <td>8.0</td>\n",
              "    </tr>\n",
              "  </tbody>\n",
              "</table>\n",
              "</div>"
            ],
            "text/plain": [
              "                                                    text  score\n",
              "30015  \"Lucky Number Slevin\" is a stylish revenge thr...    8.0\n",
              "14909  You probably think this film is completely foc...    8.0\n",
              "20188  Reviewers Notes, humbly submitted: 1. One of t...    9.0\n",
              "13265  Every now and again, a film comes along that c...    6.0\n",
              "22553  It's a nice film adaptation of a fairly nice t...    8.0"
            ]
          },
          "metadata": {
            "tags": []
          },
          "execution_count": 6
        }
      ]
    },
    {
      "cell_type": "code",
      "metadata": {
        "colab": {
          "base_uri": "https://localhost:8080/",
          "height": 299
        },
        "id": "Bm2A2gL60GJ7",
        "outputId": "c5a61cdd-ac05-4645-c48d-8f9210b01e66"
      },
      "source": [
        "df[\"score\"].value_counts().sort_index().plot(kind=\"bar\")"
      ],
      "execution_count": 7,
      "outputs": [
        {
          "output_type": "execute_result",
          "data": {
            "text/plain": [
              "<matplotlib.axes._subplots.AxesSubplot at 0x7f1a9f0d62e8>"
            ]
          },
          "metadata": {
            "tags": []
          },
          "execution_count": 7
        },
        {
          "output_type": "display_data",
          "data": {
            "image/png": "[encoded data removed]",
            "text/plain": [
              "<Figure size 432x288 with 1 Axes>"
            ]
          },
          "metadata": {
            "tags": [],
            "needs_background": "light"
          }
        }
      ]
    },
    {
      "cell_type": "code",
      "metadata": {
        "colab": {
          "base_uri": "https://localhost:8080/",
          "height": 206
        },
        "id": "ac4LOy9s0KFv",
        "outputId": "34673561-87fc-4418-e33d-53fd5e6a3f42"
      },
      "source": [
        "def class_from_score(score):\r\n",
        "    if score <= 3:\r\n",
        "        return -1\r\n",
        "    elif score >= 8:\r\n",
        "        return 1\r\n",
        "    else:\r\n",
        "        return 0\r\n",
        "\r\n",
        "df[\"class\"] = [class_from_score(score) for score in df[\"score\"]]\r\n",
        "df.head()"
      ],
      "execution_count": 8,
      "outputs": [
        {
          "output_type": "execute_result",
          "data": {
            "text/html": [
              "<div>\n",
              "<style scoped>\n",
              "    .dataframe tbody tr th:only-of-type {\n",
              "        vertical-align: middle;\n",
              "    }\n",
              "\n",
              "    .dataframe tbody tr th {\n",
              "        vertical-align: top;\n",
              "    }\n",
              "\n",
              "    .dataframe thead th {\n",
              "        text-align: right;\n",
              "    }\n",
              "</style>\n",
              "<table border=\"1\" class=\"dataframe\">\n",
              "  <thead>\n",
              "    <tr style=\"text-align: right;\">\n",
              "      <th></th>\n",
              "      <th>text</th>\n",
              "      <th>score</th>\n",
              "      <th>class</th>\n",
              "    </tr>\n",
              "  </thead>\n",
              "  <tbody>\n",
              "    <tr>\n",
              "      <th>30015</th>\n",
              "      <td>\"Lucky Number Slevin\" is a stylish revenge thr...</td>\n",
              "      <td>8.0</td>\n",
              "      <td>1</td>\n",
              "    </tr>\n",
              "    <tr>\n",
              "      <th>14909</th>\n",
              "      <td>You probably think this film is completely foc...</td>\n",
              "      <td>8.0</td>\n",
              "      <td>1</td>\n",
              "    </tr>\n",
              "    <tr>\n",
              "      <th>20188</th>\n",
              "      <td>Reviewers Notes, humbly submitted: 1. One of t...</td>\n",
              "      <td>9.0</td>\n",
              "      <td>1</td>\n",
              "    </tr>\n",
              "    <tr>\n",
              "      <th>13265</th>\n",
              "      <td>Every now and again, a film comes along that c...</td>\n",
              "      <td>6.0</td>\n",
              "      <td>0</td>\n",
              "    </tr>\n",
              "    <tr>\n",
              "      <th>22553</th>\n",
              "      <td>It's a nice film adaptation of a fairly nice t...</td>\n",
              "      <td>8.0</td>\n",
              "      <td>1</td>\n",
              "    </tr>\n",
              "  </tbody>\n",
              "</table>\n",
              "</div>"
            ],
            "text/plain": [
              "                                                    text  score  class\n",
              "30015  \"Lucky Number Slevin\" is a stylish revenge thr...    8.0      1\n",
              "14909  You probably think this film is completely foc...    8.0      1\n",
              "20188  Reviewers Notes, humbly submitted: 1. One of t...    9.0      1\n",
              "13265  Every now and again, a film comes along that c...    6.0      0\n",
              "22553  It's a nice film adaptation of a fairly nice t...    8.0      1"
            ]
          },
          "metadata": {
            "tags": []
          },
          "execution_count": 8
        }
      ]
    },
    {
      "cell_type": "code",
      "metadata": {
        "colab": {
          "base_uri": "https://localhost:8080/",
          "height": 283
        },
        "id": "qGs1wv370Oqy",
        "outputId": "e03c6430-b389-470e-f8b3-67ba3ffcb5ff"
      },
      "source": [
        "df[\"class\"].value_counts().sort_index().plot(kind=\"bar\")"
      ],
      "execution_count": 9,
      "outputs": [
        {
          "output_type": "execute_result",
          "data": {
            "text/plain": [
              "<matplotlib.axes._subplots.AxesSubplot at 0x7f1a9f066be0>"
            ]
          },
          "metadata": {
            "tags": []
          },
          "execution_count": 9
        },
        {
          "output_type": "display_data",
          "data": {
            "image/png": "[encoded data removed]",
            "text/plain": [
              "<Figure size 432x288 with 1 Axes>"
            ]
          },
          "metadata": {
            "tags": [],
            "needs_background": "light"
          }
        }
      ]
    },
    {
      "cell_type": "markdown",
      "metadata": {
        "id": "Nkev55890SNZ"
      },
      "source": [
        "We have now our texts labeled with positive, negative and neutral classes. We now proceed to split it into train (80%), dev (10%) and test (10%) subsets."
      ]
    },
    {
      "cell_type": "code",
      "metadata": {
        "colab": {
          "base_uri": "https://localhost:8080/",
          "height": 224
        },
        "id": "C3KQiqHa0RY9",
        "outputId": "f2008a27-d699-4be3-d4f7-7980bf8064c6"
      },
      "source": [
        "from sklearn.model_selection import train_test_split\r\n",
        "\r\n",
        "df = df.drop([\"score\"], axis=1)\r\n",
        "df_train, df_rest = train_test_split(df, test_size=0.2)\r\n",
        "df_dev, df_test = train_test_split(df_rest, test_size=0.5)\r\n",
        "\r\n",
        "df_train.reset_index(inplace=True, drop=True)\r\n",
        "df_dev.reset_index(inplace=True, drop=True)\r\n",
        "df_test.reset_index(inplace=True, drop=True)\r\n",
        "\r\n",
        "print(len(df_train), len(df_dev), len(df_test))\r\n",
        "df_train.head()"
      ],
      "execution_count": 10,
      "outputs": [
        {
          "output_type": "stream",
          "text": [
            "8000 1000 1000\n"
          ],
          "name": "stdout"
        },
        {
          "output_type": "execute_result",
          "data": {
            "text/html": [
              "<div>\n",
              "<style scoped>\n",
              "    .dataframe tbody tr th:only-of-type {\n",
              "        vertical-align: middle;\n",
              "    }\n",
              "\n",
              "    .dataframe tbody tr th {\n",
              "        vertical-align: top;\n",
              "    }\n",
              "\n",
              "    .dataframe thead th {\n",
              "        text-align: right;\n",
              "    }\n",
              "</style>\n",
              "<table border=\"1\" class=\"dataframe\">\n",
              "  <thead>\n",
              "    <tr style=\"text-align: right;\">\n",
              "      <th></th>\n",
              "      <th>text</th>\n",
              "      <th>class</th>\n",
              "    </tr>\n",
              "  </thead>\n",
              "  <tbody>\n",
              "    <tr>\n",
              "      <th>0</th>\n",
              "      <td>When the movie was made British actors were ch...</td>\n",
              "      <td>0</td>\n",
              "    </tr>\n",
              "    <tr>\n",
              "      <th>1</th>\n",
              "      <td>Nice performances by Chris Evans and Alice Eve...</td>\n",
              "      <td>1</td>\n",
              "    </tr>\n",
              "    <tr>\n",
              "      <th>2</th>\n",
              "      <td>The latest Will Smith effort is much different...</td>\n",
              "      <td>1</td>\n",
              "    </tr>\n",
              "    <tr>\n",
              "      <th>3</th>\n",
              "      <td>I guess one size doesn't fit all. As evidenced...</td>\n",
              "      <td>1</td>\n",
              "    </tr>\n",
              "    <tr>\n",
              "      <th>4</th>\n",
              "      <td>This is my first review on IMDb. I normally re...</td>\n",
              "      <td>0</td>\n",
              "    </tr>\n",
              "  </tbody>\n",
              "</table>\n",
              "</div>"
            ],
            "text/plain": [
              "                                                text  class\n",
              "0  When the movie was made British actors were ch...      0\n",
              "1  Nice performances by Chris Evans and Alice Eve...      1\n",
              "2  The latest Will Smith effort is much different...      1\n",
              "3  I guess one size doesn't fit all. As evidenced...      1\n",
              "4  This is my first review on IMDb. I normally re...      0"
            ]
          },
          "metadata": {
            "tags": []
          },
          "execution_count": 10
        }
      ]
    },
    {
      "cell_type": "markdown",
      "metadata": {
        "id": "-MN1fH4q00rV"
      },
      "source": [
        "## Data preparation for learning"
      ]
    },
    {
      "cell_type": "markdown",
      "metadata": {
        "id": "LZZIqbQt080R"
      },
      "source": [
        "Define the tokenizer using spacy."
      ]
    },
    {
      "cell_type": "code",
      "metadata": {
        "colab": {
          "base_uri": "https://localhost:8080/"
        },
        "id": "-Ag2Eqez0oYQ",
        "outputId": "3fd0ff01-4e10-49d7-b6b7-aec0e06f5837"
      },
      "source": [
        "! python -m spacy download en_core_web_md"
      ],
      "execution_count": 11,
      "outputs": [
        {
          "output_type": "stream",
          "text": [
            "Requirement already satisfied: en_core_web_md==2.2.5 from https://github.com/explosion/spacy-models/releases/download/en_core_web_md-2.2.5/en_core_web_md-2.2.5.tar.gz#egg=en_core_web_md==2.2.5 in /usr/local/lib/python3.6/dist-packages (2.2.5)\n",
            "Requirement already satisfied: spacy>=2.2.2 in /usr/local/lib/python3.6/dist-packages (from en_core_web_md==2.2.5) (2.2.4)\n",
            "Requirement already satisfied: plac<1.2.0,>=0.9.6 in /usr/local/lib/python3.6/dist-packages (from spacy>=2.2.2->en_core_web_md==2.2.5) (1.1.3)\n",
            "Requirement already satisfied: thinc==7.4.0 in /usr/local/lib/python3.6/dist-packages (from spacy>=2.2.2->en_core_web_md==2.2.5) (7.4.0)\n",
            "Requirement already satisfied: setuptools in /usr/local/lib/python3.6/dist-packages (from spacy>=2.2.2->en_core_web_md==2.2.5) (51.0.0)\n",
            "Requirement already satisfied: numpy>=1.15.0 in /usr/local/lib/python3.6/dist-packages (from spacy>=2.2.2->en_core_web_md==2.2.5) (1.19.4)\n",
            "Requirement already satisfied: srsly<1.1.0,>=1.0.2 in /usr/local/lib/python3.6/dist-packages (from spacy>=2.2.2->en_core_web_md==2.2.5) (1.0.5)\n",
            "Requirement already satisfied: murmurhash<1.1.0,>=0.28.0 in /usr/local/lib/python3.6/dist-packages (from spacy>=2.2.2->en_core_web_md==2.2.5) (1.0.5)\n",
            "Requirement already satisfied: catalogue<1.1.0,>=0.0.7 in /usr/local/lib/python3.6/dist-packages (from spacy>=2.2.2->en_core_web_md==2.2.5) (1.0.0)\n",
            "Requirement already satisfied: wasabi<1.1.0,>=0.4.0 in /usr/local/lib/python3.6/dist-packages (from spacy>=2.2.2->en_core_web_md==2.2.5) (0.8.0)\n",
            "Requirement already satisfied: blis<0.5.0,>=0.4.0 in /usr/local/lib/python3.6/dist-packages (from spacy>=2.2.2->en_core_web_md==2.2.5) (0.4.1)\n",
            "Requirement already satisfied: tqdm<5.0.0,>=4.38.0 in /usr/local/lib/python3.6/dist-packages (from spacy>=2.2.2->en_core_web_md==2.2.5) (4.41.1)\n",
            "Requirement already satisfied: cymem<2.1.0,>=2.0.2 in /usr/local/lib/python3.6/dist-packages (from spacy>=2.2.2->en_core_web_md==2.2.5) (2.0.5)\n",
            "Requirement already satisfied: requests<3.0.0,>=2.13.0 in /usr/local/lib/python3.6/dist-packages (from spacy>=2.2.2->en_core_web_md==2.2.5) (2.23.0)\n",
            "Requirement already satisfied: preshed<3.1.0,>=3.0.2 in /usr/local/lib/python3.6/dist-packages (from spacy>=2.2.2->en_core_web_md==2.2.5) (3.0.5)\n",
            "Requirement already satisfied: importlib-metadata>=0.20; python_version < \"3.8\" in /usr/local/lib/python3.6/dist-packages (from catalogue<1.1.0,>=0.0.7->spacy>=2.2.2->en_core_web_md==2.2.5) (3.3.0)\n",
            "Requirement already satisfied: certifi>=2017.4.17 in /usr/local/lib/python3.6/dist-packages (from requests<3.0.0,>=2.13.0->spacy>=2.2.2->en_core_web_md==2.2.5) (2020.12.5)\n",
            "Requirement already satisfied: urllib3!=1.25.0,!=1.25.1,<1.26,>=1.21.1 in /usr/local/lib/python3.6/dist-packages (from requests<3.0.0,>=2.13.0->spacy>=2.2.2->en_core_web_md==2.2.5) (1.24.3)\n",
            "Requirement already satisfied: chardet<4,>=3.0.2 in /usr/local/lib/python3.6/dist-packages (from requests<3.0.0,>=2.13.0->spacy>=2.2.2->en_core_web_md==2.2.5) (3.0.4)\n",
            "Requirement already satisfied: idna<3,>=2.5 in /usr/local/lib/python3.6/dist-packages (from requests<3.0.0,>=2.13.0->spacy>=2.2.2->en_core_web_md==2.2.5) (2.10)\n",
            "Requirement already satisfied: zipp>=0.5 in /usr/local/lib/python3.6/dist-packages (from importlib-metadata>=0.20; python_version < \"3.8\"->catalogue<1.1.0,>=0.0.7->spacy>=2.2.2->en_core_web_md==2.2.5) (3.4.0)\n",
            "Requirement already satisfied: typing-extensions>=3.6.4; python_version < \"3.8\" in /usr/local/lib/python3.6/dist-packages (from importlib-metadata>=0.20; python_version < \"3.8\"->catalogue<1.1.0,>=0.0.7->spacy>=2.2.2->en_core_web_md==2.2.5) (3.7.4.3)\n",
            "\u001b[38;5;2m✔ Download and installation successful\u001b[0m\n",
            "You can now load the model via spacy.load('en_core_web_md')\n"
          ],
          "name": "stdout"
        }
      ]
    },
    {
      "cell_type": "code",
      "metadata": {
        "colab": {
          "base_uri": "https://localhost:8080/"
        },
        "id": "Xp8DUuLO1V0_",
        "outputId": "0932d6e4-5343-4d9d-b034-4f572dc95fd7"
      },
      "source": [
        "import spacy\r\n",
        "\r\n",
        "spacy_nlp = spacy.load(\"en_core_web_md\", disable=[\"tagger\", \"parser\", \"ner\", \"textcat\"])\r\n",
        "\r\n",
        "def tokenize(text, spacy_nlp=spacy_nlp):\r\n",
        "    urls_removed = text.replace(\"[URL]\", \"\")\r\n",
        "    lower_cased = urls_removed.lower()\r\n",
        "    tokens = [token.text for token in spacy_nlp(lower_cased)]\r\n",
        "    return tokens\r\n",
        "\r\n",
        "print(tokenize(df_train.text[0]))"
      ],
      "execution_count": 12,
      "outputs": [
        {
          "output_type": "stream",
          "text": [
            "['when', 'the', 'movie', 'was', 'made', 'british', 'actors', 'were', 'chosen', 'to', 'play', 'the', 'roman', 'occupying', 'forces', ',', 'and', 'americans', 'to', 'play', 'the', 'oppressed', 'jews', '-', 'considering', 'their', 'roots', ',', 'that', 'would', 'of', 'course', 'appeal', 'to', 'americans', '.', 'but', 'things', 'have', 'changed', 'from', 'a', 'time', 'when', 'americans', 'would', 'see', 'themselves', 'as', '\"', 'good', 'guys', '\"', 'in', 'the', 'cold', 'war', '.', 'being', 'the', 'one', 'rome', '-', 'like', 'superpower', ',', 'it', \"'s\", 'the', 'united', 'states', \"'\", 'turn', 'to', 'impose', 'an', 'empire', \"'s\", 'glory', 'upon', 'the', 'world', 'whether', 'those', 'countries', 'with', 'unhealthy', 'climates', 'want', 'it', 'or', 'not', '.', 'when', 'i', 'watched', 'the', 'movie', 'the', 'other', 'day', 'parallels', 'with', 'the', 'current', 'situation', 'in', 'iraq', 'were', 'so', 'obvious', 'that', 'i', 'found', 'the', 'movie', 'quite', 'subversive', 'and', 'amusing', '-', 'not', 'what', 'you', 'would', 'expect', 'from', '\"', 'ben', 'hur', '\"', '.']\n"
          ],
          "name": "stdout"
        }
      ]
    },
    {
      "cell_type": "markdown",
      "metadata": {
        "id": "kjcKOCFP3YkW"
      },
      "source": [
        "torchtext dataset from pandas dataframe"
      ]
    },
    {
      "cell_type": "code",
      "metadata": {
        "id": "-SYp6Fhs3P1k"
      },
      "source": [
        "from torchtext import data\r\n",
        "\r\n",
        "class DataFrameDataset(data.Dataset):\r\n",
        "\r\n",
        "    def __init__(self, df, text_field, label_field, **kwargs):\r\n",
        "        fields = [('text', text_field), ('label', label_field)]\r\n",
        "        examples = []\r\n",
        "        for i, row in df.iterrows():\r\n",
        "            label = int(row[\"class\"]) + 1  # classes are now 0,1,2\r\n",
        "            text = row[\"text\"]\r\n",
        "            examples.append(data.Example.fromlist([text, label], fields))\r\n",
        "\r\n",
        "        super().__init__(examples, fields, **kwargs)\r\n",
        "    \r\n",
        "    @staticmethod\r\n",
        "    def sort_key(ex):\r\n",
        "        return len(ex.text)\r\n",
        "\r\n",
        "    @classmethod\r\n",
        "    def splits(cls, text_field, label_field, train_df, dev_df=None, test_df=None, **kwargs):\r\n",
        "        train_data, dev_data, test_data = (None, None, None)\r\n",
        "\r\n",
        "        if train_df is not None:\r\n",
        "            train_data = cls(train_df.copy(), text_field, label_field, **kwargs)\r\n",
        "        if dev_df is not None:\r\n",
        "            dev_data = cls(dev_df.copy(), text_field, label_field, **kwargs)\r\n",
        "        if test_df is not None:\r\n",
        "            test_data = cls(test_df.copy(), text_field, label_field, **kwargs)\r\n",
        "\r\n",
        "        return tuple(d for d in (train_data, dev_data, test_data) if d is not None)"
      ],
      "execution_count": 13,
      "outputs": []
    },
    {
      "cell_type": "markdown",
      "metadata": {
        "id": "XlOIDjpc31gc"
      },
      "source": [
        "Defining the torchtext fields."
      ]
    },
    {
      "cell_type": "code",
      "metadata": {
        "id": "7LLBfN9634TJ"
      },
      "source": [
        "TEXT_FIELD = data.Field(\r\n",
        "    sequential=True,\r\n",
        "    tokenize=tokenize,\r\n",
        "    batch_first=True,\r\n",
        "    include_lengths=True\r\n",
        ")\r\n",
        "\r\n",
        "LABEL_FIELD = data.Field(\r\n",
        "    sequential=False,\r\n",
        "    use_vocab=False\r\n",
        ")"
      ],
      "execution_count": 14,
      "outputs": []
    },
    {
      "cell_type": "markdown",
      "metadata": {
        "id": "53V7qI824Mtj"
      },
      "source": [
        "Get train, dev, test datasets."
      ]
    },
    {
      "cell_type": "code",
      "metadata": {
        "id": "Qmpw4-yH4MUC"
      },
      "source": [
        "train_ds, dev_ds, test_ds = DataFrameDataset.splits(\r\n",
        "  text_field=TEXT_FIELD, label_field=LABEL_FIELD, train_df=df_train, dev_df=df_dev, test_df=df_test\r\n",
        ")"
      ],
      "execution_count": 15,
      "outputs": []
    },
    {
      "cell_type": "markdown",
      "metadata": {
        "id": "VRWZNkhr4UEt"
      },
      "source": [
        "Build vocabulary on train set. Use 100-dimensional glove embeddings to initialize word embeddings."
      ]
    },
    {
      "cell_type": "code",
      "metadata": {
        "id": "Go81RqeY4g-J"
      },
      "source": [
        "import torch\r\n",
        "\r\n",
        "MAX_VOCAB = 20000\r\n",
        "\r\n",
        "TEXT_FIELD.build_vocab(\r\n",
        "    train_ds,\r\n",
        "    max_size=MAX_VOCAB,\r\n",
        "    vectors=\"glove.6B.100d\",\r\n",
        "    unk_init=torch.Tensor.normal_,\r\n",
        ")"
      ],
      "execution_count": 16,
      "outputs": []
    },
    {
      "cell_type": "markdown",
      "metadata": {
        "id": "kRKglEtc6DT2"
      },
      "source": [
        "Define data loaders."
      ]
    },
    {
      "cell_type": "code",
      "metadata": {
        "colab": {
          "base_uri": "https://localhost:8080/"
        },
        "id": "0xmGyVkk6Fe-",
        "outputId": "8cc63464-311a-4e21-c5a9-4b687679b215"
      },
      "source": [
        "BATCH_SIZE = 64\r\n",
        "\r\n",
        "DEVICE = torch.device(\"cuda\" if torch.cuda.is_available() else \"cpu\")\r\n",
        "print(f\"Using device: {DEVICE}\")\r\n",
        "\r\n",
        "train_it, dev_it, test_it = data.BucketIterator.splits(\r\n",
        "    (train_ds, dev_ds, test_ds),\r\n",
        "    batch_size=BATCH_SIZE,\r\n",
        "    sort_within_batch=True,\r\n",
        "    device=DEVICE\r\n",
        ")"
      ],
      "execution_count": 17,
      "outputs": [
        {
          "output_type": "stream",
          "text": [
            "Using device: cuda\n"
          ],
          "name": "stdout"
        }
      ]
    },
    {
      "cell_type": "markdown",
      "metadata": {
        "id": "vgYACrGd6-BV"
      },
      "source": [
        "## Model definition\r\n",
        "\r\n",
        "We will define a model containing:\r\n",
        " * an embedding layer, using the glove pretrained embeddings for initialization\r\n",
        " * a BiLSTM layer\r\n",
        " * a dropout layer after the BiLSTM output\r\n",
        " * a dense layer for the classifier with relu activation\r\n",
        " * an output layer with softmax activation"
      ]
    },
    {
      "cell_type": "code",
      "metadata": {
        "id": "_0diC7HQ64Dm"
      },
      "source": [
        "import torch.nn as nn\r\n",
        "\r\n",
        "class Model(nn.Module):\r\n",
        "    def __init__(\r\n",
        "        self, vocab_size, embedding_dim, hidden_dim, output_dim, lstm_num_layers,\r\n",
        "        bidirectional, dropout_p, fc_size, pad_idx\r\n",
        "    ):\r\n",
        "        super().__init__()\r\n",
        "\r\n",
        "        self.embedding = nn.Embedding(vocab_size, embedding_dim, padding_idx=pad_idx)\r\n",
        "        self.lstm = nn.LSTM(\r\n",
        "            embedding_dim,\r\n",
        "            hidden_dim,\r\n",
        "            num_layers=lstm_num_layers,\r\n",
        "            bidirectional=bidirectional,\r\n",
        "            dropout=dropout_p,\r\n",
        "            batch_first=True,\r\n",
        "        )\r\n",
        "        self.dropout = nn.Dropout(dropout_p)\r\n",
        "        self.classifier = nn.Sequential(\r\n",
        "            nn.Linear(hidden_dim * 2, fc_size),\r\n",
        "            nn.ReLU(inplace=True),\r\n",
        "            nn.Linear(fc_size, output_dim),\r\n",
        "            nn.LogSoftmax(dim=1),\r\n",
        "        )\r\n",
        "\r\n",
        "    def forward(self, sentences, lengths):\r\n",
        "        embedded = self.dropout(self.embedding(sentences))\r\n",
        "        # use packed sequences in order to ignore final padding when running through the lstm\r\n",
        "        packed_embedded = nn.utils.rnn.pack_padded_sequence(embedded, lengths.cpu(), batch_first=True)\r\n",
        "        packed_output, (hidden, cell) = self.lstm(packed_embedded)\r\n",
        "        # hidden has shape (2 * num_layers, batch_size, hidden_dim)\r\n",
        "        # concat final forward and backward hidden layers and apply dropout\r\n",
        "        hidden = self.dropout(torch.cat((hidden[-2, :, :], hidden[-1, :, :]), dim=1))\r\n",
        "        return self.classifier(hidden)"
      ],
      "execution_count": 18,
      "outputs": []
    },
    {
      "cell_type": "code",
      "metadata": {
        "id": "YVRJapaQACnN"
      },
      "source": [
        "VOCAB_SIZE = len(TEXT_FIELD.vocab)\r\n",
        "EMBEDDING_DIM = 100\r\n",
        "HIDDEN_DIM = 300\r\n",
        "OUTPUT_DIM = 3\r\n",
        "NUM_LAYERS = 2\r\n",
        "BIDIRECTIONAL = True\r\n",
        "DROPOUT = 0.5\r\n",
        "FC_SIZE = 1024\r\n",
        "PAD_IDX = TEXT_FIELD.vocab.stoi[TEXT_FIELD.pad_token]\r\n",
        "\r\n",
        "model = Model(VOCAB_SIZE, EMBEDDING_DIM, HIDDEN_DIM, OUTPUT_DIM, NUM_LAYERS, BIDIRECTIONAL, DROPOUT, FC_SIZE, PAD_IDX)"
      ],
      "execution_count": 19,
      "outputs": []
    },
    {
      "cell_type": "markdown",
      "metadata": {
        "id": "6tFmorhoBIMz"
      },
      "source": [
        "Now we are going to initialize the embedding leayer with the pretrained Glove vectors. TO do this we copy the vectors from the TEXT_FIELD.vocab into the weights of the embedding layer."
      ]
    },
    {
      "cell_type": "code",
      "metadata": {
        "colab": {
          "base_uri": "https://localhost:8080/"
        },
        "id": "BXaBUq1ABDm-",
        "outputId": "9774bb43-c895-4c87-9f14-65856f5fdc4d"
      },
      "source": [
        "pretrained_emb = TEXT_FIELD.vocab.vectors\r\n",
        "model.embedding.weight.data.copy_(pretrained_emb)\r\n",
        "\r\n",
        "# initialize UNK and PAD token embeddings to 0\r\n",
        "UNK_IDX = TEXT_FIELD.vocab.stoi[TEXT_FIELD.unk_token]\r\n",
        "\r\n",
        "model.embedding.weight.data[UNK_IDX] = torch.zeros(EMBEDDING_DIM)\r\n",
        "model.embedding.weight.data[PAD_IDX] = torch.zeros(EMBEDDING_DIM)\r\n",
        "\r\n",
        "print(model.embedding.weight.data)"
      ],
      "execution_count": 20,
      "outputs": [
        {
          "output_type": "stream",
          "text": [
            "tensor([[ 0.0000,  0.0000,  0.0000,  ...,  0.0000,  0.0000,  0.0000],\n",
            "        [ 0.0000,  0.0000,  0.0000,  ...,  0.0000,  0.0000,  0.0000],\n",
            "        [-0.0382, -0.2449,  0.7281,  ..., -0.1459,  0.8278,  0.2706],\n",
            "        ...,\n",
            "        [-0.2631, -0.3419, -0.5652,  ...,  0.4034, -0.1465,  0.1182],\n",
            "        [-0.4447,  0.1870, -0.4580,  ..., -0.1635, -0.4472, -0.2729],\n",
            "        [ 0.0431,  0.4706,  1.0918,  ..., -0.1467, -0.3117,  0.2926]])\n"
          ],
          "name": "stdout"
        }
      ]
    },
    {
      "cell_type": "markdown",
      "metadata": {
        "id": "4K-guYFsB09-"
      },
      "source": [
        "## Model training\r\n",
        "\r\n",
        "We are now ready to train the model.\r\n",
        "We will use Adam optimizer with the pytorch default learning rate."
      ]
    },
    {
      "cell_type": "code",
      "metadata": {
        "id": "-lxCluZfCDGu"
      },
      "source": [
        "import torch.optim as optim\r\n",
        "\r\n",
        "optimizer = optim.Adam(model.parameters())"
      ],
      "execution_count": 21,
      "outputs": []
    },
    {
      "cell_type": "markdown",
      "metadata": {
        "id": "TJx-5b7qCL53"
      },
      "source": [
        "We define the criterion as NLLLoss for cross entopy, we do this and not use the CrossEntropyLoss version since we already have the logits returned from the model."
      ]
    },
    {
      "cell_type": "code",
      "metadata": {
        "id": "vLzdteyDCK-S"
      },
      "source": [
        "criterion = nn.NLLLoss()\r\n",
        "\r\n",
        "model = model.to(DEVICE)\r\n",
        "criterion = criterion.to(DEVICE)"
      ],
      "execution_count": 22,
      "outputs": []
    },
    {
      "cell_type": "code",
      "metadata": {
        "id": "kodIgdk0E9G9"
      },
      "source": [
        "def count_matches(y_hat, y_true):\r\n",
        "    matches = (y_hat == y_true).float()\r\n",
        "    return matches.sum()"
      ],
      "execution_count": 23,
      "outputs": []
    },
    {
      "cell_type": "code",
      "metadata": {
        "id": "OL4G4qsmDPKD"
      },
      "source": [
        "def train(epoch, model, loader, optimizer, criterion, print_freq=10):\r\n",
        "    running_loss = 0\r\n",
        "    running_acc = 0\r\n",
        "    running_count = 0\r\n",
        "    model.train()\r\n",
        "    for i, batch in enumerate(loader):\r\n",
        "        optimizer.zero_grad()\r\n",
        "        sents, lengths = batch.text\r\n",
        "        pred = model(sents, lengths)\r\n",
        "        y_hat = pred.max(1)[1]  # class predictions\r\n",
        "        y_true = batch.label\r\n",
        "        running_acc += count_matches(y_hat, y_true).item()\r\n",
        "        running_count += y_true.size(0)\r\n",
        "\r\n",
        "        loss = criterion(pred, y_true)\r\n",
        "        running_loss += loss.item()\r\n",
        "\r\n",
        "        loss.backward()\r\n",
        "        optimizer.step()\r\n",
        "\r\n",
        "        if i % print_freq == 0:\r\n",
        "             print(\r\n",
        "                \"Epoch: [{0}][{1}/{2}]\\t\"\r\n",
        "                \"Loss {3:.4f} ({4:.4f})\\t\"\r\n",
        "                \"Accuracy {5:.5f}\".format(\r\n",
        "                    epoch,\r\n",
        "                    i + 1,\r\n",
        "                    len(loader),\r\n",
        "                    loss.item(),\r\n",
        "                    running_loss / (i + 1),\r\n",
        "                    running_acc / running_count,\r\n",
        "                )\r\n",
        "            )\r\n",
        "\r\n",
        "    return running_loss / len(loader), running_acc / running_count\r\n"
      ],
      "execution_count": 24,
      "outputs": []
    },
    {
      "cell_type": "code",
      "metadata": {
        "id": "ilbMLGp_HNpO"
      },
      "source": [
        "def evaluate(model, loader, criterion):\r\n",
        "    running_loss = 0\r\n",
        "    running_acc = 0\r\n",
        "    running_count = 0\r\n",
        "    model.eval()\r\n",
        "    with torch.no_grad():\r\n",
        "        for i, batch in enumerate(loader):\r\n",
        "            sents, lengths = batch.text\r\n",
        "            pred = model(sents, lengths)\r\n",
        "            y_hat = pred.max(1)[1]  # class predictions\r\n",
        "            y_true = batch.label\r\n",
        "            running_acc += count_matches(y_hat, y_true).item()\r\n",
        "            running_count += y_true.size(0)\r\n",
        "\r\n",
        "            loss = criterion(pred, y_true)\r\n",
        "            running_loss += loss.item()\r\n",
        "\r\n",
        "    return running_loss / len(loader), running_acc / running_count"
      ],
      "execution_count": 25,
      "outputs": []
    },
    {
      "cell_type": "markdown",
      "metadata": {
        "id": "QLUiz3RAMD7m"
      },
      "source": [
        "Training epochs. Save the best model based on validation loss."
      ]
    },
    {
      "cell_type": "code",
      "metadata": {
        "colab": {
          "base_uri": "https://localhost:8080/"
        },
        "id": "cS5An85FHglK",
        "outputId": "9e23852c-97fc-48e3-b1a3-5809df567d0c"
      },
      "source": [
        "import time\r\n",
        "\r\n",
        "N_EPOCHS = 10\r\n",
        "\r\n",
        "best_loss = float(\"inf\")\r\n",
        "\r\n",
        "train_losses = []\r\n",
        "dev_losses = []\r\n",
        "train_accs = []\r\n",
        "dev_accs = []\r\n",
        "\r\n",
        "for epoch in range(1, N_EPOCHS + 1):\r\n",
        "    start_time = time.time()\r\n",
        "    train_loss, train_acc = train(epoch, model, train_it, optimizer, criterion)\r\n",
        "    dev_loss, dev_acc = evaluate(model, dev_it, criterion)\r\n",
        "    end_time = time.time()\r\n",
        "    epoch_time = end_time - start_time\r\n",
        "\r\n",
        "    train_losses.append(train_loss)\r\n",
        "    dev_losses.append(dev_loss)\r\n",
        "    train_accs.append(train_acc)\r\n",
        "    dev_accs.append(dev_acc)\r\n",
        "\r\n",
        "    if dev_loss < best_loss:\r\n",
        "        best_loss = dev_loss\r\n",
        "        torch.save(model.state_dict(), \"best_model.pth\")\r\n",
        "\r\n",
        "    print(f\"Epoch {epoch} | Time: {epoch_time}\")\r\n",
        "    print(f'\\tTrain Loss: {train_loss:.3f} | Train Acc: {train_acc*100:.4f}%')\r\n",
        "    print(f'\\t  Dev Loss: {dev_loss:.3f} |   Dev Acc: {dev_acc*100:.4f}%')"
      ],
      "execution_count": 27,
      "outputs": [
        {
          "output_type": "stream",
          "text": [
            "Epoch: [1][1/125]\tLoss 1.0688 (1.0688)\tAccuracy 0.43750\n",
            "Epoch: [1][11/125]\tLoss 1.1207 (1.0725)\tAccuracy 0.43608\n",
            "Epoch: [1][21/125]\tLoss 1.0901 (1.0839)\tAccuracy 0.40402\n",
            "Epoch: [1][31/125]\tLoss 1.0060 (1.0791)\tAccuracy 0.41935\n",
            "Epoch: [1][41/125]\tLoss 1.0643 (1.0704)\tAccuracy 0.42569\n",
            "Epoch: [1][51/125]\tLoss 1.0184 (1.0600)\tAccuracy 0.44179\n",
            "Epoch: [1][61/125]\tLoss 1.0508 (1.0571)\tAccuracy 0.44365\n",
            "Epoch: [1][71/125]\tLoss 1.3921 (1.0592)\tAccuracy 0.44718\n",
            "Epoch: [1][81/125]\tLoss 1.0611 (1.0570)\tAccuracy 0.45235\n",
            "Epoch: [1][91/125]\tLoss 1.0103 (1.0554)\tAccuracy 0.45810\n",
            "Epoch: [1][101/125]\tLoss 1.0539 (1.0537)\tAccuracy 0.45808\n",
            "Epoch: [1][111/125]\tLoss 1.0425 (1.0512)\tAccuracy 0.45988\n",
            "Epoch: [1][121/125]\tLoss 1.1048 (1.0466)\tAccuracy 0.46333\n",
            "Epoch 1 | Time: 23.608086585998535\n",
            "\tTrain Loss: 1.044 | Train Acc: 46.5875%\n",
            "\t  Dev Loss: 0.966 |   Dev Acc: 57.3000%\n",
            "Epoch: [2][1/125]\tLoss 0.8344 (0.8344)\tAccuracy 0.71875\n",
            "Epoch: [2][11/125]\tLoss 1.0163 (0.9656)\tAccuracy 0.55398\n",
            "Epoch: [2][21/125]\tLoss 0.8509 (0.9557)\tAccuracy 0.55580\n",
            "Epoch: [2][31/125]\tLoss 0.8939 (0.9406)\tAccuracy 0.56099\n",
            "Epoch: [2][41/125]\tLoss 0.9441 (0.9379)\tAccuracy 0.56136\n",
            "Epoch: [2][51/125]\tLoss 0.8998 (0.9402)\tAccuracy 0.56127\n",
            "Epoch: [2][61/125]\tLoss 0.9491 (0.9432)\tAccuracy 0.56019\n",
            "Epoch: [2][71/125]\tLoss 1.0887 (0.9460)\tAccuracy 0.55832\n",
            "Epoch: [2][81/125]\tLoss 0.9045 (0.9422)\tAccuracy 0.56617\n",
            "Epoch: [2][91/125]\tLoss 0.8214 (0.9373)\tAccuracy 0.56696\n",
            "Epoch: [2][101/125]\tLoss 0.8002 (0.9301)\tAccuracy 0.56977\n",
            "Epoch: [2][111/125]\tLoss 0.9180 (0.9312)\tAccuracy 0.56799\n",
            "Epoch: [2][121/125]\tLoss 0.8992 (0.9328)\tAccuracy 0.56818\n",
            "Epoch 2 | Time: 24.270570278167725\n",
            "\tTrain Loss: 0.932 | Train Acc: 56.8750%\n",
            "\t  Dev Loss: 0.877 |   Dev Acc: 60.3000%\n",
            "Epoch: [3][1/125]\tLoss 0.7669 (0.7669)\tAccuracy 0.65625\n",
            "Epoch: [3][11/125]\tLoss 0.9721 (0.8593)\tAccuracy 0.62216\n",
            "Epoch: [3][21/125]\tLoss 0.9859 (0.9062)\tAccuracy 0.58929\n",
            "Epoch: [3][31/125]\tLoss 0.6552 (0.8786)\tAccuracy 0.60484\n",
            "Epoch: [3][41/125]\tLoss 0.8671 (0.8683)\tAccuracy 0.60747\n",
            "Epoch: [3][51/125]\tLoss 0.7708 (0.8546)\tAccuracy 0.61336\n",
            "Epoch: [3][61/125]\tLoss 0.8459 (0.8489)\tAccuracy 0.61629\n",
            "Epoch: [3][71/125]\tLoss 0.9716 (0.8465)\tAccuracy 0.62126\n",
            "Epoch: [3][81/125]\tLoss 0.8390 (0.8531)\tAccuracy 0.61516\n",
            "Epoch: [3][91/125]\tLoss 0.7753 (0.8462)\tAccuracy 0.61916\n",
            "Epoch: [3][101/125]\tLoss 0.6686 (0.8417)\tAccuracy 0.62098\n",
            "Epoch: [3][111/125]\tLoss 0.7107 (0.8391)\tAccuracy 0.62120\n",
            "Epoch: [3][121/125]\tLoss 0.7709 (0.8352)\tAccuracy 0.62138\n",
            "Epoch 3 | Time: 25.08357524871826\n",
            "\tTrain Loss: 0.831 | Train Acc: 62.4250%\n",
            "\t  Dev Loss: 0.810 |   Dev Acc: 67.4000%\n",
            "Epoch: [4][1/125]\tLoss 0.6361 (0.6361)\tAccuracy 0.68750\n",
            "Epoch: [4][11/125]\tLoss 0.7563 (0.7523)\tAccuracy 0.66619\n",
            "Epoch: [4][21/125]\tLoss 0.8212 (0.7310)\tAccuracy 0.67932\n",
            "Epoch: [4][31/125]\tLoss 0.6299 (0.7232)\tAccuracy 0.68095\n",
            "Epoch: [4][41/125]\tLoss 0.8807 (0.7435)\tAccuracy 0.66883\n",
            "Epoch: [4][51/125]\tLoss 0.7713 (0.7446)\tAccuracy 0.66881\n",
            "Epoch: [4][61/125]\tLoss 0.7049 (0.7478)\tAccuracy 0.66598\n",
            "Epoch: [4][71/125]\tLoss 0.6885 (0.7487)\tAccuracy 0.66637\n",
            "Epoch: [4][81/125]\tLoss 0.6622 (0.7487)\tAccuracy 0.66609\n",
            "Epoch: [4][91/125]\tLoss 0.7240 (0.7451)\tAccuracy 0.66672\n",
            "Epoch: [4][101/125]\tLoss 0.7259 (0.7355)\tAccuracy 0.67157\n",
            "Epoch: [4][111/125]\tLoss 0.8951 (0.7416)\tAccuracy 0.66962\n",
            "Epoch: [4][121/125]\tLoss 0.5850 (0.7422)\tAccuracy 0.67162\n",
            "Epoch 4 | Time: 25.670502185821533\n",
            "\tTrain Loss: 0.743 | Train Acc: 67.1000%\n",
            "\t  Dev Loss: 0.870 |   Dev Acc: 62.2000%\n",
            "Epoch: [5][1/125]\tLoss 0.7623 (0.7623)\tAccuracy 0.67188\n",
            "Epoch: [5][11/125]\tLoss 0.6042 (0.8006)\tAccuracy 0.61932\n",
            "Epoch: [5][21/125]\tLoss 0.8912 (0.7684)\tAccuracy 0.64732\n",
            "Epoch: [5][31/125]\tLoss 0.7125 (0.7611)\tAccuracy 0.65323\n",
            "Epoch: [5][41/125]\tLoss 0.8256 (0.7404)\tAccuracy 0.66463\n",
            "Epoch: [5][51/125]\tLoss 0.6973 (0.7359)\tAccuracy 0.67310\n",
            "Epoch: [5][61/125]\tLoss 0.7029 (0.7199)\tAccuracy 0.68238\n",
            "Epoch: [5][71/125]\tLoss 0.5979 (0.7149)\tAccuracy 0.68222\n",
            "Epoch: [5][81/125]\tLoss 0.7451 (0.7202)\tAccuracy 0.67863\n",
            "Epoch: [5][91/125]\tLoss 0.6228 (0.7189)\tAccuracy 0.67977\n",
            "Epoch: [5][101/125]\tLoss 0.6900 (0.7159)\tAccuracy 0.68100\n",
            "Epoch: [5][111/125]\tLoss 0.6434 (0.7087)\tAccuracy 0.68637\n",
            "Epoch: [5][121/125]\tLoss 0.5560 (0.7049)\tAccuracy 0.68892\n",
            "Epoch 5 | Time: 25.17046856880188\n",
            "\tTrain Loss: 0.703 | Train Acc: 68.9250%\n",
            "\t  Dev Loss: 0.677 |   Dev Acc: 70.1000%\n",
            "Epoch: [6][1/125]\tLoss 0.5367 (0.5367)\tAccuracy 0.79688\n",
            "Epoch: [6][11/125]\tLoss 0.6572 (0.6960)\tAccuracy 0.69034\n",
            "Epoch: [6][21/125]\tLoss 0.5992 (0.6800)\tAccuracy 0.70312\n",
            "Epoch: [6][31/125]\tLoss 0.5552 (0.6681)\tAccuracy 0.71018\n",
            "Epoch: [6][41/125]\tLoss 0.6267 (0.6522)\tAccuracy 0.71837\n",
            "Epoch: [6][51/125]\tLoss 0.6395 (0.6400)\tAccuracy 0.72365\n",
            "Epoch: [6][61/125]\tLoss 0.5661 (0.6358)\tAccuracy 0.72874\n",
            "Epoch: [6][71/125]\tLoss 0.4935 (0.6329)\tAccuracy 0.73107\n",
            "Epoch: [6][81/125]\tLoss 0.4757 (0.6203)\tAccuracy 0.73727\n",
            "Epoch: [6][91/125]\tLoss 0.7052 (0.6207)\tAccuracy 0.73678\n",
            "Epoch: [6][101/125]\tLoss 0.4782 (0.6203)\tAccuracy 0.73561\n",
            "Epoch: [6][111/125]\tLoss 0.6433 (0.6160)\tAccuracy 0.73592\n",
            "Epoch: [6][121/125]\tLoss 0.5437 (0.6132)\tAccuracy 0.73631\n",
            "Epoch 6 | Time: 25.217851877212524\n",
            "\tTrain Loss: 0.610 | Train Acc: 73.7750%\n",
            "\t  Dev Loss: 0.697 |   Dev Acc: 70.1000%\n",
            "Epoch: [7][1/125]\tLoss 0.4545 (0.4545)\tAccuracy 0.78125\n",
            "Epoch: [7][11/125]\tLoss 0.5666 (0.5118)\tAccuracy 0.77841\n",
            "Epoch: [7][21/125]\tLoss 0.7274 (0.5383)\tAccuracy 0.76488\n",
            "Epoch: [7][31/125]\tLoss 0.5359 (0.5345)\tAccuracy 0.76714\n",
            "Epoch: [7][41/125]\tLoss 0.6092 (0.5553)\tAccuracy 0.76601\n",
            "Epoch: [7][51/125]\tLoss 0.6352 (0.5662)\tAccuracy 0.76348\n",
            "Epoch: [7][61/125]\tLoss 0.4513 (0.5598)\tAccuracy 0.76665\n",
            "Epoch: [7][71/125]\tLoss 0.5385 (0.5618)\tAccuracy 0.76298\n",
            "Epoch: [7][81/125]\tLoss 0.5573 (0.5580)\tAccuracy 0.76350\n",
            "Epoch: [7][91/125]\tLoss 0.4871 (0.5525)\tAccuracy 0.76545\n",
            "Epoch: [7][101/125]\tLoss 0.6563 (0.5529)\tAccuracy 0.76377\n",
            "Epoch: [7][111/125]\tLoss 0.4341 (0.5466)\tAccuracy 0.76717\n",
            "Epoch: [7][121/125]\tLoss 0.5324 (0.5518)\tAccuracy 0.76562\n",
            "Epoch 7 | Time: 25.523149013519287\n",
            "\tTrain Loss: 0.552 | Train Acc: 76.6250%\n",
            "\t  Dev Loss: 0.689 |   Dev Acc: 69.5000%\n",
            "Epoch: [8][1/125]\tLoss 0.7016 (0.7016)\tAccuracy 0.73438\n",
            "Epoch: [8][11/125]\tLoss 0.4199 (0.5145)\tAccuracy 0.80682\n",
            "Epoch: [8][21/125]\tLoss 0.5064 (0.4959)\tAccuracy 0.79985\n",
            "Epoch: [8][31/125]\tLoss 0.4783 (0.4973)\tAccuracy 0.79688\n",
            "Epoch: [8][41/125]\tLoss 0.4346 (0.4869)\tAccuracy 0.80145\n",
            "Epoch: [8][51/125]\tLoss 0.3962 (0.4951)\tAccuracy 0.79442\n",
            "Epoch: [8][61/125]\tLoss 0.6722 (0.4976)\tAccuracy 0.79611\n",
            "Epoch: [8][71/125]\tLoss 0.4143 (0.5008)\tAccuracy 0.79335\n",
            "Epoch: [8][81/125]\tLoss 0.7265 (0.4997)\tAccuracy 0.79167\n",
            "Epoch: [8][91/125]\tLoss 0.6462 (0.5066)\tAccuracy 0.78777\n",
            "Epoch: [8][101/125]\tLoss 0.5080 (0.5067)\tAccuracy 0.78682\n",
            "Epoch: [8][111/125]\tLoss 0.3380 (0.5058)\tAccuracy 0.78533\n",
            "Epoch: [8][121/125]\tLoss 0.5915 (0.5076)\tAccuracy 0.78551\n",
            "Epoch 8 | Time: 25.41402316093445\n",
            "\tTrain Loss: 0.508 | Train Acc: 78.5625%\n",
            "\t  Dev Loss: 0.683 |   Dev Acc: 69.7000%\n",
            "Epoch: [9][1/125]\tLoss 0.3977 (0.3977)\tAccuracy 0.87500\n",
            "Epoch: [9][11/125]\tLoss 0.3574 (0.4733)\tAccuracy 0.80256\n",
            "Epoch: [9][21/125]\tLoss 0.3950 (0.4662)\tAccuracy 0.81101\n",
            "Epoch: [9][31/125]\tLoss 0.6224 (0.4747)\tAccuracy 0.80393\n",
            "Epoch: [9][41/125]\tLoss 0.4149 (0.4413)\tAccuracy 0.81631\n",
            "Epoch: [9][51/125]\tLoss 0.4301 (0.4543)\tAccuracy 0.81127\n",
            "Epoch: [9][61/125]\tLoss 0.5130 (0.4686)\tAccuracy 0.80507\n",
            "Epoch: [9][71/125]\tLoss 0.5529 (0.4709)\tAccuracy 0.80172\n",
            "Epoch: [9][81/125]\tLoss 0.4005 (0.4705)\tAccuracy 0.80247\n",
            "Epoch: [9][91/125]\tLoss 0.2436 (0.4645)\tAccuracy 0.80632\n",
            "Epoch: [9][101/125]\tLoss 0.4891 (0.4622)\tAccuracy 0.80662\n",
            "Epoch: [9][111/125]\tLoss 0.4009 (0.4645)\tAccuracy 0.80617\n",
            "Epoch: [9][121/125]\tLoss 0.5012 (0.4644)\tAccuracy 0.80708\n",
            "Epoch 9 | Time: 25.36943244934082\n",
            "\tTrain Loss: 0.462 | Train Acc: 80.8125%\n",
            "\t  Dev Loss: 0.736 |   Dev Acc: 71.0000%\n",
            "Epoch: [10][1/125]\tLoss 0.5436 (0.5436)\tAccuracy 0.75000\n",
            "Epoch: [10][11/125]\tLoss 0.3680 (0.3523)\tAccuracy 0.86222\n",
            "Epoch: [10][21/125]\tLoss 0.3566 (0.3861)\tAccuracy 0.84449\n",
            "Epoch: [10][31/125]\tLoss 0.4687 (0.3830)\tAccuracy 0.84476\n",
            "Epoch: [10][41/125]\tLoss 0.3450 (0.3772)\tAccuracy 0.84756\n",
            "Epoch: [10][51/125]\tLoss 0.4676 (0.3838)\tAccuracy 0.84344\n",
            "Epoch: [10][61/125]\tLoss 0.3831 (0.3866)\tAccuracy 0.84119\n",
            "Epoch: [10][71/125]\tLoss 0.5696 (0.3955)\tAccuracy 0.83869\n",
            "Epoch: [10][81/125]\tLoss 0.4208 (0.4075)\tAccuracy 0.83295\n",
            "Epoch: [10][91/125]\tLoss 0.3718 (0.4109)\tAccuracy 0.83122\n",
            "Epoch: [10][101/125]\tLoss 0.2604 (0.4125)\tAccuracy 0.83122\n",
            "Epoch: [10][111/125]\tLoss 0.4414 (0.4132)\tAccuracy 0.82995\n",
            "Epoch: [10][121/125]\tLoss 0.4795 (0.4136)\tAccuracy 0.82929\n",
            "Epoch 10 | Time: 25.40539860725403\n",
            "\tTrain Loss: 0.415 | Train Acc: 82.8625%\n",
            "\t  Dev Loss: 0.652 |   Dev Acc: 71.1000%\n"
          ],
          "name": "stdout"
        }
      ]
    },
    {
      "cell_type": "markdown",
      "metadata": {
        "id": "bjcidozSMQVS"
      },
      "source": [
        "Let's look at the performance of the best model on the test set."
      ]
    },
    {
      "cell_type": "code",
      "metadata": {
        "colab": {
          "base_uri": "https://localhost:8080/"
        },
        "id": "SP-Wvd6qMP0V",
        "outputId": "284ebaf8-d1e0-4254-a146-1f9dbfe43646"
      },
      "source": [
        "model.load_state_dict(torch.load(\"best_model.pth\"))\r\n",
        "test_loss, test_acc = evaluate(model, test_it, criterion)\r\n",
        "\r\n",
        "print(f\"Test Loss: {test_loss:3f} | Test Acc: {test_acc * 100:4f}%\")"
      ],
      "execution_count": 78,
      "outputs": [
        {
          "output_type": "stream",
          "text": [
            "Test Loss: 0.630804 | Test Acc: 72.500000%\n"
          ],
          "name": "stdout"
        }
      ]
    },
    {
      "cell_type": "markdown",
      "metadata": {
        "id": "EDgwL_iiM2qe"
      },
      "source": [
        "The accuracy can be improved by tweaking some of the hyperparameters in the training and model. We will leave it like this for now, for the sake of demonstration.\r\n",
        "\r\n",
        "Let's plot the train and validation statistics for loss and accuracy for each epoch."
      ]
    },
    {
      "cell_type": "code",
      "metadata": {
        "colab": {
          "base_uri": "https://localhost:8080/",
          "height": 573
        },
        "id": "n7gP8ddiQB-n",
        "outputId": "2ffb6377-3a08-43cc-e66e-06e29143bd2d"
      },
      "source": [
        "import numpy as np\r\n",
        "import matplotlib.pyplot as plt\r\n",
        "\r\n",
        "plt.plot(np.arange(N_EPOCHS), train_accs)\r\n",
        "plt.plot(np.arange(N_EPOCHS), dev_accs)\r\n",
        "plt.title(\"model accuracy\")\r\n",
        "plt.ylabel(\"accuracy\")\r\n",
        "plt.xlabel(\"epoch\")\r\n",
        "plt.legend([\"train\", \"dev\"], loc=\"upper left\")\r\n",
        "plt.show()\r\n",
        "\r\n",
        "plt.plot(np.arange(N_EPOCHS), train_losses)\r\n",
        "plt.plot(np.arange(N_EPOCHS), dev_losses)\r\n",
        "plt.title(\"model loss\")\r\n",
        "plt.ylabel(\"loss\")\r\n",
        "plt.xlabel(\"epoch\")\r\n",
        "plt.legend([\"train\", \"dev\"], loc=\"upper left\")\r\n",
        "plt.show()"
      ],
      "execution_count": 31,
      "outputs": [
        {
          "output_type": "display_data",
          "data": {
            "image/png": "[encoded data removed]",
            "text/plain": [
              "<Figure size 432x288 with 1 Axes>"
            ]
          },
          "metadata": {
            "tags": [],
            "needs_background": "light"
          }
        },
        {
          "output_type": "display_data",
          "data": {
            "image/png": "[encoded data removed]",
            "text/plain": [
              "<Figure size 432x288 with 1 Axes>"
            ]
          },
          "metadata": {
            "tags": [],
            "needs_background": "light"
          }
        }
      ]
    },
    {
      "cell_type": "markdown",
      "metadata": {
        "id": "qJRYPVqWV-l4"
      },
      "source": [
        "Let's make predictions for new texts."
      ]
    },
    {
      "cell_type": "code",
      "metadata": {
        "id": "cCZiLDDIUinT"
      },
      "source": [
        "def predict_class(model, sentence, tokenizer=tokenize, stoi=TEXT_FIELD.vocab.stoi, device=DEVICE):\r\n",
        "    model.eval()\r\n",
        "    tokens = tokenize(sentence)\r\n",
        "    numericalized = [stoi[token] for token in tokens]\r\n",
        "    length = [len(numericalized)]\r\n",
        "    input = torch.LongTensor(numericalized).to(device)\r\n",
        "    input = input.unsqueeze(0)  # size 1 batch\r\n",
        "    length = torch.LongTensor(length)\r\n",
        "\r\n",
        "    pred = model(input, length)\r\n",
        "    y_hat = pred.max(1)[1]  # class predictions\r\n",
        "    confidence = pred.max(1)[0]  # prediction confidence\r\n",
        "\r\n",
        "    return y_hat.item(), torch.exp(confidence).item()"
      ],
      "execution_count": 114,
      "outputs": []
    },
    {
      "cell_type": "markdown",
      "metadata": {
        "id": "wEUzDEpRbtnU"
      },
      "source": [
        "Evaluate test reviews one by one using predict and print accuracy."
      ]
    },
    {
      "cell_type": "code",
      "metadata": {
        "colab": {
          "base_uri": "https://localhost:8080/"
        },
        "id": "AsO_-iwpWCoQ",
        "outputId": "53bcf138-b9c7-4ed4-ba8a-9261f4c632b8"
      },
      "source": [
        "from tqdm import tqdm\r\n",
        "\r\n",
        "cnt = 0\r\n",
        "for text, label in tqdm(zip(df_test.text, df_test[\"class\"]), total=len(df_test.text)):\r\n",
        "    y_hat, confidence = predict_class(model, text)\r\n",
        "    if y_hat == label + 1:  # recall we reindexed the labels from -1/0/1 to 0/1/2\r\n",
        "        cnt += 1\r\n",
        "print()\r\n",
        "print(cnt / len(df_test.text))"
      ],
      "execution_count": 119,
      "outputs": [
        {
          "output_type": "stream",
          "text": [
            "100%|██████████| 1000/1000 [00:47<00:00, 21.21it/s]"
          ],
          "name": "stderr"
        },
        {
          "output_type": "stream",
          "text": [
            "\n",
            "0.725\n"
          ],
          "name": "stdout"
        },
        {
          "output_type": "stream",
          "text": [
            "\n"
          ],
          "name": "stderr"
        }
      ]
    },
    {
      "cell_type": "markdown",
      "metadata": {
        "id": "7s4GZY_Ab5KI"
      },
      "source": [
        "Some examples:"
      ]
    },
    {
      "cell_type": "code",
      "metadata": {
        "colab": {
          "base_uri": "https://localhost:8080/"
        },
        "id": "eNgypgLCb7w4",
        "outputId": "2f334df3-7a8e-4c96-8cff-21c80f8d8d84"
      },
      "source": [
        "y_hat, confidence = predict_class(model, \"This movie was amazing!\")  # expected class: 2 (positive)\r\n",
        "y_hat, confidence"
      ],
      "execution_count": 121,
      "outputs": [
        {
          "output_type": "execute_result",
          "data": {
            "text/plain": [
              "(2, 0.9891038537025452)"
            ]
          },
          "metadata": {
            "tags": []
          },
          "execution_count": 121
        }
      ]
    },
    {
      "cell_type": "code",
      "metadata": {
        "colab": {
          "base_uri": "https://localhost:8080/"
        },
        "id": "RGkxDvQ0ca74",
        "outputId": "6f6c97d8-a8a0-4e80-d0ab-066853032991"
      },
      "source": [
        "y_hat, confidence = predict_class(model, \"This movie was mediocre\")  # expected class: 1 (neutral)\r\n",
        "y_hat, confidence"
      ],
      "execution_count": 123,
      "outputs": [
        {
          "output_type": "execute_result",
          "data": {
            "text/plain": [
              "(1, 0.6623865365982056)"
            ]
          },
          "metadata": {
            "tags": []
          },
          "execution_count": 123
        }
      ]
    },
    {
      "cell_type": "code",
      "metadata": {
        "colab": {
          "base_uri": "https://localhost:8080/"
        },
        "id": "uBCNIUzXclUU",
        "outputId": "10362d34-5ffd-4789-b6e4-b431675e5150"
      },
      "source": [
        "y_hat, confidence = predict_class(model, \"I have seen an awful movie...\")  # expected class: 0 (negative)\r\n",
        "y_hat, confidence"
      ],
      "execution_count": 124,
      "outputs": [
        {
          "output_type": "execute_result",
          "data": {
            "text/plain": [
              "(0, 0.9356390833854675)"
            ]
          },
          "metadata": {
            "tags": []
          },
          "execution_count": 124
        }
      ]
    }
  ]
}