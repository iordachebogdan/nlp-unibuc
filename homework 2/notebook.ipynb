{
 "metadata": {
  "language_info": {
   "codemirror_mode": {
    "name": "ipython",
    "version": 3
   },
   "file_extension": ".py",
   "mimetype": "text/x-python",
   "name": "python",
   "nbconvert_exporter": "python",
   "pygments_lexer": "ipython3",
   "version": "3.8.5-final"
  },
  "orig_nbformat": 2,
  "kernelspec": {
   "name": "python38564bitenvvenvccac66feb23c44e082c65e6120d9a1ec",
   "display_name": "Python 3.8.5 64-bit ('env': venv)"
  }
 },
 "nbformat": 4,
 "nbformat_minor": 2,
 "cells": [
  {
   "source": [
    "# Representation of text data\n",
    "\n",
    "Using the notebook from the previous homework we extracted around 2000 reviews from 20 movies. We will use this dataset to experiment with different methods of representation of text data."
   ],
   "cell_type": "markdown",
   "metadata": {}
  },
  {
   "cell_type": "code",
   "execution_count": 61,
   "metadata": {},
   "outputs": [
    {
     "output_type": "execute_result",
     "data": {
      "text/plain": [
       "            movie                                           title  \\\n",
       "0            Moon                        Amazing Throwback Sci-Fi   \n",
       "1      The Chorus  Marvellous - Please do not remake in English!!   \n",
       "2  The Green Mile                                          Crap !   \n",
       "3      Detachment       A touching, thought provoking masterpiece   \n",
       "4      Detachment                              Best Movie of 2011   \n",
       "\n",
       "                                                text  score  \\\n",
       "0  There is little that I can do by way of review...   10.0   \n",
       "1  I recorded this on my Sky Plus box out of curi...   10.0   \n",
       "2  Hard to believe that so many people seem to be...    1.0   \n",
       "3  Wow, was not expecting that! Popped into the c...   10.0   \n",
       "4  Saw this at a local film festival with little ...   10.0   \n",
       "\n",
       "                user        date  helpfulness_votes  \\\n",
       "0     drunkenhopfrog  2009/07/24                 41   \n",
       "1        beresfordjd  2006/05/01                  4   \n",
       "2         Doc-Zucker  2006/04/17                137   \n",
       "3  darren-153-890810  2012/07/18                  6   \n",
       "4            feguiza  2011/11/27                312   \n",
       "\n",
       "   positive_helpfulness_votes  \n",
       "0                          27  \n",
       "1                           3  \n",
       "2                          40  \n",
       "3                           4  \n",
       "4                         274  "
      ],
      "text/html": "<div>\n<style scoped>\n    .dataframe tbody tr th:only-of-type {\n        vertical-align: middle;\n    }\n\n    .dataframe tbody tr th {\n        vertical-align: top;\n    }\n\n    .dataframe thead th {\n        text-align: right;\n    }\n</style>\n<table border=\"1\" class=\"dataframe\">\n  <thead>\n    <tr style=\"text-align: right;\">\n      <th></th>\n      <th>movie</th>\n      <th>title</th>\n      <th>text</th>\n      <th>score</th>\n      <th>user</th>\n      <th>date</th>\n      <th>helpfulness_votes</th>\n      <th>positive_helpfulness_votes</th>\n    </tr>\n  </thead>\n  <tbody>\n    <tr>\n      <th>0</th>\n      <td>Moon</td>\n      <td>Amazing Throwback Sci-Fi</td>\n      <td>There is little that I can do by way of review...</td>\n      <td>10.0</td>\n      <td>drunkenhopfrog</td>\n      <td>2009/07/24</td>\n      <td>41</td>\n      <td>27</td>\n    </tr>\n    <tr>\n      <th>1</th>\n      <td>The Chorus</td>\n      <td>Marvellous - Please do not remake in English!!</td>\n      <td>I recorded this on my Sky Plus box out of curi...</td>\n      <td>10.0</td>\n      <td>beresfordjd</td>\n      <td>2006/05/01</td>\n      <td>4</td>\n      <td>3</td>\n    </tr>\n    <tr>\n      <th>2</th>\n      <td>The Green Mile</td>\n      <td>Crap !</td>\n      <td>Hard to believe that so many people seem to be...</td>\n      <td>1.0</td>\n      <td>Doc-Zucker</td>\n      <td>2006/04/17</td>\n      <td>137</td>\n      <td>40</td>\n    </tr>\n    <tr>\n      <th>3</th>\n      <td>Detachment</td>\n      <td>A touching, thought provoking masterpiece</td>\n      <td>Wow, was not expecting that! Popped into the c...</td>\n      <td>10.0</td>\n      <td>darren-153-890810</td>\n      <td>2012/07/18</td>\n      <td>6</td>\n      <td>4</td>\n    </tr>\n    <tr>\n      <th>4</th>\n      <td>Detachment</td>\n      <td>Best Movie of 2011</td>\n      <td>Saw this at a local film festival with little ...</td>\n      <td>10.0</td>\n      <td>feguiza</td>\n      <td>2011/11/27</td>\n      <td>312</td>\n      <td>274</td>\n    </tr>\n  </tbody>\n</table>\n</div>"
     },
     "metadata": {},
     "execution_count": 61
    }
   ],
   "source": [
    "import pandas as pd\n",
    "\n",
    "df = pd.read_csv(\"../homework 1/imdb_reviews.csv\", index_col=0)\n",
    "df.head()"
   ]
  },
  {
   "source": [
    "We will keep only the text and score fields since we are aiming at a classification task for positive, negative and neutral reviews. We also remove any reviews without a score."
   ],
   "cell_type": "markdown",
   "metadata": {}
  },
  {
   "cell_type": "code",
   "execution_count": 62,
   "metadata": {},
   "outputs": [
    {
     "output_type": "execute_result",
     "data": {
      "text/plain": [
       "                                                text  score\n",
       "0  There is little that I can do by way of review...   10.0\n",
       "1  I recorded this on my Sky Plus box out of curi...   10.0\n",
       "2  Hard to believe that so many people seem to be...    1.0\n",
       "3  Wow, was not expecting that! Popped into the c...   10.0\n",
       "4  Saw this at a local film festival with little ...   10.0"
      ],
      "text/html": "<div>\n<style scoped>\n    .dataframe tbody tr th:only-of-type {\n        vertical-align: middle;\n    }\n\n    .dataframe tbody tr th {\n        vertical-align: top;\n    }\n\n    .dataframe thead th {\n        text-align: right;\n    }\n</style>\n<table border=\"1\" class=\"dataframe\">\n  <thead>\n    <tr style=\"text-align: right;\">\n      <th></th>\n      <th>text</th>\n      <th>score</th>\n    </tr>\n  </thead>\n  <tbody>\n    <tr>\n      <th>0</th>\n      <td>There is little that I can do by way of review...</td>\n      <td>10.0</td>\n    </tr>\n    <tr>\n      <th>1</th>\n      <td>I recorded this on my Sky Plus box out of curi...</td>\n      <td>10.0</td>\n    </tr>\n    <tr>\n      <th>2</th>\n      <td>Hard to believe that so many people seem to be...</td>\n      <td>1.0</td>\n    </tr>\n    <tr>\n      <th>3</th>\n      <td>Wow, was not expecting that! Popped into the c...</td>\n      <td>10.0</td>\n    </tr>\n    <tr>\n      <th>4</th>\n      <td>Saw this at a local film festival with little ...</td>\n      <td>10.0</td>\n    </tr>\n  </tbody>\n</table>\n</div>"
     },
     "metadata": {},
     "execution_count": 62
    }
   ],
   "source": [
    "df = df.drop([\"movie\", \"title\", \"user\", \"date\", \"helpfulness_votes\", \"positive_helpfulness_votes\"], axis=1)\n",
    "df = df.dropna()\n",
    "df.head()"
   ]
  },
  {
   "source": [
    "We plot the frequencies for each possible score in the dataset."
   ],
   "cell_type": "markdown",
   "metadata": {}
  },
  {
   "cell_type": "code",
   "execution_count": 63,
   "metadata": {},
   "outputs": [
    {
     "output_type": "execute_result",
     "data": {
      "text/plain": [
       "<AxesSubplot:>"
      ]
     },
     "metadata": {},
     "execution_count": 63
    },
    {
     "output_type": "display_data",
     "data": {
      "text/plain": "<Figure size 432x288 with 1 Axes>",
      "image/svg+xml": "<?xml version=\"1.0\" encoding=\"utf-8\" standalone=\"no\"?>\n<!DOCTYPE svg PUBLIC \"-//W3C//DTD SVG 1.1//EN\"\n  \"http://www.w3.org/Graphics/SVG/1.1/DTD/svg11.dtd\">\n<!-- Created with matplotlib (https://matplotlib.org/) -->\n<svg height=\"261.105625pt\" version=\"1.1\" viewBox=\"0 0 375.2875 261.105625\" width=\"375.2875pt\" xmlns=\"http://www.w3.org/2000/svg\" xmlns:xlink=\"http://www.w3.org/1999/xlink\">\n <metadata>\n  <rdf:RDF xmlns:cc=\"http://creativecommons.org/ns#\" xmlns:dc=\"http://purl.org/dc/elements/1.1/\" xmlns:rdf=\"http://www.w3.org/1999/02/22-rdf-syntax-ns#\">\n   <cc:Work>\n    <dc:type rdf:resource=\"http://purl.org/dc/dcmitype/StillImage\"/>\n    <dc:date>2020-12-01T21:27:27.867299</dc:date>\n    <dc:format>image/svg+xml</dc:format>\n    <dc:creator>\n     <cc:Agent>\n      <dc:title>Matplotlib v3.3.3, https://matplotlib.org/</dc:title>\n     </cc:Agent>\n    </dc:creator>\n   </cc:Work>\n  </rdf:RDF>\n </metadata>\n <defs>\n  <style type=\"text/css\">*{stroke-linecap:butt;stroke-linejoin:round;}</style>\n </defs>\n <g id=\"figure_1\">\n  <g id=\"patch_1\">\n   <path d=\"M 0 261.105625 \nL 375.2875 261.105625 \nL 375.2875 0 \nL 0 0 \nz\n\" style=\"fill:none;\"/>\n  </g>\n  <g id=\"axes_1\">\n   <g id=\"patch_2\">\n    <path d=\"M 33.2875 224.64 \nL 368.0875 224.64 \nL 368.0875 7.2 \nL 33.2875 7.2 \nz\n\" style=\"fill:#ffffff;\"/>\n   </g>\n   <g id=\"patch_3\">\n    <path clip-path=\"url(#p41bd46f306)\" d=\"M 41.6575 224.64 \nL 58.3975 224.64 \nL 58.3975 150.223833 \nL 41.6575 150.223833 \nz\n\" style=\"fill:#1f77b4;\"/>\n   </g>\n   <g id=\"patch_4\">\n    <path clip-path=\"url(#p41bd46f306)\" d=\"M 75.1375 224.64 \nL 91.8775 224.64 \nL 91.8775 204.099791 \nL 75.1375 204.099791 \nz\n\" style=\"fill:#1f77b4;\"/>\n   </g>\n   <g id=\"patch_5\">\n    <path clip-path=\"url(#p41bd46f306)\" d=\"M 108.6175 224.64 \nL 125.3575 224.64 \nL 125.3575 201.069268 \nL 108.6175 201.069268 \nz\n\" style=\"fill:#1f77b4;\"/>\n   </g>\n   <g id=\"patch_6\">\n    <path clip-path=\"url(#p41bd46f306)\" d=\"M 142.0975 224.64 \nL 158.8375 224.64 \nL 158.8375 201.742718 \nL 142.0975 201.742718 \nz\n\" style=\"fill:#1f77b4;\"/>\n   </g>\n   <g id=\"patch_7\">\n    <path clip-path=\"url(#p41bd46f306)\" d=\"M 175.5775 224.64 \nL 192.3175 224.64 \nL 192.3175 198.712195 \nL 175.5775 198.712195 \nz\n\" style=\"fill:#1f77b4;\"/>\n   </g>\n   <g id=\"patch_8\">\n    <path clip-path=\"url(#p41bd46f306)\" d=\"M 209.0575 224.64 \nL 225.7975 224.64 \nL 225.7975 198.038746 \nL 209.0575 198.038746 \nz\n\" style=\"fill:#1f77b4;\"/>\n   </g>\n   <g id=\"patch_9\">\n    <path clip-path=\"url(#p41bd46f306)\" d=\"M 242.5375 224.64 \nL 259.2775 224.64 \nL 259.2775 181.875958 \nL 242.5375 181.875958 \nz\n\" style=\"fill:#1f77b4;\"/>\n   </g>\n   <g id=\"patch_10\">\n    <path clip-path=\"url(#p41bd46f306)\" d=\"M 276.0175 224.64 \nL 292.7575 224.64 \nL 292.7575 141.805714 \nL 276.0175 141.805714 \nz\n\" style=\"fill:#1f77b4;\"/>\n   </g>\n   <g id=\"patch_11\">\n    <path clip-path=\"url(#p41bd46f306)\" d=\"M 309.4975 224.64 \nL 326.2375 224.64 \nL 326.2375 122.949129 \nL 309.4975 122.949129 \nz\n\" style=\"fill:#1f77b4;\"/>\n   </g>\n   <g id=\"patch_12\">\n    <path clip-path=\"url(#p41bd46f306)\" d=\"M 342.9775 224.64 \nL 359.7175 224.64 \nL 359.7175 17.554286 \nL 342.9775 17.554286 \nz\n\" style=\"fill:#1f77b4;\"/>\n   </g>\n   <g id=\"matplotlib.axis_1\">\n    <g id=\"xtick_1\">\n     <g id=\"line2d_1\">\n      <defs>\n       <path d=\"M 0 0 \nL 0 3.5 \n\" id=\"m453a97d11f\" style=\"stroke:#000000;stroke-width:0.8;\"/>\n      </defs>\n      <g>\n       <use style=\"stroke:#000000;stroke-width:0.8;\" x=\"50.0275\" xlink:href=\"#m453a97d11f\" y=\"224.64\"/>\n      </g>\n     </g>\n     <g id=\"text_1\">\n      <!-- 1.0 -->\n      <g transform=\"translate(52.786875 247.543125)rotate(-90)scale(0.1 -0.1)\">\n       <defs>\n        <path d=\"M 12.40625 8.296875 \nL 28.515625 8.296875 \nL 28.515625 63.921875 \nL 10.984375 60.40625 \nL 10.984375 69.390625 \nL 28.421875 72.90625 \nL 38.28125 72.90625 \nL 38.28125 8.296875 \nL 54.390625 8.296875 \nL 54.390625 0 \nL 12.40625 0 \nz\n\" id=\"DejaVuSans-49\"/>\n        <path d=\"M 10.6875 12.40625 \nL 21 12.40625 \nL 21 0 \nL 10.6875 0 \nz\n\" id=\"DejaVuSans-46\"/>\n        <path d=\"M 31.78125 66.40625 \nQ 24.171875 66.40625 20.328125 58.90625 \nQ 16.5 51.421875 16.5 36.375 \nQ 16.5 21.390625 20.328125 13.890625 \nQ 24.171875 6.390625 31.78125 6.390625 \nQ 39.453125 6.390625 43.28125 13.890625 \nQ 47.125 21.390625 47.125 36.375 \nQ 47.125 51.421875 43.28125 58.90625 \nQ 39.453125 66.40625 31.78125 66.40625 \nz\nM 31.78125 74.21875 \nQ 44.046875 74.21875 50.515625 64.515625 \nQ 56.984375 54.828125 56.984375 36.375 \nQ 56.984375 17.96875 50.515625 8.265625 \nQ 44.046875 -1.421875 31.78125 -1.421875 \nQ 19.53125 -1.421875 13.0625 8.265625 \nQ 6.59375 17.96875 6.59375 36.375 \nQ 6.59375 54.828125 13.0625 64.515625 \nQ 19.53125 74.21875 31.78125 74.21875 \nz\n\" id=\"DejaVuSans-48\"/>\n       </defs>\n       <use xlink:href=\"#DejaVuSans-49\"/>\n       <use x=\"63.623047\" xlink:href=\"#DejaVuSans-46\"/>\n       <use x=\"95.410156\" xlink:href=\"#DejaVuSans-48\"/>\n      </g>\n     </g>\n    </g>\n    <g id=\"xtick_2\">\n     <g id=\"line2d_2\">\n      <g>\n       <use style=\"stroke:#000000;stroke-width:0.8;\" x=\"83.5075\" xlink:href=\"#m453a97d11f\" y=\"224.64\"/>\n      </g>\n     </g>\n     <g id=\"text_2\">\n      <!-- 2.0 -->\n      <g transform=\"translate(86.266875 247.543125)rotate(-90)scale(0.1 -0.1)\">\n       <defs>\n        <path d=\"M 19.1875 8.296875 \nL 53.609375 8.296875 \nL 53.609375 0 \nL 7.328125 0 \nL 7.328125 8.296875 \nQ 12.9375 14.109375 22.625 23.890625 \nQ 32.328125 33.6875 34.8125 36.53125 \nQ 39.546875 41.84375 41.421875 45.53125 \nQ 43.3125 49.21875 43.3125 52.78125 \nQ 43.3125 58.59375 39.234375 62.25 \nQ 35.15625 65.921875 28.609375 65.921875 \nQ 23.96875 65.921875 18.8125 64.3125 \nQ 13.671875 62.703125 7.8125 59.421875 \nL 7.8125 69.390625 \nQ 13.765625 71.78125 18.9375 73 \nQ 24.125 74.21875 28.421875 74.21875 \nQ 39.75 74.21875 46.484375 68.546875 \nQ 53.21875 62.890625 53.21875 53.421875 \nQ 53.21875 48.921875 51.53125 44.890625 \nQ 49.859375 40.875 45.40625 35.40625 \nQ 44.1875 33.984375 37.640625 27.21875 \nQ 31.109375 20.453125 19.1875 8.296875 \nz\n\" id=\"DejaVuSans-50\"/>\n       </defs>\n       <use xlink:href=\"#DejaVuSans-50\"/>\n       <use x=\"63.623047\" xlink:href=\"#DejaVuSans-46\"/>\n       <use x=\"95.410156\" xlink:href=\"#DejaVuSans-48\"/>\n      </g>\n     </g>\n    </g>\n    <g id=\"xtick_3\">\n     <g id=\"line2d_3\">\n      <g>\n       <use style=\"stroke:#000000;stroke-width:0.8;\" x=\"116.9875\" xlink:href=\"#m453a97d11f\" y=\"224.64\"/>\n      </g>\n     </g>\n     <g id=\"text_3\">\n      <!-- 3.0 -->\n      <g transform=\"translate(119.746875 247.543125)rotate(-90)scale(0.1 -0.1)\">\n       <defs>\n        <path d=\"M 40.578125 39.3125 \nQ 47.65625 37.796875 51.625 33 \nQ 55.609375 28.21875 55.609375 21.1875 \nQ 55.609375 10.40625 48.1875 4.484375 \nQ 40.765625 -1.421875 27.09375 -1.421875 \nQ 22.515625 -1.421875 17.65625 -0.515625 \nQ 12.796875 0.390625 7.625 2.203125 \nL 7.625 11.71875 \nQ 11.71875 9.328125 16.59375 8.109375 \nQ 21.484375 6.890625 26.8125 6.890625 \nQ 36.078125 6.890625 40.9375 10.546875 \nQ 45.796875 14.203125 45.796875 21.1875 \nQ 45.796875 27.640625 41.28125 31.265625 \nQ 36.765625 34.90625 28.71875 34.90625 \nL 20.21875 34.90625 \nL 20.21875 43.015625 \nL 29.109375 43.015625 \nQ 36.375 43.015625 40.234375 45.921875 \nQ 44.09375 48.828125 44.09375 54.296875 \nQ 44.09375 59.90625 40.109375 62.90625 \nQ 36.140625 65.921875 28.71875 65.921875 \nQ 24.65625 65.921875 20.015625 65.03125 \nQ 15.375 64.15625 9.8125 62.3125 \nL 9.8125 71.09375 \nQ 15.4375 72.65625 20.34375 73.4375 \nQ 25.25 74.21875 29.59375 74.21875 \nQ 40.828125 74.21875 47.359375 69.109375 \nQ 53.90625 64.015625 53.90625 55.328125 \nQ 53.90625 49.265625 50.4375 45.09375 \nQ 46.96875 40.921875 40.578125 39.3125 \nz\n\" id=\"DejaVuSans-51\"/>\n       </defs>\n       <use xlink:href=\"#DejaVuSans-51\"/>\n       <use x=\"63.623047\" xlink:href=\"#DejaVuSans-46\"/>\n       <use x=\"95.410156\" xlink:href=\"#DejaVuSans-48\"/>\n      </g>\n     </g>\n    </g>\n    <g id=\"xtick_4\">\n     <g id=\"line2d_4\">\n      <g>\n       <use style=\"stroke:#000000;stroke-width:0.8;\" x=\"150.4675\" xlink:href=\"#m453a97d11f\" y=\"224.64\"/>\n      </g>\n     </g>\n     <g id=\"text_4\">\n      <!-- 4.0 -->\n      <g transform=\"translate(153.226875 247.543125)rotate(-90)scale(0.1 -0.1)\">\n       <defs>\n        <path d=\"M 37.796875 64.3125 \nL 12.890625 25.390625 \nL 37.796875 25.390625 \nz\nM 35.203125 72.90625 \nL 47.609375 72.90625 \nL 47.609375 25.390625 \nL 58.015625 25.390625 \nL 58.015625 17.1875 \nL 47.609375 17.1875 \nL 47.609375 0 \nL 37.796875 0 \nL 37.796875 17.1875 \nL 4.890625 17.1875 \nL 4.890625 26.703125 \nz\n\" id=\"DejaVuSans-52\"/>\n       </defs>\n       <use xlink:href=\"#DejaVuSans-52\"/>\n       <use x=\"63.623047\" xlink:href=\"#DejaVuSans-46\"/>\n       <use x=\"95.410156\" xlink:href=\"#DejaVuSans-48\"/>\n      </g>\n     </g>\n    </g>\n    <g id=\"xtick_5\">\n     <g id=\"line2d_5\">\n      <g>\n       <use style=\"stroke:#000000;stroke-width:0.8;\" x=\"183.9475\" xlink:href=\"#m453a97d11f\" y=\"224.64\"/>\n      </g>\n     </g>\n     <g id=\"text_5\">\n      <!-- 5.0 -->\n      <g transform=\"translate(186.706875 247.543125)rotate(-90)scale(0.1 -0.1)\">\n       <defs>\n        <path d=\"M 10.796875 72.90625 \nL 49.515625 72.90625 \nL 49.515625 64.59375 \nL 19.828125 64.59375 \nL 19.828125 46.734375 \nQ 21.96875 47.46875 24.109375 47.828125 \nQ 26.265625 48.1875 28.421875 48.1875 \nQ 40.625 48.1875 47.75 41.5 \nQ 54.890625 34.8125 54.890625 23.390625 \nQ 54.890625 11.625 47.5625 5.09375 \nQ 40.234375 -1.421875 26.90625 -1.421875 \nQ 22.3125 -1.421875 17.546875 -0.640625 \nQ 12.796875 0.140625 7.71875 1.703125 \nL 7.71875 11.625 \nQ 12.109375 9.234375 16.796875 8.0625 \nQ 21.484375 6.890625 26.703125 6.890625 \nQ 35.15625 6.890625 40.078125 11.328125 \nQ 45.015625 15.765625 45.015625 23.390625 \nQ 45.015625 31 40.078125 35.4375 \nQ 35.15625 39.890625 26.703125 39.890625 \nQ 22.75 39.890625 18.8125 39.015625 \nQ 14.890625 38.140625 10.796875 36.28125 \nz\n\" id=\"DejaVuSans-53\"/>\n       </defs>\n       <use xlink:href=\"#DejaVuSans-53\"/>\n       <use x=\"63.623047\" xlink:href=\"#DejaVuSans-46\"/>\n       <use x=\"95.410156\" xlink:href=\"#DejaVuSans-48\"/>\n      </g>\n     </g>\n    </g>\n    <g id=\"xtick_6\">\n     <g id=\"line2d_6\">\n      <g>\n       <use style=\"stroke:#000000;stroke-width:0.8;\" x=\"217.4275\" xlink:href=\"#m453a97d11f\" y=\"224.64\"/>\n      </g>\n     </g>\n     <g id=\"text_6\">\n      <!-- 6.0 -->\n      <g transform=\"translate(220.186875 247.543125)rotate(-90)scale(0.1 -0.1)\">\n       <defs>\n        <path d=\"M 33.015625 40.375 \nQ 26.375 40.375 22.484375 35.828125 \nQ 18.609375 31.296875 18.609375 23.390625 \nQ 18.609375 15.53125 22.484375 10.953125 \nQ 26.375 6.390625 33.015625 6.390625 \nQ 39.65625 6.390625 43.53125 10.953125 \nQ 47.40625 15.53125 47.40625 23.390625 \nQ 47.40625 31.296875 43.53125 35.828125 \nQ 39.65625 40.375 33.015625 40.375 \nz\nM 52.59375 71.296875 \nL 52.59375 62.3125 \nQ 48.875 64.0625 45.09375 64.984375 \nQ 41.3125 65.921875 37.59375 65.921875 \nQ 27.828125 65.921875 22.671875 59.328125 \nQ 17.53125 52.734375 16.796875 39.40625 \nQ 19.671875 43.65625 24.015625 45.921875 \nQ 28.375 48.1875 33.59375 48.1875 \nQ 44.578125 48.1875 50.953125 41.515625 \nQ 57.328125 34.859375 57.328125 23.390625 \nQ 57.328125 12.15625 50.6875 5.359375 \nQ 44.046875 -1.421875 33.015625 -1.421875 \nQ 20.359375 -1.421875 13.671875 8.265625 \nQ 6.984375 17.96875 6.984375 36.375 \nQ 6.984375 53.65625 15.1875 63.9375 \nQ 23.390625 74.21875 37.203125 74.21875 \nQ 40.921875 74.21875 44.703125 73.484375 \nQ 48.484375 72.75 52.59375 71.296875 \nz\n\" id=\"DejaVuSans-54\"/>\n       </defs>\n       <use xlink:href=\"#DejaVuSans-54\"/>\n       <use x=\"63.623047\" xlink:href=\"#DejaVuSans-46\"/>\n       <use x=\"95.410156\" xlink:href=\"#DejaVuSans-48\"/>\n      </g>\n     </g>\n    </g>\n    <g id=\"xtick_7\">\n     <g id=\"line2d_7\">\n      <g>\n       <use style=\"stroke:#000000;stroke-width:0.8;\" x=\"250.9075\" xlink:href=\"#m453a97d11f\" y=\"224.64\"/>\n      </g>\n     </g>\n     <g id=\"text_7\">\n      <!-- 7.0 -->\n      <g transform=\"translate(253.666875 247.543125)rotate(-90)scale(0.1 -0.1)\">\n       <defs>\n        <path d=\"M 8.203125 72.90625 \nL 55.078125 72.90625 \nL 55.078125 68.703125 \nL 28.609375 0 \nL 18.3125 0 \nL 43.21875 64.59375 \nL 8.203125 64.59375 \nz\n\" id=\"DejaVuSans-55\"/>\n       </defs>\n       <use xlink:href=\"#DejaVuSans-55\"/>\n       <use x=\"63.623047\" xlink:href=\"#DejaVuSans-46\"/>\n       <use x=\"95.410156\" xlink:href=\"#DejaVuSans-48\"/>\n      </g>\n     </g>\n    </g>\n    <g id=\"xtick_8\">\n     <g id=\"line2d_8\">\n      <g>\n       <use style=\"stroke:#000000;stroke-width:0.8;\" x=\"284.3875\" xlink:href=\"#m453a97d11f\" y=\"224.64\"/>\n      </g>\n     </g>\n     <g id=\"text_8\">\n      <!-- 8.0 -->\n      <g transform=\"translate(287.146875 247.543125)rotate(-90)scale(0.1 -0.1)\">\n       <defs>\n        <path d=\"M 31.78125 34.625 \nQ 24.75 34.625 20.71875 30.859375 \nQ 16.703125 27.09375 16.703125 20.515625 \nQ 16.703125 13.921875 20.71875 10.15625 \nQ 24.75 6.390625 31.78125 6.390625 \nQ 38.8125 6.390625 42.859375 10.171875 \nQ 46.921875 13.96875 46.921875 20.515625 \nQ 46.921875 27.09375 42.890625 30.859375 \nQ 38.875 34.625 31.78125 34.625 \nz\nM 21.921875 38.8125 \nQ 15.578125 40.375 12.03125 44.71875 \nQ 8.5 49.078125 8.5 55.328125 \nQ 8.5 64.0625 14.71875 69.140625 \nQ 20.953125 74.21875 31.78125 74.21875 \nQ 42.671875 74.21875 48.875 69.140625 \nQ 55.078125 64.0625 55.078125 55.328125 \nQ 55.078125 49.078125 51.53125 44.71875 \nQ 48 40.375 41.703125 38.8125 \nQ 48.828125 37.15625 52.796875 32.3125 \nQ 56.78125 27.484375 56.78125 20.515625 \nQ 56.78125 9.90625 50.3125 4.234375 \nQ 43.84375 -1.421875 31.78125 -1.421875 \nQ 19.734375 -1.421875 13.25 4.234375 \nQ 6.78125 9.90625 6.78125 20.515625 \nQ 6.78125 27.484375 10.78125 32.3125 \nQ 14.796875 37.15625 21.921875 38.8125 \nz\nM 18.3125 54.390625 \nQ 18.3125 48.734375 21.84375 45.5625 \nQ 25.390625 42.390625 31.78125 42.390625 \nQ 38.140625 42.390625 41.71875 45.5625 \nQ 45.3125 48.734375 45.3125 54.390625 \nQ 45.3125 60.0625 41.71875 63.234375 \nQ 38.140625 66.40625 31.78125 66.40625 \nQ 25.390625 66.40625 21.84375 63.234375 \nQ 18.3125 60.0625 18.3125 54.390625 \nz\n\" id=\"DejaVuSans-56\"/>\n       </defs>\n       <use xlink:href=\"#DejaVuSans-56\"/>\n       <use x=\"63.623047\" xlink:href=\"#DejaVuSans-46\"/>\n       <use x=\"95.410156\" xlink:href=\"#DejaVuSans-48\"/>\n      </g>\n     </g>\n    </g>\n    <g id=\"xtick_9\">\n     <g id=\"line2d_9\">\n      <g>\n       <use style=\"stroke:#000000;stroke-width:0.8;\" x=\"317.8675\" xlink:href=\"#m453a97d11f\" y=\"224.64\"/>\n      </g>\n     </g>\n     <g id=\"text_9\">\n      <!-- 9.0 -->\n      <g transform=\"translate(320.626875 247.543125)rotate(-90)scale(0.1 -0.1)\">\n       <defs>\n        <path d=\"M 10.984375 1.515625 \nL 10.984375 10.5 \nQ 14.703125 8.734375 18.5 7.8125 \nQ 22.3125 6.890625 25.984375 6.890625 \nQ 35.75 6.890625 40.890625 13.453125 \nQ 46.046875 20.015625 46.78125 33.40625 \nQ 43.953125 29.203125 39.59375 26.953125 \nQ 35.25 24.703125 29.984375 24.703125 \nQ 19.046875 24.703125 12.671875 31.3125 \nQ 6.296875 37.9375 6.296875 49.421875 \nQ 6.296875 60.640625 12.9375 67.421875 \nQ 19.578125 74.21875 30.609375 74.21875 \nQ 43.265625 74.21875 49.921875 64.515625 \nQ 56.59375 54.828125 56.59375 36.375 \nQ 56.59375 19.140625 48.40625 8.859375 \nQ 40.234375 -1.421875 26.421875 -1.421875 \nQ 22.703125 -1.421875 18.890625 -0.6875 \nQ 15.09375 0.046875 10.984375 1.515625 \nz\nM 30.609375 32.421875 \nQ 37.25 32.421875 41.125 36.953125 \nQ 45.015625 41.5 45.015625 49.421875 \nQ 45.015625 57.28125 41.125 61.84375 \nQ 37.25 66.40625 30.609375 66.40625 \nQ 23.96875 66.40625 20.09375 61.84375 \nQ 16.21875 57.28125 16.21875 49.421875 \nQ 16.21875 41.5 20.09375 36.953125 \nQ 23.96875 32.421875 30.609375 32.421875 \nz\n\" id=\"DejaVuSans-57\"/>\n       </defs>\n       <use xlink:href=\"#DejaVuSans-57\"/>\n       <use x=\"63.623047\" xlink:href=\"#DejaVuSans-46\"/>\n       <use x=\"95.410156\" xlink:href=\"#DejaVuSans-48\"/>\n      </g>\n     </g>\n    </g>\n    <g id=\"xtick_10\">\n     <g id=\"line2d_10\">\n      <g>\n       <use style=\"stroke:#000000;stroke-width:0.8;\" x=\"351.3475\" xlink:href=\"#m453a97d11f\" y=\"224.64\"/>\n      </g>\n     </g>\n     <g id=\"text_10\">\n      <!-- 10.0 -->\n      <g transform=\"translate(354.106875 253.905625)rotate(-90)scale(0.1 -0.1)\">\n       <use xlink:href=\"#DejaVuSans-49\"/>\n       <use x=\"63.623047\" xlink:href=\"#DejaVuSans-48\"/>\n       <use x=\"127.246094\" xlink:href=\"#DejaVuSans-46\"/>\n       <use x=\"159.033203\" xlink:href=\"#DejaVuSans-48\"/>\n      </g>\n     </g>\n    </g>\n   </g>\n   <g id=\"matplotlib.axis_2\">\n    <g id=\"ytick_1\">\n     <g id=\"line2d_11\">\n      <defs>\n       <path d=\"M 0 0 \nL -3.5 0 \n\" id=\"m7754dfd0a3\" style=\"stroke:#000000;stroke-width:0.8;\"/>\n      </defs>\n      <g>\n       <use style=\"stroke:#000000;stroke-width:0.8;\" x=\"33.2875\" xlink:href=\"#m7754dfd0a3\" y=\"224.64\"/>\n      </g>\n     </g>\n     <g id=\"text_11\">\n      <!-- 0 -->\n      <g transform=\"translate(19.925 228.439219)scale(0.1 -0.1)\">\n       <use xlink:href=\"#DejaVuSans-48\"/>\n      </g>\n     </g>\n    </g>\n    <g id=\"ytick_2\">\n     <g id=\"line2d_12\">\n      <g>\n       <use style=\"stroke:#000000;stroke-width:0.8;\" x=\"33.2875\" xlink:href=\"#m7754dfd0a3\" y=\"190.967526\"/>\n      </g>\n     </g>\n     <g id=\"text_12\">\n      <!-- 100 -->\n      <g transform=\"translate(7.2 194.766745)scale(0.1 -0.1)\">\n       <use xlink:href=\"#DejaVuSans-49\"/>\n       <use x=\"63.623047\" xlink:href=\"#DejaVuSans-48\"/>\n       <use x=\"127.246094\" xlink:href=\"#DejaVuSans-48\"/>\n      </g>\n     </g>\n    </g>\n    <g id=\"ytick_3\">\n     <g id=\"line2d_13\">\n      <g>\n       <use style=\"stroke:#000000;stroke-width:0.8;\" x=\"33.2875\" xlink:href=\"#m7754dfd0a3\" y=\"157.295052\"/>\n      </g>\n     </g>\n     <g id=\"text_13\">\n      <!-- 200 -->\n      <g transform=\"translate(7.2 161.094271)scale(0.1 -0.1)\">\n       <use xlink:href=\"#DejaVuSans-50\"/>\n       <use x=\"63.623047\" xlink:href=\"#DejaVuSans-48\"/>\n       <use x=\"127.246094\" xlink:href=\"#DejaVuSans-48\"/>\n      </g>\n     </g>\n    </g>\n    <g id=\"ytick_4\">\n     <g id=\"line2d_14\">\n      <g>\n       <use style=\"stroke:#000000;stroke-width:0.8;\" x=\"33.2875\" xlink:href=\"#m7754dfd0a3\" y=\"123.622578\"/>\n      </g>\n     </g>\n     <g id=\"text_14\">\n      <!-- 300 -->\n      <g transform=\"translate(7.2 127.421797)scale(0.1 -0.1)\">\n       <use xlink:href=\"#DejaVuSans-51\"/>\n       <use x=\"63.623047\" xlink:href=\"#DejaVuSans-48\"/>\n       <use x=\"127.246094\" xlink:href=\"#DejaVuSans-48\"/>\n      </g>\n     </g>\n    </g>\n    <g id=\"ytick_5\">\n     <g id=\"line2d_15\">\n      <g>\n       <use style=\"stroke:#000000;stroke-width:0.8;\" x=\"33.2875\" xlink:href=\"#m7754dfd0a3\" y=\"89.950105\"/>\n      </g>\n     </g>\n     <g id=\"text_15\">\n      <!-- 400 -->\n      <g transform=\"translate(7.2 93.749323)scale(0.1 -0.1)\">\n       <use xlink:href=\"#DejaVuSans-52\"/>\n       <use x=\"63.623047\" xlink:href=\"#DejaVuSans-48\"/>\n       <use x=\"127.246094\" xlink:href=\"#DejaVuSans-48\"/>\n      </g>\n     </g>\n    </g>\n    <g id=\"ytick_6\">\n     <g id=\"line2d_16\">\n      <g>\n       <use style=\"stroke:#000000;stroke-width:0.8;\" x=\"33.2875\" xlink:href=\"#m7754dfd0a3\" y=\"56.277631\"/>\n      </g>\n     </g>\n     <g id=\"text_16\">\n      <!-- 500 -->\n      <g transform=\"translate(7.2 60.076849)scale(0.1 -0.1)\">\n       <use xlink:href=\"#DejaVuSans-53\"/>\n       <use x=\"63.623047\" xlink:href=\"#DejaVuSans-48\"/>\n       <use x=\"127.246094\" xlink:href=\"#DejaVuSans-48\"/>\n      </g>\n     </g>\n    </g>\n    <g id=\"ytick_7\">\n     <g id=\"line2d_17\">\n      <g>\n       <use style=\"stroke:#000000;stroke-width:0.8;\" x=\"33.2875\" xlink:href=\"#m7754dfd0a3\" y=\"22.605157\"/>\n      </g>\n     </g>\n     <g id=\"text_17\">\n      <!-- 600 -->\n      <g transform=\"translate(7.2 26.404376)scale(0.1 -0.1)\">\n       <use xlink:href=\"#DejaVuSans-54\"/>\n       <use x=\"63.623047\" xlink:href=\"#DejaVuSans-48\"/>\n       <use x=\"127.246094\" xlink:href=\"#DejaVuSans-48\"/>\n      </g>\n     </g>\n    </g>\n   </g>\n   <g id=\"patch_13\">\n    <path d=\"M 33.2875 224.64 \nL 33.2875 7.2 \n\" style=\"fill:none;stroke:#000000;stroke-linecap:square;stroke-linejoin:miter;stroke-width:0.8;\"/>\n   </g>\n   <g id=\"patch_14\">\n    <path d=\"M 368.0875 224.64 \nL 368.0875 7.2 \n\" style=\"fill:none;stroke:#000000;stroke-linecap:square;stroke-linejoin:miter;stroke-width:0.8;\"/>\n   </g>\n   <g id=\"patch_15\">\n    <path d=\"M 33.2875 224.64 \nL 368.0875 224.64 \n\" style=\"fill:none;stroke:#000000;stroke-linecap:square;stroke-linejoin:miter;stroke-width:0.8;\"/>\n   </g>\n   <g id=\"patch_16\">\n    <path d=\"M 33.2875 7.2 \nL 368.0875 7.2 \n\" style=\"fill:none;stroke:#000000;stroke-linecap:square;stroke-linejoin:miter;stroke-width:0.8;\"/>\n   </g>\n  </g>\n </g>\n <defs>\n  <clipPath id=\"p41bd46f306\">\n   <rect height=\"217.44\" width=\"334.8\" x=\"33.2875\" y=\"7.2\"/>\n  </clipPath>\n </defs>\n</svg>\n",
      "image/png": "[encoded data removed]"
     },
     "metadata": {
      "needs_background": "light"
     }
    }
   ],
   "source": [
    "df[\"score\"].value_counts().sort_index().plot(kind=\"bar\")"
   ]
  },
  {
   "source": [
    "As we can see the dataset is imbalanced, as we have more positive reviews. That is to be expected since we collected those reviews from somewhat popular movies.\n",
    "\n",
    "For our classification purposes we will consider any score less than or equal to 3 to be negative, anything at least 8, positive, and the rest neutral."
   ],
   "cell_type": "markdown",
   "metadata": {}
  },
  {
   "cell_type": "code",
   "execution_count": 64,
   "metadata": {},
   "outputs": [
    {
     "output_type": "execute_result",
     "data": {
      "text/plain": [
       "                                                text  score  class\n",
       "0  There is little that I can do by way of review...   10.0      1\n",
       "1  I recorded this on my Sky Plus box out of curi...   10.0      1\n",
       "2  Hard to believe that so many people seem to be...    1.0     -1\n",
       "3  Wow, was not expecting that! Popped into the c...   10.0      1\n",
       "4  Saw this at a local film festival with little ...   10.0      1"
      ],
      "text/html": "<div>\n<style scoped>\n    .dataframe tbody tr th:only-of-type {\n        vertical-align: middle;\n    }\n\n    .dataframe tbody tr th {\n        vertical-align: top;\n    }\n\n    .dataframe thead th {\n        text-align: right;\n    }\n</style>\n<table border=\"1\" class=\"dataframe\">\n  <thead>\n    <tr style=\"text-align: right;\">\n      <th></th>\n      <th>text</th>\n      <th>score</th>\n      <th>class</th>\n    </tr>\n  </thead>\n  <tbody>\n    <tr>\n      <th>0</th>\n      <td>There is little that I can do by way of review...</td>\n      <td>10.0</td>\n      <td>1</td>\n    </tr>\n    <tr>\n      <th>1</th>\n      <td>I recorded this on my Sky Plus box out of curi...</td>\n      <td>10.0</td>\n      <td>1</td>\n    </tr>\n    <tr>\n      <th>2</th>\n      <td>Hard to believe that so many people seem to be...</td>\n      <td>1.0</td>\n      <td>-1</td>\n    </tr>\n    <tr>\n      <th>3</th>\n      <td>Wow, was not expecting that! Popped into the c...</td>\n      <td>10.0</td>\n      <td>1</td>\n    </tr>\n    <tr>\n      <th>4</th>\n      <td>Saw this at a local film festival with little ...</td>\n      <td>10.0</td>\n      <td>1</td>\n    </tr>\n  </tbody>\n</table>\n</div>"
     },
     "metadata": {},
     "execution_count": 64
    }
   ],
   "source": [
    "def class_from_score(score):\n",
    "    if score <= 3:\n",
    "        return -1\n",
    "    elif score >= 8:\n",
    "        return 1\n",
    "    else:\n",
    "        return 0\n",
    "\n",
    "df[\"class\"] = [class_from_score(score) for score in df[\"score\"]]\n",
    "df.head()"
   ]
  },
  {
   "cell_type": "code",
   "execution_count": 65,
   "metadata": {},
   "outputs": [
    {
     "output_type": "execute_result",
     "data": {
      "text/plain": [
       "<AxesSubplot:>"
      ]
     },
     "metadata": {},
     "execution_count": 65
    },
    {
     "output_type": "display_data",
     "data": {
      "text/plain": "<Figure size 432x288 with 1 Axes>",
      "image/svg+xml": "<?xml version=\"1.0\" encoding=\"utf-8\" standalone=\"no\"?>\n<!DOCTYPE svg PUBLIC \"-//W3C//DTD SVG 1.1//EN\"\n  \"http://www.w3.org/Graphics/SVG/1.1/DTD/svg11.dtd\">\n<!-- Created with matplotlib (https://matplotlib.org/) -->\n<svg height=\"248.843527pt\" version=\"1.1\" viewBox=\"0 0 381.65 248.843527\" width=\"381.65pt\" xmlns=\"http://www.w3.org/2000/svg\" xmlns:xlink=\"http://www.w3.org/1999/xlink\">\n <metadata>\n  <rdf:RDF xmlns:cc=\"http://creativecommons.org/ns#\" xmlns:dc=\"http://purl.org/dc/elements/1.1/\" xmlns:rdf=\"http://www.w3.org/1999/02/22-rdf-syntax-ns#\">\n   <cc:Work>\n    <dc:type rdf:resource=\"http://purl.org/dc/dcmitype/StillImage\"/>\n    <dc:date>2020-12-01T21:27:33.476990</dc:date>\n    <dc:format>image/svg+xml</dc:format>\n    <dc:creator>\n     <cc:Agent>\n      <dc:title>Matplotlib v3.3.3, https://matplotlib.org/</dc:title>\n     </cc:Agent>\n    </dc:creator>\n   </cc:Work>\n  </rdf:RDF>\n </metadata>\n <defs>\n  <style type=\"text/css\">*{stroke-linecap:butt;stroke-linejoin:round;}</style>\n </defs>\n <g id=\"figure_1\">\n  <g id=\"patch_1\">\n   <path d=\"M -0 248.843527 \nL 381.65 248.843527 \nL 381.65 0 \nL -0 0 \nz\n\" style=\"fill:none;\"/>\n  </g>\n  <g id=\"axes_1\">\n   <g id=\"patch_2\">\n    <path d=\"M 39.65 224.673215 \nL 374.45 224.673215 \nL 374.45 7.233215 \nL 39.65 7.233215 \nz\n\" style=\"fill:#ffffff;\"/>\n   </g>\n   <g id=\"patch_3\">\n    <path clip-path=\"url(#pecd6336b40)\" d=\"M 67.55 224.673215 \nL 123.35 224.673215 \nL 123.35 161.995509 \nL 67.55 161.995509 \nz\n\" style=\"fill:#1f77b4;\"/>\n   </g>\n   <g id=\"patch_4\">\n    <path clip-path=\"url(#pecd6336b40)\" d=\"M 179.15 224.673215 \nL 234.95 224.673215 \nL 234.95 162.173571 \nL 179.15 162.173571 \nz\n\" style=\"fill:#1f77b4;\"/>\n   </g>\n   <g id=\"patch_5\">\n    <path clip-path=\"url(#pecd6336b40)\" d=\"M 290.75 224.673215 \nL 346.55 224.673215 \nL 346.55 17.5875 \nL 290.75 17.5875 \nz\n\" style=\"fill:#1f77b4;\"/>\n   </g>\n   <g id=\"matplotlib.axis_1\">\n    <g id=\"xtick_1\">\n     <g id=\"line2d_1\">\n      <defs>\n       <path d=\"M 0 0 \nL 0 3.5 \n\" id=\"ma636226ff3\" style=\"stroke:#000000;stroke-width:0.8;\"/>\n      </defs>\n      <g>\n       <use style=\"stroke:#000000;stroke-width:0.8;\" x=\"95.45\" xlink:href=\"#ma636226ff3\" y=\"224.673215\"/>\n      </g>\n     </g>\n     <g id=\"text_1\">\n      <!-- -1 -->\n      <g transform=\"translate(98.209375 241.643527)rotate(-90)scale(0.1 -0.1)\">\n       <defs>\n        <path d=\"M 4.890625 31.390625 \nL 31.203125 31.390625 \nL 31.203125 23.390625 \nL 4.890625 23.390625 \nz\n\" id=\"DejaVuSans-45\"/>\n        <path d=\"M 12.40625 8.296875 \nL 28.515625 8.296875 \nL 28.515625 63.921875 \nL 10.984375 60.40625 \nL 10.984375 69.390625 \nL 28.421875 72.90625 \nL 38.28125 72.90625 \nL 38.28125 8.296875 \nL 54.390625 8.296875 \nL 54.390625 0 \nL 12.40625 0 \nz\n\" id=\"DejaVuSans-49\"/>\n       </defs>\n       <use xlink:href=\"#DejaVuSans-45\"/>\n       <use x=\"36.083984\" xlink:href=\"#DejaVuSans-49\"/>\n      </g>\n     </g>\n    </g>\n    <g id=\"xtick_2\">\n     <g id=\"line2d_2\">\n      <g>\n       <use style=\"stroke:#000000;stroke-width:0.8;\" x=\"207.05\" xlink:href=\"#ma636226ff3\" y=\"224.673215\"/>\n      </g>\n     </g>\n     <g id=\"text_2\">\n      <!-- 0 -->\n      <g transform=\"translate(209.809375 238.035715)rotate(-90)scale(0.1 -0.1)\">\n       <defs>\n        <path d=\"M 31.78125 66.40625 \nQ 24.171875 66.40625 20.328125 58.90625 \nQ 16.5 51.421875 16.5 36.375 \nQ 16.5 21.390625 20.328125 13.890625 \nQ 24.171875 6.390625 31.78125 6.390625 \nQ 39.453125 6.390625 43.28125 13.890625 \nQ 47.125 21.390625 47.125 36.375 \nQ 47.125 51.421875 43.28125 58.90625 \nQ 39.453125 66.40625 31.78125 66.40625 \nz\nM 31.78125 74.21875 \nQ 44.046875 74.21875 50.515625 64.515625 \nQ 56.984375 54.828125 56.984375 36.375 \nQ 56.984375 17.96875 50.515625 8.265625 \nQ 44.046875 -1.421875 31.78125 -1.421875 \nQ 19.53125 -1.421875 13.0625 8.265625 \nQ 6.59375 17.96875 6.59375 36.375 \nQ 6.59375 54.828125 13.0625 64.515625 \nQ 19.53125 74.21875 31.78125 74.21875 \nz\n\" id=\"DejaVuSans-48\"/>\n       </defs>\n       <use xlink:href=\"#DejaVuSans-48\"/>\n      </g>\n     </g>\n    </g>\n    <g id=\"xtick_3\">\n     <g id=\"line2d_3\">\n      <g>\n       <use style=\"stroke:#000000;stroke-width:0.8;\" x=\"318.65\" xlink:href=\"#ma636226ff3\" y=\"224.673215\"/>\n      </g>\n     </g>\n     <g id=\"text_3\">\n      <!-- 1 -->\n      <g transform=\"translate(321.409375 238.035715)rotate(-90)scale(0.1 -0.1)\">\n       <use xlink:href=\"#DejaVuSans-49\"/>\n      </g>\n     </g>\n    </g>\n   </g>\n   <g id=\"matplotlib.axis_2\">\n    <g id=\"ytick_1\">\n     <g id=\"line2d_4\">\n      <defs>\n       <path d=\"M 0 0 \nL -3.5 0 \n\" id=\"mfac6cec8b6\" style=\"stroke:#000000;stroke-width:0.8;\"/>\n      </defs>\n      <g>\n       <use style=\"stroke:#000000;stroke-width:0.8;\" x=\"39.65\" xlink:href=\"#mfac6cec8b6\" y=\"224.673215\"/>\n      </g>\n     </g>\n     <g id=\"text_4\">\n      <!-- 0 -->\n      <g transform=\"translate(26.2875 228.472433)scale(0.1 -0.1)\">\n       <use xlink:href=\"#DejaVuSans-48\"/>\n      </g>\n     </g>\n    </g>\n    <g id=\"ytick_2\">\n     <g id=\"line2d_5\">\n      <g>\n       <use style=\"stroke:#000000;stroke-width:0.8;\" x=\"39.65\" xlink:href=\"#mfac6cec8b6\" y=\"189.060882\"/>\n      </g>\n     </g>\n     <g id=\"text_5\">\n      <!-- 200 -->\n      <g transform=\"translate(13.5625 192.860101)scale(0.1 -0.1)\">\n       <defs>\n        <path d=\"M 19.1875 8.296875 \nL 53.609375 8.296875 \nL 53.609375 0 \nL 7.328125 0 \nL 7.328125 8.296875 \nQ 12.9375 14.109375 22.625 23.890625 \nQ 32.328125 33.6875 34.8125 36.53125 \nQ 39.546875 41.84375 41.421875 45.53125 \nQ 43.3125 49.21875 43.3125 52.78125 \nQ 43.3125 58.59375 39.234375 62.25 \nQ 35.15625 65.921875 28.609375 65.921875 \nQ 23.96875 65.921875 18.8125 64.3125 \nQ 13.671875 62.703125 7.8125 59.421875 \nL 7.8125 69.390625 \nQ 13.765625 71.78125 18.9375 73 \nQ 24.125 74.21875 28.421875 74.21875 \nQ 39.75 74.21875 46.484375 68.546875 \nQ 53.21875 62.890625 53.21875 53.421875 \nQ 53.21875 48.921875 51.53125 44.890625 \nQ 49.859375 40.875 45.40625 35.40625 \nQ 44.1875 33.984375 37.640625 27.21875 \nQ 31.109375 20.453125 19.1875 8.296875 \nz\n\" id=\"DejaVuSans-50\"/>\n       </defs>\n       <use xlink:href=\"#DejaVuSans-50\"/>\n       <use x=\"63.623047\" xlink:href=\"#DejaVuSans-48\"/>\n       <use x=\"127.246094\" xlink:href=\"#DejaVuSans-48\"/>\n      </g>\n     </g>\n    </g>\n    <g id=\"ytick_3\">\n     <g id=\"line2d_6\">\n      <g>\n       <use style=\"stroke:#000000;stroke-width:0.8;\" x=\"39.65\" xlink:href=\"#mfac6cec8b6\" y=\"153.448549\"/>\n      </g>\n     </g>\n     <g id=\"text_6\">\n      <!-- 400 -->\n      <g transform=\"translate(13.5625 157.247768)scale(0.1 -0.1)\">\n       <defs>\n        <path d=\"M 37.796875 64.3125 \nL 12.890625 25.390625 \nL 37.796875 25.390625 \nz\nM 35.203125 72.90625 \nL 47.609375 72.90625 \nL 47.609375 25.390625 \nL 58.015625 25.390625 \nL 58.015625 17.1875 \nL 47.609375 17.1875 \nL 47.609375 0 \nL 37.796875 0 \nL 37.796875 17.1875 \nL 4.890625 17.1875 \nL 4.890625 26.703125 \nz\n\" id=\"DejaVuSans-52\"/>\n       </defs>\n       <use xlink:href=\"#DejaVuSans-52\"/>\n       <use x=\"63.623047\" xlink:href=\"#DejaVuSans-48\"/>\n       <use x=\"127.246094\" xlink:href=\"#DejaVuSans-48\"/>\n      </g>\n     </g>\n    </g>\n    <g id=\"ytick_4\">\n     <g id=\"line2d_7\">\n      <g>\n       <use style=\"stroke:#000000;stroke-width:0.8;\" x=\"39.65\" xlink:href=\"#mfac6cec8b6\" y=\"117.836217\"/>\n      </g>\n     </g>\n     <g id=\"text_7\">\n      <!-- 600 -->\n      <g transform=\"translate(13.5625 121.635435)scale(0.1 -0.1)\">\n       <defs>\n        <path d=\"M 33.015625 40.375 \nQ 26.375 40.375 22.484375 35.828125 \nQ 18.609375 31.296875 18.609375 23.390625 \nQ 18.609375 15.53125 22.484375 10.953125 \nQ 26.375 6.390625 33.015625 6.390625 \nQ 39.65625 6.390625 43.53125 10.953125 \nQ 47.40625 15.53125 47.40625 23.390625 \nQ 47.40625 31.296875 43.53125 35.828125 \nQ 39.65625 40.375 33.015625 40.375 \nz\nM 52.59375 71.296875 \nL 52.59375 62.3125 \nQ 48.875 64.0625 45.09375 64.984375 \nQ 41.3125 65.921875 37.59375 65.921875 \nQ 27.828125 65.921875 22.671875 59.328125 \nQ 17.53125 52.734375 16.796875 39.40625 \nQ 19.671875 43.65625 24.015625 45.921875 \nQ 28.375 48.1875 33.59375 48.1875 \nQ 44.578125 48.1875 50.953125 41.515625 \nQ 57.328125 34.859375 57.328125 23.390625 \nQ 57.328125 12.15625 50.6875 5.359375 \nQ 44.046875 -1.421875 33.015625 -1.421875 \nQ 20.359375 -1.421875 13.671875 8.265625 \nQ 6.984375 17.96875 6.984375 36.375 \nQ 6.984375 53.65625 15.1875 63.9375 \nQ 23.390625 74.21875 37.203125 74.21875 \nQ 40.921875 74.21875 44.703125 73.484375 \nQ 48.484375 72.75 52.59375 71.296875 \nz\n\" id=\"DejaVuSans-54\"/>\n       </defs>\n       <use xlink:href=\"#DejaVuSans-54\"/>\n       <use x=\"63.623047\" xlink:href=\"#DejaVuSans-48\"/>\n       <use x=\"127.246094\" xlink:href=\"#DejaVuSans-48\"/>\n      </g>\n     </g>\n    </g>\n    <g id=\"ytick_5\">\n     <g id=\"line2d_8\">\n      <g>\n       <use style=\"stroke:#000000;stroke-width:0.8;\" x=\"39.65\" xlink:href=\"#mfac6cec8b6\" y=\"82.223884\"/>\n      </g>\n     </g>\n     <g id=\"text_8\">\n      <!-- 800 -->\n      <g transform=\"translate(13.5625 86.023103)scale(0.1 -0.1)\">\n       <defs>\n        <path d=\"M 31.78125 34.625 \nQ 24.75 34.625 20.71875 30.859375 \nQ 16.703125 27.09375 16.703125 20.515625 \nQ 16.703125 13.921875 20.71875 10.15625 \nQ 24.75 6.390625 31.78125 6.390625 \nQ 38.8125 6.390625 42.859375 10.171875 \nQ 46.921875 13.96875 46.921875 20.515625 \nQ 46.921875 27.09375 42.890625 30.859375 \nQ 38.875 34.625 31.78125 34.625 \nz\nM 21.921875 38.8125 \nQ 15.578125 40.375 12.03125 44.71875 \nQ 8.5 49.078125 8.5 55.328125 \nQ 8.5 64.0625 14.71875 69.140625 \nQ 20.953125 74.21875 31.78125 74.21875 \nQ 42.671875 74.21875 48.875 69.140625 \nQ 55.078125 64.0625 55.078125 55.328125 \nQ 55.078125 49.078125 51.53125 44.71875 \nQ 48 40.375 41.703125 38.8125 \nQ 48.828125 37.15625 52.796875 32.3125 \nQ 56.78125 27.484375 56.78125 20.515625 \nQ 56.78125 9.90625 50.3125 4.234375 \nQ 43.84375 -1.421875 31.78125 -1.421875 \nQ 19.734375 -1.421875 13.25 4.234375 \nQ 6.78125 9.90625 6.78125 20.515625 \nQ 6.78125 27.484375 10.78125 32.3125 \nQ 14.796875 37.15625 21.921875 38.8125 \nz\nM 18.3125 54.390625 \nQ 18.3125 48.734375 21.84375 45.5625 \nQ 25.390625 42.390625 31.78125 42.390625 \nQ 38.140625 42.390625 41.71875 45.5625 \nQ 45.3125 48.734375 45.3125 54.390625 \nQ 45.3125 60.0625 41.71875 63.234375 \nQ 38.140625 66.40625 31.78125 66.40625 \nQ 25.390625 66.40625 21.84375 63.234375 \nQ 18.3125 60.0625 18.3125 54.390625 \nz\n\" id=\"DejaVuSans-56\"/>\n       </defs>\n       <use xlink:href=\"#DejaVuSans-56\"/>\n       <use x=\"63.623047\" xlink:href=\"#DejaVuSans-48\"/>\n       <use x=\"127.246094\" xlink:href=\"#DejaVuSans-48\"/>\n      </g>\n     </g>\n    </g>\n    <g id=\"ytick_6\">\n     <g id=\"line2d_9\">\n      <g>\n       <use style=\"stroke:#000000;stroke-width:0.8;\" x=\"39.65\" xlink:href=\"#mfac6cec8b6\" y=\"46.611551\"/>\n      </g>\n     </g>\n     <g id=\"text_9\">\n      <!-- 1000 -->\n      <g transform=\"translate(7.2 50.41077)scale(0.1 -0.1)\">\n       <use xlink:href=\"#DejaVuSans-49\"/>\n       <use x=\"63.623047\" xlink:href=\"#DejaVuSans-48\"/>\n       <use x=\"127.246094\" xlink:href=\"#DejaVuSans-48\"/>\n       <use x=\"190.869141\" xlink:href=\"#DejaVuSans-48\"/>\n      </g>\n     </g>\n    </g>\n    <g id=\"ytick_7\">\n     <g id=\"line2d_10\">\n      <g>\n       <use style=\"stroke:#000000;stroke-width:0.8;\" x=\"39.65\" xlink:href=\"#mfac6cec8b6\" y=\"10.999219\"/>\n      </g>\n     </g>\n     <g id=\"text_10\">\n      <!-- 1200 -->\n      <g transform=\"translate(7.2 14.798437)scale(0.1 -0.1)\">\n       <use xlink:href=\"#DejaVuSans-49\"/>\n       <use x=\"63.623047\" xlink:href=\"#DejaVuSans-50\"/>\n       <use x=\"127.246094\" xlink:href=\"#DejaVuSans-48\"/>\n       <use x=\"190.869141\" xlink:href=\"#DejaVuSans-48\"/>\n      </g>\n     </g>\n    </g>\n   </g>\n   <g id=\"patch_6\">\n    <path d=\"M 39.65 224.673215 \nL 39.65 7.233215 \n\" style=\"fill:none;stroke:#000000;stroke-linecap:square;stroke-linejoin:miter;stroke-width:0.8;\"/>\n   </g>\n   <g id=\"patch_7\">\n    <path d=\"M 374.45 224.673215 \nL 374.45 7.233215 \n\" style=\"fill:none;stroke:#000000;stroke-linecap:square;stroke-linejoin:miter;stroke-width:0.8;\"/>\n   </g>\n   <g id=\"patch_8\">\n    <path d=\"M 39.65 224.673215 \nL 374.45 224.673215 \n\" style=\"fill:none;stroke:#000000;stroke-linecap:square;stroke-linejoin:miter;stroke-width:0.8;\"/>\n   </g>\n   <g id=\"patch_9\">\n    <path d=\"M 39.65 7.233215 \nL 374.45 7.233215 \n\" style=\"fill:none;stroke:#000000;stroke-linecap:square;stroke-linejoin:miter;stroke-width:0.8;\"/>\n   </g>\n  </g>\n </g>\n <defs>\n  <clipPath id=\"pecd6336b40\">\n   <rect height=\"217.44\" width=\"334.8\" x=\"39.65\" y=\"7.233215\"/>\n  </clipPath>\n </defs>\n</svg>\n",
      "image/png": "[encoded data removed]"
     },
     "metadata": {
      "needs_background": "light"
     }
    }
   ],
   "source": [
    "df[\"class\"].value_counts().sort_index().plot(kind=\"bar\")"
   ]
  },
  {
   "source": [
    "We split our dataset into train (80%), dev (10%) and test (10%) sets."
   ],
   "cell_type": "markdown",
   "metadata": {}
  },
  {
   "cell_type": "code",
   "execution_count": 66,
   "metadata": {},
   "outputs": [
    {
     "output_type": "stream",
     "name": "stdout",
     "text": [
      "1492 187 187\n"
     ]
    },
    {
     "output_type": "execute_result",
     "data": {
      "text/plain": [
       "                                                text  class\n",
       "0  I see a lot of positive reviews for this movie...      0\n",
       "1  Crash is a film about racism and race relation...     -1\n",
       "2  I saw this originally in a theater and then ag...      1\n",
       "3  Why does this film have such a high rating? I'...     -1\n",
       "4  This is an advocacy documentary film about the...      1"
      ],
      "text/html": "<div>\n<style scoped>\n    .dataframe tbody tr th:only-of-type {\n        vertical-align: middle;\n    }\n\n    .dataframe tbody tr th {\n        vertical-align: top;\n    }\n\n    .dataframe thead th {\n        text-align: right;\n    }\n</style>\n<table border=\"1\" class=\"dataframe\">\n  <thead>\n    <tr style=\"text-align: right;\">\n      <th></th>\n      <th>text</th>\n      <th>class</th>\n    </tr>\n  </thead>\n  <tbody>\n    <tr>\n      <th>0</th>\n      <td>I see a lot of positive reviews for this movie...</td>\n      <td>0</td>\n    </tr>\n    <tr>\n      <th>1</th>\n      <td>Crash is a film about racism and race relation...</td>\n      <td>-1</td>\n    </tr>\n    <tr>\n      <th>2</th>\n      <td>I saw this originally in a theater and then ag...</td>\n      <td>1</td>\n    </tr>\n    <tr>\n      <th>3</th>\n      <td>Why does this film have such a high rating? I'...</td>\n      <td>-1</td>\n    </tr>\n    <tr>\n      <th>4</th>\n      <td>This is an advocacy documentary film about the...</td>\n      <td>1</td>\n    </tr>\n  </tbody>\n</table>\n</div>"
     },
     "metadata": {},
     "execution_count": 66
    }
   ],
   "source": [
    "from sklearn.model_selection import train_test_split\n",
    "\n",
    "df = df.drop([\"score\"], axis=1)\n",
    "df_train, df_rest = train_test_split(df, test_size=0.2)\n",
    "df_dev, df_test = train_test_split(df_rest, test_size=0.5)\n",
    "\n",
    "df_train.reset_index(inplace=True, drop=True)\n",
    "df_dev.reset_index(inplace=True, drop=True)\n",
    "df_test.reset_index(inplace=True, drop=True)\n",
    "\n",
    "print(len(df_train), len(df_dev), len(df_test))\n",
    "df_train.head()"
   ]
  },
  {
   "source": [
    "## CountVectorizer\n",
    "The first example uses the CountVectorizer class from scikit-learn. With this we can build a bag-of-words representation of our text data.\n",
    "\n",
    "First thing we need to take care of is the preprocessing and tokenization of our data. Recall that some cleaning of the data was done in the previous notebook. Here we will remove the URLs from the text (all URLs were previously replaced with a special token). We will then remove all symbols except latin letters, digits and basic punctuation. All spaces will then be contracted and stripped. We finish the preprocessing step with lower-casing our text.\n",
    "\n",
    "For tokenization, we use SpaCy, after which each token is run through a stemmer, returning, in the end, the list of our tokens."
   ],
   "cell_type": "markdown",
   "metadata": {}
  },
  {
   "cell_type": "code",
   "execution_count": 67,
   "metadata": {},
   "outputs": [],
   "source": [
    "import nltk\n",
    "import re\n",
    "import spacy\n",
    "\n",
    "stemmer = nltk.stem.PorterStemmer()\n",
    "spacy_nlp = spacy.load(\"en_core_web_md\")\n",
    "\n",
    "def preprocess(dirty_text):\n",
    "    urls_removed = dirty_text.replace(\"[URL]\", \"\")\n",
    "    symbols_removed = re.sub(r\"[^a-zA-Z0-9.,?!'-]\", \" \", urls_removed)\n",
    "    spaced_contracted = re.sub(\" +\", \" \", symbols_removed).strip()\n",
    "    lowercased = spaced_contracted.lower()\n",
    "    return lowercased\n",
    "\n",
    "def tokenize(text, spacy_nlp=spacy_nlp, stemmer=stemmer):\n",
    "    tokens = [stemmer.stem(token.text) for token in spacy_nlp(text)]\n",
    "    return tokens\n"
   ]
  },
  {
   "cell_type": "code",
   "execution_count": 70,
   "metadata": {},
   "outputs": [
    {
     "output_type": "stream",
     "name": "stdout",
     "text": [
      "Not a single likable character in the movie. The main protagonist inspector was cringe to say the least. After sitting for 2 and half hour you get half of a story. So many unanswered questions. Pointless movie. One good thing i have to say about the movie is locations and cinematography.\nnot a single likable character in the movie. the main protagonist inspector was cringe to say the least. after sitting for 2 and half hour you get half of a story. so many unanswered questions. pointless movie. one good thing i have to say about the movie is locations and cinematography.\n['not', 'a', 'singl', 'likabl', 'charact', 'in', 'the', 'movi', '.', 'the', 'main', 'protagonist', 'inspector', 'wa', 'cring', 'to', 'say', 'the', 'least', '.', 'after', 'sit', 'for', '2', 'and', 'half', 'hour', 'you', 'get', 'half', 'of', 'a', 'stori', '.', 'so', 'mani', 'unansw', 'question', '.', 'pointless', 'movi', '.', 'one', 'good', 'thing', 'i', 'have', 'to', 'say', 'about', 'the', 'movi', 'is', 'locat', 'and', 'cinematographi', '.']\n"
     ]
    }
   ],
   "source": [
    "print(df_train[\"text\"][10])\n",
    "print(preprocess(df_train[\"text\"][10]))\n",
    "print(tokenize(preprocess(df_train[\"text\"][10])))"
   ]
  },
  {
   "source": [
    "CountVectorizer needs to be fit on a set of texts in order to build the vocabulary. For that we will use the training set.  After that, the CV can be used to get the bag-of-words representation of any text. As we can see, running it on the train dataset, we get a 2d array with the number of rows equal to the number of texts, and the columns corresponding to the words in the vocabulary."
   ],
   "cell_type": "markdown",
   "metadata": {}
  },
  {
   "cell_type": "code",
   "execution_count": 71,
   "metadata": {},
   "outputs": [
    {
     "output_type": "stream",
     "name": "stdout",
     "text": [
      "(1492, 10000)\n"
     ]
    }
   ],
   "source": [
    "from sklearn.feature_extraction.text import CountVectorizer\n",
    "\n",
    "cv = CountVectorizer(preprocessor=preprocess, tokenizer=tokenize, max_features=10000)\n",
    "cv.fit(df_train[\"text\"])\n",
    "bow_train = cv.transform(df_train[\"text\"])\n",
    "\n",
    "print(bow_train.shape)"
   ]
  },
  {
   "source": [
    "Let's look at the features extracted for a text sample. As we can see, not all tokens are counted, since some of them are not part of the vocabulary (recall that we limited the size of the vocabulary to 10000)."
   ],
   "cell_type": "markdown",
   "metadata": {}
  },
  {
   "cell_type": "code",
   "execution_count": 86,
   "metadata": {
    "tags": []
   },
   "outputs": [
    {
     "output_type": "stream",
     "name": "stdout",
     "text": [
      "166\n164\nSince I saw \"Fight Club\", I have never witnessed such a performance by this great actor named Edward Norton. The great performance of the \"double sided blade roll\" of Aron/Roy is done with extraordinary finesse since he is known for his dual-sided acting skills when playing calm/aggressive or good/bad figures. Putting aside the fact that I heard and read about the big sacrifices that Norton did for the filming of \"Fight Club\" (losing 20 kilos and gaining the fit and full of muscles body in just 40 days) I wouldn't bee so amazed of the Aaron/Roy performance in \"Primal Fear\". Edward Norton leaves us stunned again. He plays the role of a 19 years old altar-boy in a catholic church with such a grace, that even a bad-ass serial killer would be jealous. Seen the movie, loved the performance and did another bow to Edward Norton!\n['i', 'a', 'of', 'for', 'thi', 'movi', 'have', 'so', '.', 'is', 'the', 'to', 'and', 'about', 'be', 'or', 'seen', 'with', 'just', 'anoth', '!', 'when', 'that', 'in', 'act', 'year', 'old', ',', 'full', 'ass', \"n't\", 'figur', 'he', 'serial', 'killer', 'even', 'film', 'day', 'hi', 'name', 'by', 'fear', 'would', 'did', 'again', '-', 'good', '20', 'such', 'never', 'saw', 'love', 'perform', 'amaz', 'leav', 'big', 'lose', 'side', 'done', 'fight', 'fact', 'bad', 'play', 'read', 'actor', 'bodi', 'role', 'great', 'us', 'put', 'calm', 'sinc', 'known', 'edward', 'norton', 'primal', 'club', 'gain', 'extraordinari', 'heard', 'wit', 'stun', 'grace', 'fit', 'boy', 'asid', 'roll', 'sacrific', 'doubl', 'blade', 'aron', 'roy', 'dual', 'skill', 'aggress', 'muscl', '40', 'bee', 'aaron', '19', 'altar', 'cathol', 'church', 'jealou', 'bow']\n"
     ]
    }
   ],
   "source": [
    "import numpy as np\n",
    "\n",
    "print(len(tokenize(preprocess(df_train[\"text\"][77]))))\n",
    "print(np.sum(bow_train[77]))\n",
    "\n",
    "words = []\n",
    "for word, idx in cv.vocabulary_.items():\n",
    "    if bow_train[77, idx] > 0:\n",
    "        words.append(word)\n",
    "\n",
    "print(df_train[\"text\"][77])\n",
    "print(words)"
   ]
  },
  {
   "source": [
    "In the example above the features are just raw counts of the vocabulary tokens. Most of the time we would like those features to be normalized. We can employ the TfidfTransformer to choose which kind of normalization to use, and also we have the option to rescale the weights using Term frequency–Inverse document frequency (by setting the use_idf flag)."
   ],
   "cell_type": "markdown",
   "metadata": {}
  },
  {
   "cell_type": "code",
   "execution_count": 87,
   "metadata": {},
   "outputs": [
    {
     "output_type": "stream",
     "name": "stdout",
     "text": [
      "(1492, 10000)\n"
     ]
    }
   ],
   "source": [
    "from sklearn.pipeline import Pipeline\n",
    "from sklearn.feature_extraction.text import TfidfTransformer\n",
    "\n",
    "pipeline = Pipeline([\n",
    "    ('count', CountVectorizer(preprocessor=preprocess, tokenizer=tokenize, max_features=10000)),\n",
    "    ('tfid', TfidfTransformer(norm=\"l2\", use_idf=True))\n",
    "])\n",
    "\n",
    "train_features = pipeline.fit_transform(df_train[\"text\"])\n",
    "print(train_features.shape)"
   ]
  },
  {
   "cell_type": "code",
   "execution_count": 88,
   "metadata": {},
   "outputs": [
    {
     "output_type": "execute_result",
     "data": {
      "text/plain": [
       "1.0"
      ]
     },
     "metadata": {},
     "execution_count": 88
    }
   ],
   "source": [
    "np.linalg.norm(train_features[10].toarray())"
   ]
  },
  {
   "source": [
    "We can use the transform method on other sets of texts as well."
   ],
   "cell_type": "markdown",
   "metadata": {}
  },
  {
   "cell_type": "code",
   "execution_count": 89,
   "metadata": {},
   "outputs": [
    {
     "output_type": "stream",
     "name": "stdout",
     "text": [
      "(187, 10000)\n1.0\n"
     ]
    }
   ],
   "source": [
    "dev_features = pipeline.transform(df_dev[\"text\"])\n",
    "print(dev_features.shape)\n",
    "print(np.linalg.norm(dev_features[10].toarray()))"
   ]
  },
  {
   "source": [
    "We can also specify using n-grams instead of singular tokens. Here is an example of counting bigrams."
   ],
   "cell_type": "markdown",
   "metadata": {}
  },
  {
   "cell_type": "code",
   "execution_count": 90,
   "metadata": {},
   "outputs": [
    {
     "output_type": "stream",
     "name": "stdout",
     "text": [
      "(1492, 10000)\n"
     ]
    }
   ],
   "source": [
    "pipeline = Pipeline([\n",
    "    ('count', CountVectorizer(preprocessor=preprocess, tokenizer=tokenize, max_features=10000, ngram_range=(2, 2))),\n",
    "    ('tfid', TfidfTransformer(norm=\"l2\", use_idf=True))\n",
    "])\n",
    "\n",
    "train_features = pipeline.fit_transform(df_train[\"text\"])\n",
    "print(train_features.shape)"
   ]
  },
  {
   "source": [
    "Let's print some of the bigrams from the vocabulary."
   ],
   "cell_type": "markdown",
   "metadata": {}
  },
  {
   "cell_type": "code",
   "execution_count": 91,
   "metadata": {},
   "outputs": [
    {
     "output_type": "stream",
     "name": "stdout",
     "text": [
      "['confus and', 'new york', 'for so', 'will leav', 'an end', 'touch me', 'eye of', 'have fun', 'alway be', 'think .', 'children ,', 'you do', 'a planet', 'suffer .', 'good peopl', 'fight scene', 'societi that', 'dialogu ,', 'stori tell', 'bueller ,']\n"
     ]
    }
   ],
   "source": [
    "from random import sample\n",
    "\n",
    "print(sample(list(pipeline[\"count\"].vocabulary_.keys()), 20))"
   ]
  },
  {
   "source": [
    "## Word Embeddings\n",
    "\n",
    "The second example concerns word embeddings. For this we will use the pyTorch library, alongside its NLP extension torchtext. First of all we need to build the torchtext datasets from the dataframes computed above. This conversion is not supported by default so this is a class that does just that."
   ],
   "cell_type": "markdown",
   "metadata": {}
  },
  {
   "cell_type": "code",
   "execution_count": 92,
   "metadata": {},
   "outputs": [],
   "source": [
    "from torchtext import data\n",
    "\n",
    "class DataFrameDataset(data.Dataset):\n",
    "\n",
    "    def __init__(self, df, text_field, label_field, is_test=False, **kwargs):\n",
    "        fields = [('text', text_field), ('label', label_field)]\n",
    "        examples = []\n",
    "        for i, row in df.iterrows():\n",
    "            label = row[\"class\"] if not is_test else None\n",
    "            text = row[\"text\"]\n",
    "            examples.append(data.Example.fromlist([text, label], fields))\n",
    "\n",
    "        super().__init__(examples, fields, **kwargs)\n",
    "\n",
    "    @classmethod\n",
    "    def splits(cls, text_field, label_field, train_df, dev_df=None, test_df=None, **kwargs):\n",
    "        train_data, dev_data, test_data = (None, None, None)\n",
    "\n",
    "        if train_df is not None:\n",
    "            train_data = cls(train_df.copy(), text_field, label_field, **kwargs)\n",
    "        if dev_df is not None:\n",
    "            dev_data = cls(dev_df.copy(), text_field, label_field, **kwargs)\n",
    "        if test_df is not None:\n",
    "            test_data = cls(test_df.copy(), text_field, label_field, True, **kwargs)\n",
    "\n",
    "        return tuple(d for d in (train_data, dev_data, test_data) if d is not None)"
   ]
  },
  {
   "source": [
    "Let's now define our data fields (one for text, the other for the class label). The text one is going to be a sequential one since it will store for each dataset example the list of tokens. We will provide it with a simple tokenization method that just removes the URLs and runs the SpaCy tokenizer.\n",
    "\n",
    "After we define our fields and build our datasets, we build the vocabulary based on our tokens. This will do the following:\n",
    " * keep the most frequent tokens from our training dataset\n",
    " * build a lookup table for tokens based on an integer index\n",
    " * for each word in the vocabulary store its embedding vector (in this case we used 300-dimensional GloVe vectors)\n",
    " * if no pretrained embedding is available for a word, generate a random one"
   ],
   "cell_type": "markdown",
   "metadata": {}
  },
  {
   "cell_type": "code",
   "execution_count": 93,
   "metadata": {},
   "outputs": [],
   "source": [
    "import torch\n",
    "\n",
    "def tokenize(text, spacy_nlp=spacy_nlp):\n",
    "    urls_removed = text.replace(\"[URL]\", \"\")\n",
    "    tokens = [token.text for token in spacy_nlp(text)]\n",
    "    return tokens\n",
    "\n",
    "TEXT_FIELD = data.Field(\n",
    "    sequential=True,\n",
    "    tokenize=tokenize,\n",
    "    lower=True,\n",
    "    batch_first=True,\n",
    ")\n",
    "\n",
    "LABEL_FIELD = data.Field(\n",
    "    sequential=False,\n",
    "    use_vocab=False\n",
    ")\n",
    "\n",
    "train_ds, dev_ds, test_ds = DataFrameDataset.splits(\n",
    "  text_field=TEXT_FIELD, label_field=LABEL_FIELD, train_df=df_train, dev_df=df_dev, test_df=df_test\n",
    ")\n",
    "\n",
    "TEXT_FIELD.build_vocab(\n",
    "    train_ds,\n",
    "    max_size=10000,\n",
    "    vectors=\"glove.6B.300d\",\n",
    "    unk_init=torch.Tensor.normal_\n",
    ")"
   ]
  },
  {
   "source": [
    "Let's look at our most frequent words from the vocabulary."
   ],
   "cell_type": "markdown",
   "metadata": {}
  },
  {
   "cell_type": "code",
   "execution_count": 94,
   "metadata": {},
   "outputs": [
    {
     "output_type": "stream",
     "name": "stdout",
     "text": [
      "[('the', 22363), ('.', 18792), (',', 18478), ('and', 11683), ('a', 10740), ('of', 10076), ('to', 9620), ('is', 7922), ('it', 6592), ('in', 6403), ('i', 5886), ('that', 5474), ('this', 4919), (\"'s\", 4078), ('\"', 3534), ('movie', 3387), ('-', 3207), ('as', 3156), ('was', 3058), ('with', 3030)]\n"
     ]
    }
   ],
   "source": [
    "from collections import Counter\n",
    "cnt = Counter(TEXT_FIELD.vocab.freqs)\n",
    "print(cnt.most_common(20))"
   ]
  },
  {
   "source": [
    "Below is an illustration of switching between words, indexes and their embeddings."
   ],
   "cell_type": "markdown",
   "metadata": {}
  },
  {
   "cell_type": "code",
   "execution_count": 95,
   "metadata": {},
   "outputs": [
    {
     "output_type": "stream",
     "name": "stdout",
     "text": [
      "torch.Size([10002, 300])\nit\n10\ntensor([ 0.0333, -0.0408, -0.0484,  0.1202, -0.1391, -0.1769, -0.0629,  0.1706,\n         0.2008, -2.4287,  0.4070, -0.0993,  0.0723,  0.2151,  0.2494,  0.2585,\n        -0.6637,  0.2247,  0.2576, -0.1746])\n"
     ]
    }
   ],
   "source": [
    "print(TEXT_FIELD.vocab.vectors.shape)\n",
    "print(TEXT_FIELD.vocab.itos[10])\n",
    "print(TEXT_FIELD.vocab.stoi[\"it\"])\n",
    "print(TEXT_FIELD.vocab.vectors[10, :20])"
   ]
  },
  {
   "source": [
    "We see that there are 10002 vector embeddings of size 300. This is because we have a 10000 words vocabulary and 2 special tokens (the padding token and the UNK token for the unknown word)."
   ],
   "cell_type": "markdown",
   "metadata": {}
  },
  {
   "source": [
    "Let's split our data into batches in order to be able to iterate through it."
   ],
   "cell_type": "markdown",
   "metadata": {}
  },
  {
   "cell_type": "code",
   "execution_count": 96,
   "metadata": {},
   "outputs": [],
   "source": [
    "BATCH_SIZE = 64\n",
    "train_it, dev_it, test_it = data.BucketIterator.splits((train_ds, dev_ds, test_ds), batch_size=BATCH_SIZE)"
   ]
  },
  {
   "source": [
    "Below we look at the shape of the first batch. As expected we see 64 examples. For each example we have an array of fixed size. That array contains the integer indexes of the words from the example, in the order that they appear in. In order for all of these arrays to be of the same size, the padding token is appended to the shorter texts to match the longest one in the batch."
   ],
   "cell_type": "markdown",
   "metadata": {}
  },
  {
   "cell_type": "code",
   "execution_count": 97,
   "metadata": {},
   "outputs": [
    {
     "output_type": "stream",
     "name": "stdout",
     "text": [
      "torch.Size([64, 1263])\ntensor([10, 15,  6,  ...,  1,  1,  1])\n"
     ]
    }
   ],
   "source": [
    "for batch in train_it:\n",
    "    print(batch.text.shape)\n",
    "    print(batch.text[10])\n",
    "    break"
   ]
  },
  {
   "source": [
    "Now for the embeddings. We use the Embedding layer from pyTorch. This is just a lookup table that maps words' integer ids to their embedding. We initialize these embeddings with the ones stored in our text field, then make sure that the vectors for the UNK and PAD tokens are zero."
   ],
   "cell_type": "markdown",
   "metadata": {}
  },
  {
   "cell_type": "code",
   "execution_count": 98,
   "metadata": {},
   "outputs": [],
   "source": [
    "import torch.nn as nn\n",
    "\n",
    "EMBEDDING_DIM = 300\n",
    "\n",
    "emb = nn.Embedding(len(TEXT_FIELD.vocab), EMBEDDING_DIM)\n",
    "pretrained_embeddings = TEXT_FIELD.vocab.vectors\n",
    "emb.weight.data.copy_(pretrained_embeddings)\n",
    "\n",
    "UNK_IDX = TEXT_FIELD.vocab.stoi[TEXT_FIELD.unk_token]\n",
    "PAD_IDX = TEXT_FIELD.vocab.stoi[TEXT_FIELD.pad_token]\n",
    "\n",
    "emb.weight.data[UNK_IDX] = torch.zeros(EMBEDDING_DIM)\n",
    "emb.weight.data[PAD_IDX] = torch.zeros(EMBEDDING_DIM)\n"
   ]
  },
  {
   "source": [
    "By running the embedding layer on a batch, we are able to see that we get a 3d array where the first dimension is the number of examples in the batch, the second one corresponds to the number of words in an example, and for each of these words we get the embedding of size 300. Below we check that indeed the embedding returned for the first word in the first example is the same as the embedding computed in the text field."
   ],
   "cell_type": "markdown",
   "metadata": {}
  },
  {
   "cell_type": "code",
   "execution_count": 99,
   "metadata": {},
   "outputs": [
    {
     "output_type": "stream",
     "name": "stdout",
     "text": [
      "torch.Size([64, 1169, 300])\ntensor([ 6.2652e-01,  1.9696e-01, -4.2650e-01,  8.8362e-01,  4.4016e-01,\n        -1.1991e-01, -1.1986e-01, -3.6827e-02,  4.9810e-04, -2.0244e-01,\n         2.9505e-01, -2.9846e-02, -9.2499e-01,  1.1632e-01, -1.8483e-01,\n        -3.5368e-01,  2.7334e-01, -1.2624e-01,  1.8222e-01, -1.9355e-02])\ntensor(1390)\ntensor([ 6.2652e-01,  1.9696e-01, -4.2650e-01,  8.8362e-01,  4.4016e-01,\n        -1.1991e-01, -1.1986e-01, -3.6827e-02,  4.9810e-04, -2.0244e-01,\n         2.9505e-01, -2.9846e-02, -9.2499e-01,  1.1632e-01, -1.8483e-01,\n        -3.5368e-01,  2.7334e-01, -1.2624e-01,  1.8222e-01, -1.9355e-02])\nwasted\n"
     ]
    }
   ],
   "source": [
    "for batch in train_it:\n",
    "    with torch.no_grad():\n",
    "        embeddings = emb(batch.text)\n",
    "        print(embeddings.shape)\n",
    "        print(embeddings[0, 0, :20])\n",
    "        print(batch.text[0, 0])\n",
    "        print(TEXT_FIELD.vocab.vectors[batch.text[0, 0]][:20])\n",
    "        print(TEXT_FIELD.vocab.itos[batch.text[0, 0]])\n",
    "    break\n"
   ]
  }
 ]
}