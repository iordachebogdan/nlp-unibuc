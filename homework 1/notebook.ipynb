{
 "metadata": {
  "language_info": {
   "codemirror_mode": {
    "name": "ipython",
    "version": 3
   },
   "file_extension": ".py",
   "mimetype": "text/x-python",
   "name": "python",
   "nbconvert_exporter": "python",
   "pygments_lexer": "ipython3",
   "version": "3.8.5-final"
  },
  "orig_nbformat": 2,
  "kernelspec": {
   "name": "python38564bitenvvenvccac66feb23c44e082c65e6120d9a1ec",
   "display_name": "Python 3.8.5 64-bit ('env': venv)"
  }
 },
 "nbformat": 4,
 "nbformat_minor": 2,
 "cells": [
  {
   "source": [
    "# IMDb Reviews Scraper\n",
    "### Iordache Ioan-Bogdan\n",
    "I chose to collect movie reviews from IMDb since they contain useful metadata for us to be able to build a dataset and run different Machine Learning algorithms on it.  We may try to detect the sentiment of a review by trying to predict its score or find how useful a review was for other users. All of these can be done through supervised learning since we already have the dataset \"labeled\" by the metadata mentioned above, like the score and the number of users who claimed that a review was helpful and those who claimed the opposite."
   ],
   "cell_type": "markdown",
   "metadata": {}
  },
  {
   "source": [
    "## Searching for a movie\n",
    "All IMDb URLs for a given movie are based on a movie ID. For a better scraping experience, I chose to implement the logic for retrieving this ID by providing the movie title (not necessarily the exact title).\n",
    "\n",
    "In order to do that, we use the search function of IMDb through the search URL by providing the search string. We need some processing on the search string: remove non-alphanumerical characters and replace white spaces with the '+' character."
   ],
   "cell_type": "markdown",
   "metadata": {}
  },
  {
   "cell_type": "code",
   "execution_count": 1,
   "metadata": {},
   "outputs": [],
   "source": [
    "import re\n",
    "\n",
    "\n",
    "def movie_title_to_search_string(title: str) -> str:\n",
    "    \"\"\" Remove non-alphanumerical characters and convert movie\n",
    "        title string to the format accepted by IMDB search link\n",
    "        (i.e. replace whitespaces with +)\n",
    "    \"\"\"\n",
    "    regex = re.compile(\"[^a-zA-Z 0-9]\")\n",
    "    title = regex.sub(\" \", title)\n",
    "    return re.sub(\"\\s+\", \"+\", title)"
   ]
  },
  {
   "source": [
    "By searching for the first <i>td</i> tag with the <i>.result_text</i> class we are able to get the ID of the first movie returned by the search query. If that tag cannot be found we throw an exception. It is also a good idea to retrieve the official title of the movie as well."
   ],
   "cell_type": "markdown",
   "metadata": {}
  },
  {
   "cell_type": "code",
   "execution_count": 2,
   "metadata": {},
   "outputs": [],
   "source": [
    "import bs4\n",
    "import requests\n",
    "from typing import Tuple\n",
    "\n",
    "headers = {\"Accept-Language\": \"en-US\"}\n",
    "\n",
    "\n",
    "class MovieNotFoundException(Exception):\n",
    "    pass\n",
    "\n",
    "\n",
    "def get_movie_true_title_and_id(movie_title: str) -> Tuple[str, str]:\n",
    "    \"\"\" Get IMDB id for given movie\n",
    "    \"\"\"\n",
    "    search_string = movie_title_to_search_string(movie_title)\n",
    "    response = requests.get(\n",
    "        f\"https://www.imdb.com/find?q={search_string}\",\n",
    "        headers = headers\n",
    "    )\n",
    "    souped_content = bs4.BeautifulSoup(response.content, \"html.parser\")\n",
    "    try:\n",
    "        first_result = souped_content.find(\"td\", class_=\"result_text\")\n",
    "        movie_link = first_result.find(\"a\")\n",
    "        movie_title = movie_link.text\n",
    "        movie_id = movie_link[\"href\"].split('/')[2]\n",
    "        return movie_title, movie_id\n",
    "    except Exception as ex:\n",
    "        raise MovieNotFoundException(\n",
    "            f\"Movie with title \\'{movie_title}\\' could NOT be found\"\n",
    "        )\n"
   ]
  },
  {
   "cell_type": "code",
   "execution_count": 3,
   "metadata": {},
   "outputs": [
    {
     "output_type": "execute_result",
     "data": {
      "text/plain": [
       "('Spider-Man 2', 'tt0316654')"
      ]
     },
     "metadata": {},
     "execution_count": 3
    }
   ],
   "source": [
    "# Test get_movie_id\n",
    "get_movie_true_title_and_id(\"spiderman 2\")"
   ]
  },
  {
   "source": [
    "## Extracting reviews\n",
    "### One review from its container\n",
    "A single review appears on the reviews page of a movie encapsulated inside a <i>.review-container div</i> tag. Below we implement the logic for extracting information for a single review from its container. We extract:\n",
    " * review title (always present)\n",
    " * text, the content of the review (always present)\n",
    " * score, integer between 1 and 10 (can be missing)\n",
    " * user name (always present)\n",
    " * date of the review (in the format yyyy/mm/dd)\n",
    " * number of users that voted on the usefulness of this review\n",
    " * number of users that considered this review useful\n",
    "\n",
    "Some processing has to be done on the review text. We remove all the tags but keep the text between them. If there are any URLs present in the text, we remove them and replace them with an <b>`[URL]`</b> token. Finally, we replace all multiple consecutive white spaces with a single space character and strip all the white spaces from the beginning and the end of the text string.  "
   ],
   "cell_type": "markdown",
   "metadata": {}
  },
  {
   "cell_type": "code",
   "execution_count": 10,
   "metadata": {},
   "outputs": [],
   "source": [
    "from datetime import datetime\n",
    "from typing import List, NamedTuple, Optional\n",
    "\n",
    "\n",
    "class Review(NamedTuple):\n",
    "    title: str\n",
    "    text: str\n",
    "    score: Optional[int]\n",
    "    user: str\n",
    "    date: str\n",
    "    helpfulness_votes: int\n",
    "    positive_helpfulness_votes: int\n",
    "\n",
    "    def __str__(self) -> str:\n",
    "        return (\n",
    "            f\"{self.title} ({self.score}/10)\\n\" +\n",
    "            f\"by {self.user} on {self.date}\\n\" +\n",
    "            f\"{self.text}\\n\\n\" +\n",
    "            f\"{self.positive_helpfulness_votes} out of \" +\n",
    "            f\"{self.helpfulness_votes} found it useful\"\n",
    "        )\n",
    "\n",
    "\n",
    "def process_review_text(text_div: bs4.element.Tag) -> str:\n",
    "    \"\"\" Remove html tags and shrink consecutive whitespaces.\n",
    "        Replace all URLs with a special token.\n",
    "    \"\"\"\n",
    "    # remove all tags but keep the text data\n",
    "    text = text_div.get_text(\" \", strip=True)\n",
    "    # replace links with [URL] token\n",
    "    text = re.sub(r\"https?://[^ ]+\", \"[URL]\", text)\n",
    "    text = re.sub(r\"www.[^ ]+\", \"[URL]\", text)\n",
    "    # change multiple consecutive whitespaces into a single space\n",
    "    text = re.sub(\"\\s+\", \" \", text)\n",
    "    return text\n",
    "\n",
    "\n",
    "def extract_review_from_div(tag: bs4.element.Tag) -> Review:\n",
    "    \"\"\" Extract all review info from the review-container div\n",
    "    \"\"\"\n",
    "    title = tag.find(\"a\", class_=\"title\").text.strip()\n",
    "    user = tag.find(\"span\", class_=\"display-name-link\").find(\"a\").text\n",
    "    date = tag.find(\"span\", class_=\"review-date\").text\n",
    "    # change date format to numerical one\n",
    "    date = datetime.strptime(date, \"%d %B %Y\").strftime(\"%Y/%m/%d\")\n",
    "    try:\n",
    "        score = int(tag.find(\"span\", class_=\"point-scale\").previous_sibling.text)\n",
    "    except Exception:\n",
    "        score = None  # no score is specified for this review\n",
    "    help_text = tag.find(\n",
    "        \"div\", class_=\"actions text-muted\"\n",
    "    ).text.strip().split(' ')\n",
    "    positive_helpfulness_votes, helpfulnes_votes = int(help_text[0].replace(',', '')), int(help_text[3].replace(',', ''))\n",
    "\n",
    "    # get review text\n",
    "    text_div = tag.find(\"div\", class_=\"text show-more__control\")\n",
    "    text = process_review_text(text_div)\n",
    "    \n",
    "    return Review(title=title, text=text, score=score, user=user, date=date,\n",
    "        helpfulness_votes=helpfulnes_votes,\n",
    "        positive_helpfulness_votes=positive_helpfulness_votes\n",
    "    )"
   ]
  },
  {
   "source": [
    "We test the above methods on the code of a review container extracted from an IMDb page. Some changes were applied in order to catch some corner cases."
   ],
   "cell_type": "markdown",
   "metadata": {}
  },
  {
   "cell_type": "code",
   "execution_count": 11,
   "metadata": {},
   "outputs": [
    {
     "output_type": "stream",
     "name": "stdout",
     "text": [
      "Just rewatching in 2020 (9/10)\nby koyushun on 2020/04/14\nI was a kid when I watched this in cinema back in 2004 I just want to say after all these years after a few version of Spider-Mans and all the MCU movie. This one is hands down the best Superhero movie text to keep . It has everything done within 2 hours. Perfectly [URL] caught up what it left of from the previous Spider-Man and Toby Maguire will always be my Spider-Man [URL] .\n\n26 out of 37 found it useful\n"
     ]
    }
   ],
   "source": [
    "# Test extract_review_from_div\n",
    "\n",
    "div = \"\"\"<div class=\"review-container\">\n",
    "        <div class=\"lister-item-content\">\n",
    "    <div class=\"ipl-ratings-bar\">\n",
    "            <span class=\"rating-other-user-rating\">\n",
    "            <svg class=\"ipl-icon ipl-star-icon  \" xmlns=\"http://www.w3.org/2000/svg\" fill=\"#000000\" height=\"24\" viewBox=\"0 0 24 24\" width=\"24\">\n",
    "                <path d=\"M0 0h24v24H0z\" fill=\"none\"/>\n",
    "                <path d=\"M12 17.27L18.18 21l-1.64-7.03L22 9.24l-7.19-.61L12 2 9.19 8.63 2 9.24l5.46 4.73L5.82 21z\"/>\n",
    "                <path d=\"M0 0h24v24H0z\" fill=\"none\"/>\n",
    "            </svg>\n",
    "                <span>9</span><span class=\"point-scale\">/10</span>\n",
    "            </span>\n",
    "    </div>\n",
    "<a href=\"/review/rw5638050/?ref_=tt_urv\"\n",
    "class=\"title\" > Just rewatching in 2020\n",
    "</a>            <div class=\"display-name-date\">\n",
    "                    <span class=\"display-name-link\"><a href=\"/user/ur68951879/?ref_=tt_urv\"\n",
    ">koyushun</a></span><span class=\"review-date\">14 April 2020</span>\n",
    "            </div>\n",
    "            <div class=\"content\">\n",
    "                <div class=\"text show-more__control\">I was a kid when I watched this in cinema back in 2004\n",
    "I just want to say after all these years after a few version of Spider-Mans and all the MCU movie.\n",
    "<br>\n",
    "<br>\n",
    "This one is hands down the best Superhero movie <a href=\"google.com\">text to keep</a>.\n",
    "It has everything done within 2 hours. Perfectly <a href=\"https://google.com\">https://google.com</a> caught up what it left of from the previous Spider-Man and Toby Maguire will always be my Spider-Man <a href=\"www.google.com\">www.google.com</a>.</div>\n",
    "                <div class=\"actions text-muted\">\n",
    "                    26 out of 37 found this helpful.\n",
    "                        <span>\n",
    "                            Was this review helpful? <a href=\"/registration/signin?ref_=urv\"\n",
    "> Sign in</a> to vote.\n",
    "                        </span>\n",
    "                        <br/>\n",
    "                    <a href=\"/review/rw5638050/?ref_=tt_urv\"\n",
    ">Permalink</a>\n",
    "                </div>\n",
    "            </div>\n",
    "        </div>\n",
    "        <div class=\"clear\"></div>\n",
    "    </div>\n",
    "\"\"\"\n",
    "\n",
    "div_soup = bs4.BeautifulSoup(div).find(\"div\", class_=\"review-container\")\n",
    "print(extract_review_from_div(div_soup))\n"
   ]
  },
  {
   "source": [
    "### Many reviews\n",
    "Scraping all of the reviews for a movie it is a little bit trickier than iterating through all of the review containers on the page. The pagination on IMDb is done by clicking the \"Load more\" button at the bottom of the page. This button does not change the URL of the page, but instead it does an asynchronous request that fetches the new components that need to be rendered on the current page. To simulate that request we need a \"pagination key\" that is specified in an attribute of the load button. Using that we can retrieve more reviews and also the pagination key for the next batch.\n",
    "\n",
    "Using this method we can scrape all the reviews but we chose to stop after a maximum of 100 for a given movie."
   ],
   "cell_type": "markdown",
   "metadata": {}
  },
  {
   "cell_type": "code",
   "execution_count": 12,
   "metadata": {},
   "outputs": [],
   "source": [
    "MAX_REVIEW_COUNT = 100\n",
    "\n",
    "\n",
    "def scrape_reviews(movie_id: str) -> List[Review]:\n",
    "    \"\"\"Get all reviews for given movie id\n",
    "    \"\"\"\n",
    "    request_link = f\"https://www.imdb.com/title/{movie_id}/reviews\"\n",
    "    review_divs = []\n",
    "    while len(review_divs) < MAX_REVIEW_COUNT:\n",
    "        response = requests.get(\n",
    "            request_link,\n",
    "            headers = headers\n",
    "        )\n",
    "        souped_content = bs4.BeautifulSoup(response.content, \"html.parser\")\n",
    "        review_divs.extend(\n",
    "            souped_content.find_all(\"div\", class_=\"review-container\")\n",
    "        )\n",
    "        \n",
    "        # load more link\n",
    "        load_more_div = souped_content.find(\"div\", class_=\"load-more-data\")\n",
    "        if not load_more_div:\n",
    "            break\n",
    "        pagination_key = load_more_div[\"data-key\"]\n",
    "        request_link = (\n",
    "            f\"https://www.imdb.com/title/{movie_id}/reviews/_ajax?ref_=undefined&\" +\n",
    "            f\"paginationKey={pagination_key}\"\n",
    "        )\n",
    "    reviews = []\n",
    "    for review_div in review_divs:\n",
    "        reviews.append(extract_review_from_div(review_div))\n",
    "\n",
    "    return reviews"
   ]
  },
  {
   "cell_type": "code",
   "execution_count": 13,
   "metadata": {},
   "outputs": [
    {
     "output_type": "stream",
     "name": "stdout",
     "text": [
      "100\n\"I believe there's a hero in all of us.\" (9/10)\nby utgard14 on 2014/05/29\nBeing Spider-Man is wrecking poor Peter Parker's life. He's had to give up his chance at love with Mary Jane, he can't hold a job because he's always late, his grades are suffering at college, his Aunt May is struggling with the loss of beloved Uncle Ben, and his best friend Harry blames Spider-Man for the death of his father. All of this leads to Peter deciding to give up being a superhero. But a new threat rises in the form of mad physicist Otto Octavius, dubbed Dr. Octopus by the press, that may force Peter out of retirement. Sam Raimi's direction is much improved from the first film. This one he seems completely at home with the big budget blockbuster and creates many memorable scenes and images, as he often does in his lower budget work. Comic fans should appreciate the homages to the works of Lee, Ditko, and Romita, The CGI improves from the first film. There's still a little bit of the rubbery animated look of the CGI humans but not as distracting as before. The action is also more impressive. The fight scenes between Spider-Man and Dr. Octopus are well-done. The scene where Spidey saves an elevated train is arguably the movie's highlight. Danny Elfman's music is good but, as with the first film, not in the same league as his iconic Batman work. The cast knocks it out of the park. Tobey Maguire perfectly captures the essence of Peter Parker, even more so than the first movie. His inherent nerdiness, awkwardness, and struggle to do what's right even at the cost of his own happiness. Kirsten Dunst and James Franco build upon their performances from the last movie. Dunst rises above the damsel-in-distress role she's saddled with quite nicely and by the end finally feels like the iconic Mary Jane (\"Go get 'em, Tiger.\"). Rosemary Harris gets far more to do as Aunt May this time around and she's amazing. She steals every scene she's in. The supporting cast (J.K. Simmons and the rest) are all great. Alfred Molina brings Dr. Octopus to life and treats the character seriously, which is miles above the hammy performance given by Willem Dafoe's Green Goblin in the first film. When this came out, it was the best superhero movie since Superman '78. I walked out of the theater beaming from ear to ear and feeling like a kid again. It was one of the rare summer blockbusters I went to see more than once. It still holds up and is a high water-mark for Marvel movies, in my opinion. It's followed by a terrible third film and then a reboot series that, while good, misses a lot of what makes this film work so well. This is the definitive Spider-Man movie. Lots of humor, heart, romance, and action all told in a bright, colorful fashion. Everything a Spider-Man film should be.\n\n14 out of 18 found it useful\n"
     ]
    }
   ],
   "source": [
    "# Test scrape_reviews\n",
    "import random\n",
    "\n",
    "\n",
    "reviews = scrape_reviews(\"tt0316654\")\n",
    "print(len(reviews))\n",
    "print(random.choice(reviews))"
   ]
  },
  {
   "source": [
    "## Building a dataset\n",
    "Now we are able to run these methods for a list of movie titles and retrieve all the reviews for them. We are going to store them in an in-memory DataFrame and we can also write them to disk on a CSV file for later usage."
   ],
   "cell_type": "markdown",
   "metadata": {}
  },
  {
   "cell_type": "code",
   "execution_count": 14,
   "metadata": {},
   "outputs": [
    {
     "output_type": "stream",
     "name": "stderr",
     "text": [
      "100%|██████████| 20/20 [01:25<00:00,  4.26s/it]\n"
     ]
    }
   ],
   "source": [
    "from tqdm import tqdm\n",
    "\n",
    "MOVIES = [\"Spiderman 2\", \"taxi driver\", \"goodfellas\", \"the   green mile\", \"Detachment\", \"Horrible Bosses 2\", \"Death of a Salesman\", \"Intermission\", \"October Sky\", \"Blackfish\", \"Hotel Transylvania\", \"Moon\", \"Les Choristes\", \"Interstellar\", \"The Strangers\", \"Pulp Fiction\", \"The Fault in Our Stars\", \"Ferris Bueller's Day Of\", \"Primal Fear\", \"Crash\"]\n",
    "COLUMNS = [\"movie\", \"title\", \"text\", \"score\", \"user\", \"date\", \"helpfulness_votes\", \"positive_helpfulness_votes\"]\n",
    "\n",
    "\n",
    "all_reviews = []\n",
    "for movie in tqdm(MOVIES):\n",
    "    movie_title, movie_id = get_movie_true_title_and_id(movie)\n",
    "    reviews = scrape_reviews(movie_id)\n",
    "    all_reviews.extend(\n",
    "        (\n",
    "            (\n",
    "                movie_title, review.title, review.text, review.score, review.user,\n",
    "                review.date, review.helpfulness_votes, review.positive_helpfulness_votes\n",
    "            ) \n",
    "            for review in reviews\n",
    "        )\n",
    "    )"
   ]
  },
  {
   "cell_type": "code",
   "execution_count": 15,
   "metadata": {},
   "outputs": [
    {
     "output_type": "execute_result",
     "data": {
      "text/plain": [
       "                    movie                                           title  \\\n",
       "0                    Moon                        Amazing Throwback Sci-Fi   \n",
       "1              The Chorus  Marvellous - Please do not remake in English!!   \n",
       "2          The Green Mile                                          Crap !   \n",
       "3              Detachment       A touching, thought provoking masterpiece   \n",
       "4              Detachment                              Best Movie of 2011   \n",
       "5            Pulp Fiction                                  Wow! Just wow!   \n",
       "6              The Chorus                   Love and courage in education   \n",
       "7                    Moon                                Wow, just Wow...   \n",
       "8  The Fault in Our Stars                             A \"Sick love story\"   \n",
       "9  The Fault in Our Stars                                      Luckily...   \n",
       "\n",
       "                                                text  score  \\\n",
       "0  There is little that I can do by way of review...   10.0   \n",
       "1  I recorded this on my Sky Plus box out of curi...   10.0   \n",
       "2  Hard to believe that so many people seem to be...    1.0   \n",
       "3  Wow, was not expecting that! Popped into the c...   10.0   \n",
       "4  Saw this at a local film festival with little ...   10.0   \n",
       "5  I absolutely love this film. Around 5 or 6 yea...   10.0   \n",
       "6  Mr. Mathieu communicated with the students lik...    9.0   \n",
       "7  Possibly the best sci-fi film I have ever seen...   10.0   \n",
       "8  This review is originally from my blog Derpy R...    9.0   \n",
       "9  Just what I've written in the title... LUCKILY...    1.0   \n",
       "\n",
       "                user        date  helpfulness_votes  \\\n",
       "0     drunkenhopfrog  2009/07/24                 41   \n",
       "1        beresfordjd  2006/05/01                  4   \n",
       "2         Doc-Zucker  2006/04/17                137   \n",
       "3  darren-153-890810  2012/07/18                  6   \n",
       "4            feguiza  2011/11/27                312   \n",
       "5          destiniem  2020/04/16                  9   \n",
       "6       IreneWatsonC  2020/03/20                  0   \n",
       "7     caitlin_online  2010/01/03                 10   \n",
       "8  jfischer-8-534134  2014/05/23                146   \n",
       "9           yiwen-96  2015/03/05                  7   \n",
       "\n",
       "   positive_helpfulness_votes  \n",
       "0                          27  \n",
       "1                           3  \n",
       "2                          40  \n",
       "3                           4  \n",
       "4                         274  \n",
       "5                           7  \n",
       "6                           0  \n",
       "7                           5  \n",
       "8                          81  \n",
       "9                           4  "
      ],
      "text/html": "<div>\n<style scoped>\n    .dataframe tbody tr th:only-of-type {\n        vertical-align: middle;\n    }\n\n    .dataframe tbody tr th {\n        vertical-align: top;\n    }\n\n    .dataframe thead th {\n        text-align: right;\n    }\n</style>\n<table border=\"1\" class=\"dataframe\">\n  <thead>\n    <tr style=\"text-align: right;\">\n      <th></th>\n      <th>movie</th>\n      <th>title</th>\n      <th>text</th>\n      <th>score</th>\n      <th>user</th>\n      <th>date</th>\n      <th>helpfulness_votes</th>\n      <th>positive_helpfulness_votes</th>\n    </tr>\n  </thead>\n  <tbody>\n    <tr>\n      <th>0</th>\n      <td>Moon</td>\n      <td>Amazing Throwback Sci-Fi</td>\n      <td>There is little that I can do by way of review...</td>\n      <td>10.0</td>\n      <td>drunkenhopfrog</td>\n      <td>2009/07/24</td>\n      <td>41</td>\n      <td>27</td>\n    </tr>\n    <tr>\n      <th>1</th>\n      <td>The Chorus</td>\n      <td>Marvellous - Please do not remake in English!!</td>\n      <td>I recorded this on my Sky Plus box out of curi...</td>\n      <td>10.0</td>\n      <td>beresfordjd</td>\n      <td>2006/05/01</td>\n      <td>4</td>\n      <td>3</td>\n    </tr>\n    <tr>\n      <th>2</th>\n      <td>The Green Mile</td>\n      <td>Crap !</td>\n      <td>Hard to believe that so many people seem to be...</td>\n      <td>1.0</td>\n      <td>Doc-Zucker</td>\n      <td>2006/04/17</td>\n      <td>137</td>\n      <td>40</td>\n    </tr>\n    <tr>\n      <th>3</th>\n      <td>Detachment</td>\n      <td>A touching, thought provoking masterpiece</td>\n      <td>Wow, was not expecting that! Popped into the c...</td>\n      <td>10.0</td>\n      <td>darren-153-890810</td>\n      <td>2012/07/18</td>\n      <td>6</td>\n      <td>4</td>\n    </tr>\n    <tr>\n      <th>4</th>\n      <td>Detachment</td>\n      <td>Best Movie of 2011</td>\n      <td>Saw this at a local film festival with little ...</td>\n      <td>10.0</td>\n      <td>feguiza</td>\n      <td>2011/11/27</td>\n      <td>312</td>\n      <td>274</td>\n    </tr>\n    <tr>\n      <th>5</th>\n      <td>Pulp Fiction</td>\n      <td>Wow! Just wow!</td>\n      <td>I absolutely love this film. Around 5 or 6 yea...</td>\n      <td>10.0</td>\n      <td>destiniem</td>\n      <td>2020/04/16</td>\n      <td>9</td>\n      <td>7</td>\n    </tr>\n    <tr>\n      <th>6</th>\n      <td>The Chorus</td>\n      <td>Love and courage in education</td>\n      <td>Mr. Mathieu communicated with the students lik...</td>\n      <td>9.0</td>\n      <td>IreneWatsonC</td>\n      <td>2020/03/20</td>\n      <td>0</td>\n      <td>0</td>\n    </tr>\n    <tr>\n      <th>7</th>\n      <td>Moon</td>\n      <td>Wow, just Wow...</td>\n      <td>Possibly the best sci-fi film I have ever seen...</td>\n      <td>10.0</td>\n      <td>caitlin_online</td>\n      <td>2010/01/03</td>\n      <td>10</td>\n      <td>5</td>\n    </tr>\n    <tr>\n      <th>8</th>\n      <td>The Fault in Our Stars</td>\n      <td>A \"Sick love story\"</td>\n      <td>This review is originally from my blog Derpy R...</td>\n      <td>9.0</td>\n      <td>jfischer-8-534134</td>\n      <td>2014/05/23</td>\n      <td>146</td>\n      <td>81</td>\n    </tr>\n    <tr>\n      <th>9</th>\n      <td>The Fault in Our Stars</td>\n      <td>Luckily...</td>\n      <td>Just what I've written in the title... LUCKILY...</td>\n      <td>1.0</td>\n      <td>yiwen-96</td>\n      <td>2015/03/05</td>\n      <td>7</td>\n      <td>4</td>\n    </tr>\n  </tbody>\n</table>\n</div>"
     },
     "metadata": {},
     "execution_count": 15
    }
   ],
   "source": [
    "import pandas as pd\n",
    "import random\n",
    "\n",
    "\n",
    "random.shuffle(all_reviews)\n",
    "df = pd.DataFrame(all_reviews, columns=COLUMNS)\n",
    "df.to_csv(\"imdb_reviews.csv\")\n",
    "df.head(10)"
   ]
  }
 ]
}