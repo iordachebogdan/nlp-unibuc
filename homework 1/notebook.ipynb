{
 "metadata": {
  "language_info": {
   "codemirror_mode": {
    "name": "ipython",
    "version": 3
   },
   "file_extension": ".py",
   "mimetype": "text/x-python",
   "name": "python",
   "nbconvert_exporter": "python",
   "pygments_lexer": "ipython3",
   "version": "3.8.5-final"
  },
  "orig_nbformat": 2,
  "kernelspec": {
   "name": "python38564bitenvvenvccac66feb23c44e082c65e6120d9a1ec",
   "display_name": "Python 3.8.5 64-bit ('env': venv)"
  }
 },
 "nbformat": 4,
 "nbformat_minor": 2,
 "cells": [
  {
   "cell_type": "code",
   "execution_count": 4,
   "metadata": {},
   "outputs": [],
   "source": [
    "import re\n",
    "\n",
    "\n",
    "def movie_title_to_search_string(title: str) -> str:\n",
    "    \"\"\" Convert movie title string to the format accepted\n",
    "        by IMDB search link (i.e. replace whitespaces with +)\n",
    "    \"\"\"\n",
    "    return re.sub(\"\\s+\", \"+\", title)"
   ]
  },
  {
   "cell_type": "code",
   "execution_count": 26,
   "metadata": {},
   "outputs": [],
   "source": [
    "import bs4\n",
    "import requests\n",
    "from typing import Tuple\n",
    "\n",
    "headers = {\"Accept-Language\": \"en-US\"}\n",
    "\n",
    "\n",
    "class MovieNotFoundException(Exception):\n",
    "    pass\n",
    "\n",
    "\n",
    "def get_movie_true_title_and_id(movie_title: str) -> Tuple[str, str]:\n",
    "    \"\"\" Get IMDB id for given movie\n",
    "    \"\"\"\n",
    "    search_string = movie_title_to_search_string(movie_title)\n",
    "    response = requests.get(\n",
    "        f\"https://www.imdb.com/find?q={search_string}\",\n",
    "        headers = headers\n",
    "    )\n",
    "    souped_content = bs4.BeautifulSoup(response.content, \"html.parser\")\n",
    "    try:\n",
    "        first_result = souped_content.find(\"td\", class_=\"result_text\")\n",
    "        movie_link = first_result.find(\"a\")\n",
    "        movie_title = movie_link.text\n",
    "        movie_id = movie_link[\"href\"].split('/')[2]\n",
    "        return movie_title, movie_id\n",
    "    except Exception as ex:\n",
    "        raise MovieNotFoundException(\n",
    "            f\"Movie with title \\'{movie_title}\\' could NOT be found\"\n",
    "        )\n"
   ]
  },
  {
   "cell_type": "code",
   "execution_count": 27,
   "metadata": {},
   "outputs": [
    {
     "output_type": "execute_result",
     "data": {
      "text/plain": [
       "('Spider-Man 2', 'tt0316654')"
      ]
     },
     "metadata": {},
     "execution_count": 27
    }
   ],
   "source": [
    "# Test get_movie_id\n",
    "get_movie_true_title_and_id(\"spiderman 2\")"
   ]
  },
  {
   "cell_type": "code",
   "execution_count": 82,
   "metadata": {},
   "outputs": [],
   "source": [
    "from datetime import datetime\n",
    "from typing import List, NamedTuple, Optional\n",
    "\n",
    "\n",
    "class Review(NamedTuple):\n",
    "    title: str\n",
    "    text: str\n",
    "    score: Optional[int]\n",
    "    user: str\n",
    "    date: str\n",
    "    helpfulness_votes: int\n",
    "    positive_helpfulness_votes: int\n",
    "\n",
    "    def __str__(self) -> str:\n",
    "        return (\n",
    "            f\"{self.title} ({self.score}/10)\\n\" +\n",
    "            f\"by {self.user} on {self.date}\\n\" +\n",
    "            f\"{self.text}...\\n\\n\" +\n",
    "            f\"{self.positive_helpfulness_votes} out of \" +\n",
    "            f\"{self.helpfulness_votes} found it useful\"\n",
    "        )\n",
    "\n",
    "\n",
    "def process_review_text(text_div: bs4.element.Tag) -> str:\n",
    "    \"\"\" Remove html tags and shrink consecutive whitespaces.\n",
    "        Replace all URLs with a special token.\n",
    "    \"\"\"\n",
    "    # replace links with [URL] token\n",
    "    links = text_div.find_all(\"a\")\n",
    "    for link in links:\n",
    "        link.string = \"[URL]\"\n",
    "        link.unwrap()\n",
    "    # remove all other tags\n",
    "    text = text_div.get_text().strip()\n",
    "    # change multiple consecutive whitespaces into a single space\n",
    "    text = re.sub(\"\\s+\", \" \", text)\n",
    "    return text\n",
    "\n",
    "\n",
    "def extract_review_from_div(tag: bs4.element.Tag) -> Review:\n",
    "    \"\"\" Extract all review info from the review-container div\n",
    "    \"\"\"\n",
    "    title = tag.find(\"a\", class_=\"title\").text.strip()\n",
    "    user = tag.find(\"span\", class_=\"display-name-link\").find(\"a\").text\n",
    "    date = tag.find(\"span\", class_=\"review-date\").text\n",
    "    # change date format to numerical one\n",
    "    date = datetime.strptime(date, \"%d %B %Y\").strftime(\"%Y/%m/%d\")\n",
    "    try:\n",
    "        score = int(tag.find(\"span\", class_=\"point-scale\").previous_sibling.text)\n",
    "    except Exception:\n",
    "        score = None  # no score is specified for this review\n",
    "    help_text = tag.find(\n",
    "        \"div\", class_=\"actions text-muted\"\n",
    "    ).text.strip().split(' ')\n",
    "    positive_helpfulness_votes, helpfulnes_votes = int(help_text[0]), int(help_text[3])\n",
    "\n",
    "    # get review text\n",
    "    text_div = tag.find(\"div\", class_=\"text show-more__control\")\n",
    "    text = process_review_text(text_div)\n",
    "    \n",
    "    return Review(title=title, text=text, score=score, user=user, date=date,\n",
    "        helpfulness_votes=helpfulnes_votes,\n",
    "        positive_helpfulness_votes=positive_helpfulness_votes\n",
    "    )"
   ]
  },
  {
   "cell_type": "code",
   "execution_count": 84,
   "metadata": {},
   "outputs": [
    {
     "output_type": "stream",
     "name": "stdout",
     "text": [
      "Just rewatching in 2020 (9/10)\nby koyushun on 2020/04/14\nI was a kid when I watched this in cinema back in 2004 I just want to say after all these years after a few version of Spider-Mans and all the MCU movie. This one is hands down the best Superhero movie [URL]. It has everything done within 2 hours. Perfectly [URL] caught up what it left of from the previous Spider-Man and Toby Maguire will always be my Spider-Man....\n\n26 out of 37 found it useful\n"
     ]
    }
   ],
   "source": [
    "# Test extract_review_from_div\n",
    "\n",
    "div = \"\"\"<div class=\"review-container\">\n",
    "        <div class=\"lister-item-content\">\n",
    "    <div class=\"ipl-ratings-bar\">\n",
    "            <span class=\"rating-other-user-rating\">\n",
    "            <svg class=\"ipl-icon ipl-star-icon  \" xmlns=\"http://www.w3.org/2000/svg\" fill=\"#000000\" height=\"24\" viewBox=\"0 0 24 24\" width=\"24\">\n",
    "                <path d=\"M0 0h24v24H0z\" fill=\"none\"/>\n",
    "                <path d=\"M12 17.27L18.18 21l-1.64-7.03L22 9.24l-7.19-.61L12 2 9.19 8.63 2 9.24l5.46 4.73L5.82 21z\"/>\n",
    "                <path d=\"M0 0h24v24H0z\" fill=\"none\"/>\n",
    "            </svg>\n",
    "                <span>9</span><span class=\"point-scale\">/10</span>\n",
    "            </span>\n",
    "    </div>\n",
    "<a href=\"/review/rw5638050/?ref_=tt_urv\"\n",
    "class=\"title\" > Just rewatching in 2020\n",
    "</a>            <div class=\"display-name-date\">\n",
    "                    <span class=\"display-name-link\"><a href=\"/user/ur68951879/?ref_=tt_urv\"\n",
    ">koyushun</a></span><span class=\"review-date\">14 April 2020</span>\n",
    "            </div>\n",
    "            <div class=\"content\">\n",
    "                <div class=\"text show-more__control\">I was a kid when I watched this in cinema back in 2004\n",
    "I just want to say after all these years after a few version of Spider-Mans and all the MCU movie.\n",
    "<br>\n",
    "<br>\n",
    "This one is hands down the best Superhero movie <a href=\"google.com\">link1</a>.\n",
    "It has everything done within 2 hours. Perfectly <a href=\"google.com\">link2</a> caught up what it left of from the previous Spider-Man and Toby Maguire will always be my Spider-Man.</div>\n",
    "                <div class=\"actions text-muted\">\n",
    "                    26 out of 37 found this helpful.\n",
    "                        <span>\n",
    "                            Was this review helpful? <a href=\"/registration/signin?ref_=urv\"\n",
    "> Sign in</a> to vote.\n",
    "                        </span>\n",
    "                        <br/>\n",
    "                    <a href=\"/review/rw5638050/?ref_=tt_urv\"\n",
    ">Permalink</a>\n",
    "                </div>\n",
    "            </div>\n",
    "        </div>\n",
    "        <div class=\"clear\"></div>\n",
    "    </div>\n",
    "\"\"\"\n",
    "\n",
    "div_soup = bs4.BeautifulSoup(div).find(\"div\", class_=\"review-container\")\n",
    "print(extract_review_from_div(div_soup))\n"
   ]
  },
  {
   "cell_type": "code",
   "execution_count": 95,
   "metadata": {},
   "outputs": [],
   "source": [
    "MAX_REVIEW_COUNT = 100\n",
    "\n",
    "\n",
    "def scrape_reviews(movie_id: str) -> List[Review]:\n",
    "    \"\"\"Get all reviews for given movie id\n",
    "    \"\"\"\n",
    "    request_link = f\"https://www.imdb.com/title/{movie_id}/reviews\"\n",
    "    review_divs = []\n",
    "    while len(review_divs) < MAX_REVIEW_COUNT:\n",
    "        response = requests.get(\n",
    "            request_link,\n",
    "            headers = headers\n",
    "        )\n",
    "        souped_content = bs4.BeautifulSoup(response.content, \"html.parser\")\n",
    "        review_divs.extend(\n",
    "            souped_content.find_all(\"div\", class_=\"review-container\")\n",
    "        )\n",
    "        \n",
    "        # load more link\n",
    "        load_more_div = souped_content.find(\"div\", class_=\"load-more-data\")\n",
    "        if not load_more_div:\n",
    "            break\n",
    "        pagination_key = load_more_div[\"data-key\"]\n",
    "        request_link = (\n",
    "            f\"https://www.imdb.com/title/{movie_id}/reviews/_ajax?ref_=undefined&\" +\n",
    "            f\"paginationKey={pagination_key}\"\n",
    "        )\n",
    "    reviews = []\n",
    "    for review_div in review_divs:\n",
    "        reviews.append(extract_review_from_div(review_div))\n",
    "\n",
    "    return reviews"
   ]
  },
  {
   "cell_type": "code",
   "execution_count": 99,
   "metadata": {},
   "outputs": [
    {
     "output_type": "stream",
     "name": "stdout",
     "text": [
      "100\nSpider-sequel-tastic (10/10)\nby blacklist-1 on 2009/09/29\nMy presumptions of a sequel to a successful original are that they are worn out and are a desperate attempt to cash in on it's predecessor. Look no further for conclusive evidence with the terrible Transformers: Revenge of the Fallen to know what I'm talking about.But every now and again a sequel comes along that just simply changes your perceptions and gives you faith in a continuing franchise where the sequel is just as or in the case of Spiderman 2 better than it's predecessor.Toby Maquire, Kirsten Dunst and James Franco return with director Sam Raimi who has done a terrific job in making this for me one of the best sequels of all time.One of the successes Spiderman 2 has is the depth of the characters and stories as there is more than one strand. Toby Maquire has the same natural ability which he possessed in the first film to accurately convey the character of Peter Parker who struggles with his feelings for Mary Jane who becomes frustrated that he can't return her feelings for him, to his fractured friendship with Harry Osborne who harbours a deep grudge against Spiderman to trying to balance his life as superhero, student and employee and struggling with his Aunt May over Uncle Ben's death to finally battling the new villain Oto Octavious played memorably by Alfred Molina and all these story strands thread there way through two hours of pure entertainment.With the main story and these sub-stories the film could have become confusing and meaningless but thanks to the sublime artistry from Sam Raimi, it flows beautifully and never loses sight of itself.Which goes to say the acting is as brilliant from the main cast which helps the film has more exploration and depth and the special effects this time round are flawless and much improved on the first.This has everything for the comic fans and those who just want to be entertained of action (which there is plenty of particularly towards the end) drama, romance and humour mostly from JK Simmons who when he was on screen I was laughing out loud.Credit goes to all involved and I very much look forward to Spiderman 3....\n\n27 out of 36 found it useful\n"
     ]
    }
   ],
   "source": [
    "# Test scrape_reviews\n",
    "import random\n",
    "\n",
    "\n",
    "reviews = scrape_reviews(\"tt0316654\")\n",
    "print(len(reviews))\n",
    "print(random.choice(reviews))"
   ]
  },
  {
   "cell_type": "code",
   "execution_count": 100,
   "metadata": {},
   "outputs": [
    {
     "output_type": "stream",
     "name": "stderr",
     "text": [
      "100%|██████████| 4/4 [00:18<00:00,  4.63s/it]\n"
     ]
    }
   ],
   "source": [
    "from tqdm import tqdm\n",
    "\n",
    "MOVIES = [\"Spiderman 2\", \"taxi driver\", \"goodfellas\", \"the   green mile\"]\n",
    "COLUMNS = [\"movie\", \"title\", \"text\", \"score\", \"user\", \"date\", \"helpfulness_votes\", \"positive_helpfulness_votes\"]\n",
    "\n",
    "\n",
    "all_reviews = []\n",
    "for movie in tqdm(MOVIES):\n",
    "    movie_title, movie_id = get_movie_true_title_and_id(movie)\n",
    "    reviews = scrape_reviews(movie_id)\n",
    "    all_reviews.extend(\n",
    "        (\n",
    "            (\n",
    "                movie_title, review.title, review.text, review.score, review.user,\n",
    "                review.date, review.helpfulness_votes, review.positive_helpfulness_votes\n",
    "            ) \n",
    "            for review in reviews\n",
    "        )\n",
    "    )"
   ]
  },
  {
   "cell_type": "code",
   "execution_count": 122,
   "metadata": {},
   "outputs": [
    {
     "output_type": "execute_result",
     "data": {
      "text/plain": [
       "            movie                                              title  \\\n",
       "0    Spider-Man 2   Spider-Man just keeps getting better and better!   \n",
       "1     Taxi Driver                           An Enigmatic Masterpiece   \n",
       "2      Goodfellas                             Incredible crime drama   \n",
       "3  The Green Mile                Rest in Peace Michael Clarke Duncan   \n",
       "4      Goodfellas                         Most overrated movie ever!   \n",
       "5  The Green Mile  Frank Darabont's Green Mile goes the extra mil...   \n",
       "6  The Green Mile                              It is Beyond its Date   \n",
       "7  The Green Mile                                      I loved it!!!   \n",
       "8    Spider-Man 2  Spider-man is back but with a greater enemy Do...   \n",
       "9  The Green Mile  A Masterpiece of Cinematic Art -- Captivating,...   \n",
       "\n",
       "                                                text  score  \\\n",
       "0  This movie takes everything from the first mov...    9.0   \n",
       "1  If a picture is worth a thousand words then th...    NaN   \n",
       "2  Goodfellas is an incredible crime drama that's...    9.0   \n",
       "3  There's a reason why this Oscar winning tour d...   10.0   \n",
       "4  Maybe I was so disappointed in this movie beca...    1.0   \n",
       "5  I promise you that if you have any humanity in...    9.0   \n",
       "6  There is nothing left to say after 21 years ha...   10.0   \n",
       "7  I had looked forward to this movie ever since ...   10.0   \n",
       "8  He's back but with a bigger problem now. His p...    9.0   \n",
       "9  \"The Green Mile\" expertly mixes film genres: I...    9.0   \n",
       "\n",
       "                user        date  helpfulness_votes  \\\n",
       "0       Green_Saturn  2010/09/03                  3   \n",
       "1          JosefSerf  2004/05/04                330   \n",
       "2          masonsaul  2020/07/27                  4   \n",
       "3  epluribusunum2010  2012/09/05                 66   \n",
       "4          mfmoore-1  2007/10/14                153   \n",
       "5       ironhorse_iv  2013/08/05                  6   \n",
       "6        burakparlak  2020/02/03                  2   \n",
       "7            corky-7  1999/12/11                  3   \n",
       "8     howellgirl2011  2011/01/13                 22   \n",
       "9            Wuchakk  2011/08/19                  9   \n",
       "\n",
       "   positive_helpfulness_votes  \n",
       "0                           3  \n",
       "1                         253  \n",
       "2                           3  \n",
       "3                          61  \n",
       "4                          63  \n",
       "5                           4  \n",
       "6                           2  \n",
       "7                           3  \n",
       "8                          14  \n",
       "9                           5  "
      ],
      "text/html": "<div>\n<style scoped>\n    .dataframe tbody tr th:only-of-type {\n        vertical-align: middle;\n    }\n\n    .dataframe tbody tr th {\n        vertical-align: top;\n    }\n\n    .dataframe thead th {\n        text-align: right;\n    }\n</style>\n<table border=\"1\" class=\"dataframe\">\n  <thead>\n    <tr style=\"text-align: right;\">\n      <th></th>\n      <th>movie</th>\n      <th>title</th>\n      <th>text</th>\n      <th>score</th>\n      <th>user</th>\n      <th>date</th>\n      <th>helpfulness_votes</th>\n      <th>positive_helpfulness_votes</th>\n    </tr>\n  </thead>\n  <tbody>\n    <tr>\n      <th>0</th>\n      <td>Spider-Man 2</td>\n      <td>Spider-Man just keeps getting better and better!</td>\n      <td>This movie takes everything from the first mov...</td>\n      <td>9.0</td>\n      <td>Green_Saturn</td>\n      <td>2010/09/03</td>\n      <td>3</td>\n      <td>3</td>\n    </tr>\n    <tr>\n      <th>1</th>\n      <td>Taxi Driver</td>\n      <td>An Enigmatic Masterpiece</td>\n      <td>If a picture is worth a thousand words then th...</td>\n      <td>NaN</td>\n      <td>JosefSerf</td>\n      <td>2004/05/04</td>\n      <td>330</td>\n      <td>253</td>\n    </tr>\n    <tr>\n      <th>2</th>\n      <td>Goodfellas</td>\n      <td>Incredible crime drama</td>\n      <td>Goodfellas is an incredible crime drama that's...</td>\n      <td>9.0</td>\n      <td>masonsaul</td>\n      <td>2020/07/27</td>\n      <td>4</td>\n      <td>3</td>\n    </tr>\n    <tr>\n      <th>3</th>\n      <td>The Green Mile</td>\n      <td>Rest in Peace Michael Clarke Duncan</td>\n      <td>There's a reason why this Oscar winning tour d...</td>\n      <td>10.0</td>\n      <td>epluribusunum2010</td>\n      <td>2012/09/05</td>\n      <td>66</td>\n      <td>61</td>\n    </tr>\n    <tr>\n      <th>4</th>\n      <td>Goodfellas</td>\n      <td>Most overrated movie ever!</td>\n      <td>Maybe I was so disappointed in this movie beca...</td>\n      <td>1.0</td>\n      <td>mfmoore-1</td>\n      <td>2007/10/14</td>\n      <td>153</td>\n      <td>63</td>\n    </tr>\n    <tr>\n      <th>5</th>\n      <td>The Green Mile</td>\n      <td>Frank Darabont's Green Mile goes the extra mil...</td>\n      <td>I promise you that if you have any humanity in...</td>\n      <td>9.0</td>\n      <td>ironhorse_iv</td>\n      <td>2013/08/05</td>\n      <td>6</td>\n      <td>4</td>\n    </tr>\n    <tr>\n      <th>6</th>\n      <td>The Green Mile</td>\n      <td>It is Beyond its Date</td>\n      <td>There is nothing left to say after 21 years ha...</td>\n      <td>10.0</td>\n      <td>burakparlak</td>\n      <td>2020/02/03</td>\n      <td>2</td>\n      <td>2</td>\n    </tr>\n    <tr>\n      <th>7</th>\n      <td>The Green Mile</td>\n      <td>I loved it!!!</td>\n      <td>I had looked forward to this movie ever since ...</td>\n      <td>10.0</td>\n      <td>corky-7</td>\n      <td>1999/12/11</td>\n      <td>3</td>\n      <td>3</td>\n    </tr>\n    <tr>\n      <th>8</th>\n      <td>Spider-Man 2</td>\n      <td>Spider-man is back but with a greater enemy Do...</td>\n      <td>He's back but with a bigger problem now. His p...</td>\n      <td>9.0</td>\n      <td>howellgirl2011</td>\n      <td>2011/01/13</td>\n      <td>22</td>\n      <td>14</td>\n    </tr>\n    <tr>\n      <th>9</th>\n      <td>The Green Mile</td>\n      <td>A Masterpiece of Cinematic Art -- Captivating,...</td>\n      <td>\"The Green Mile\" expertly mixes film genres: I...</td>\n      <td>9.0</td>\n      <td>Wuchakk</td>\n      <td>2011/08/19</td>\n      <td>9</td>\n      <td>5</td>\n    </tr>\n  </tbody>\n</table>\n</div>"
     },
     "metadata": {},
     "execution_count": 122
    }
   ],
   "source": [
    "import pandas as pd\n",
    "import random\n",
    "\n",
    "\n",
    "random.shuffle(all_reviews)\n",
    "df = pd.DataFrame(all_reviews, columns=COLUMNS)\n",
    "df.to_csv(\"imdb_reviews.csv\")\n",
    "df.head(10)"
   ]
  }
 ]
}