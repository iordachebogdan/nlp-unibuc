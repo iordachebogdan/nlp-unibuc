{
 "metadata": {
  "language_info": {
   "codemirror_mode": {
    "name": "ipython",
    "version": 3
   },
   "file_extension": ".py",
   "mimetype": "text/x-python",
   "name": "python",
   "nbconvert_exporter": "python",
   "pygments_lexer": "ipython3",
   "version": "3.8.5-final"
  },
  "orig_nbformat": 2,
  "kernelspec": {
   "name": "python38564bitenvvenvccac66feb23c44e082c65e6120d9a1ec",
   "display_name": "Python 3.8.5 64-bit ('env': venv)"
  }
 },
 "nbformat": 4,
 "nbformat_minor": 2,
 "cells": [
  {
   "source": [
    "# IMDb Reviews Scraper\n",
    "### Iordache Ioan-Bogdan\n",
    "I chose to collect movie reviews from IMDb since they contain useful metadata for us to be able to build a dataset and run different Machine Learning algorithms on it.  We may try to detect the sentiment of a review by trying to predict its score or find how useful a review was for other users. All of these can be done through supervised learning since we already have the dataset \"labeled\" by the metadata mentioned above, like the score and the number of users who claimed that a review was helpful and those who claimed the opposite."
   ],
   "cell_type": "markdown",
   "metadata": {}
  },
  {
   "source": [
    "## Searching for a movie\n",
    "All IMDb URLs for a given movie are based on a movie ID. For a better scraping experience, I chose to implement the logic for retrieving this ID by providing the movie title (not necessarily the exact title).\n",
    "\n",
    "In order to do that, we use the search function of IMDb through the search URL by providing the search string. We need some processing on the search string: remove non-alphanumerical characters and replace white spaces with the '+' character."
   ],
   "cell_type": "markdown",
   "metadata": {}
  },
  {
   "cell_type": "code",
   "execution_count": 2,
   "metadata": {},
   "outputs": [],
   "source": [
    "import re\n",
    "\n",
    "\n",
    "def movie_title_to_search_string(title: str) -> str:\n",
    "    \"\"\" Remove non-alphanumerical characters and convert movie\n",
    "        title string to the format accepted by IMDB search link\n",
    "        (i.e. replace whitespaces with +)\n",
    "    \"\"\"\n",
    "    regex = re.compile(\"[^a-zA-Z 0-9]\")\n",
    "    title = regex.sub(\" \", title)\n",
    "    return re.sub(\"\\s+\", \"+\", title)"
   ]
  },
  {
   "source": [
    "By searching for the first <i>td</i> tag with the <i>.result_text</i> class we are able to get the ID of the first movie returned by the search query. If that tag cannot be found we throw an exception. It is also a good idea to retrieve the official title of the movie as well."
   ],
   "cell_type": "markdown",
   "metadata": {}
  },
  {
   "cell_type": "code",
   "execution_count": 3,
   "metadata": {},
   "outputs": [],
   "source": [
    "import bs4\n",
    "import requests\n",
    "from typing import Tuple\n",
    "\n",
    "headers = {\"Accept-Language\": \"en-US\"}\n",
    "\n",
    "\n",
    "class MovieNotFoundException(Exception):\n",
    "    pass\n",
    "\n",
    "\n",
    "def get_movie_true_title_and_id(movie_title: str) -> Tuple[str, str]:\n",
    "    \"\"\" Get IMDB id for given movie\n",
    "    \"\"\"\n",
    "    search_string = movie_title_to_search_string(movie_title)\n",
    "    response = requests.get(\n",
    "        f\"https://www.imdb.com/find?q={search_string}\",\n",
    "        headers = headers\n",
    "    )\n",
    "    souped_content = bs4.BeautifulSoup(response.content, \"html.parser\")\n",
    "    try:\n",
    "        first_result = souped_content.find(\"td\", class_=\"result_text\")\n",
    "        movie_link = first_result.find(\"a\")\n",
    "        movie_title = movie_link.text\n",
    "        movie_id = movie_link[\"href\"].split('/')[2]\n",
    "        return movie_title, movie_id\n",
    "    except Exception as ex:\n",
    "        raise MovieNotFoundException(\n",
    "            f\"Movie with title \\'{movie_title}\\' could NOT be found\"\n",
    "        )\n"
   ]
  },
  {
   "cell_type": "code",
   "execution_count": 4,
   "metadata": {},
   "outputs": [
    {
     "output_type": "execute_result",
     "data": {
      "text/plain": [
       "('Spider-Man 2', 'tt0316654')"
      ]
     },
     "metadata": {},
     "execution_count": 4
    }
   ],
   "source": [
    "# Test get_movie_id\n",
    "get_movie_true_title_and_id(\"spiderman 2\")"
   ]
  },
  {
   "source": [
    "## Extracting reviews\n",
    "### One review from its container\n",
    "A single review appears on the reviews page of a movie encapsulated inside a <i>.review-container div</i> tag. Below we implement the logic for extracting information for a single review from its container. We extract:\n",
    " * review title (always present)\n",
    " * text, the content of the review (always present)\n",
    " * score, integer between 1 and 10 (can be missing)\n",
    " * user name (always present)\n",
    " * date of the review (in the format yyyy/mm/dd)\n",
    " * number of users that voted on the usefulness of this review\n",
    " * number of users that considered this review useful\n",
    "\n",
    "Some processing has to be done on the review text. We remove all the tags but keep the text between them. If there are any URLs present in the text, we remove them and replace them with an <b>\\[URL\\]</b> token. Finally, we replace all multiple consecutive white spaces with a single space character and strip all the white spaces from the beginning and the end of the text string.  "
   ],
   "cell_type": "markdown",
   "metadata": {}
  },
  {
   "cell_type": "code",
   "execution_count": 5,
   "metadata": {},
   "outputs": [],
   "source": [
    "from datetime import datetime\n",
    "from typing import List, NamedTuple, Optional\n",
    "\n",
    "\n",
    "class Review(NamedTuple):\n",
    "    title: str\n",
    "    text: str\n",
    "    score: Optional[int]\n",
    "    user: str\n",
    "    date: str\n",
    "    helpfulness_votes: int\n",
    "    positive_helpfulness_votes: int\n",
    "\n",
    "    def __str__(self) -> str:\n",
    "        return (\n",
    "            f\"{self.title} ({self.score}/10)\\n\" +\n",
    "            f\"by {self.user} on {self.date}\\n\" +\n",
    "            f\"{self.text}\\n\\n\" +\n",
    "            f\"{self.positive_helpfulness_votes} out of \" +\n",
    "            f\"{self.helpfulness_votes} found it useful\"\n",
    "        )\n",
    "\n",
    "\n",
    "def process_review_text(text_div: bs4.element.Tag) -> str:\n",
    "    \"\"\" Remove html tags and shrink consecutive whitespaces.\n",
    "        Replace all URLs with a special token.\n",
    "    \"\"\"\n",
    "    # remove all tags but keep the text data\n",
    "    text = text_div.get_text(\" \", strip=True)\n",
    "    # replace links with [URL] token\n",
    "    text = re.sub(r\"https?://[^ ]+\", \"[URL]\", text)\n",
    "    text = re.sub(r\"www.[^ ]+\", \"[URL]\", text)\n",
    "    # change multiple consecutive whitespaces into a single space\n",
    "    text = re.sub(\"\\s+\", \" \", text)\n",
    "    return text\n",
    "\n",
    "\n",
    "def extract_review_from_div(tag: bs4.element.Tag) -> Review:\n",
    "    \"\"\" Extract all review info from the review-container div\n",
    "    \"\"\"\n",
    "    title = tag.find(\"a\", class_=\"title\").text.strip()\n",
    "    user = tag.find(\"span\", class_=\"display-name-link\").find(\"a\").text\n",
    "    date = tag.find(\"span\", class_=\"review-date\").text\n",
    "    # change date format to numerical one\n",
    "    date = datetime.strptime(date, \"%d %B %Y\").strftime(\"%Y/%m/%d\")\n",
    "    try:\n",
    "        score = int(tag.find(\"span\", class_=\"point-scale\").previous_sibling.text)\n",
    "    except Exception:\n",
    "        score = None  # no score is specified for this review\n",
    "    help_text = tag.find(\n",
    "        \"div\", class_=\"actions text-muted\"\n",
    "    ).text.strip().split(' ')\n",
    "    positive_helpfulness_votes, helpfulnes_votes = int(help_text[0]), int(help_text[3])\n",
    "\n",
    "    # get review text\n",
    "    text_div = tag.find(\"div\", class_=\"text show-more__control\")\n",
    "    text = process_review_text(text_div)\n",
    "    \n",
    "    return Review(title=title, text=text, score=score, user=user, date=date,\n",
    "        helpfulness_votes=helpfulnes_votes,\n",
    "        positive_helpfulness_votes=positive_helpfulness_votes\n",
    "    )"
   ]
  },
  {
   "source": [
    "We test the above methods on the code of a review container extracted from an IMDb page. Some changes were applied in order to catch some corner cases."
   ],
   "cell_type": "markdown",
   "metadata": {}
  },
  {
   "cell_type": "code",
   "execution_count": 6,
   "metadata": {},
   "outputs": [
    {
     "output_type": "stream",
     "name": "stdout",
     "text": [
      "Just rewatching in 2020 (9/10)\nby koyushun on 2020/04/14\nI was a kid when I watched this in cinema back in 2004 I just want to say after all these years after a few version of Spider-Mans and all the MCU movie. This one is hands down the best Superhero movie text to keep . It has everything done within 2 hours. Perfectly [URL] caught up what it left of from the previous Spider-Man and Toby Maguire will always be my Spider-Man [URL] .\n\n26 out of 37 found it useful\n"
     ]
    }
   ],
   "source": [
    "# Test extract_review_from_div\n",
    "\n",
    "div = \"\"\"<div class=\"review-container\">\n",
    "        <div class=\"lister-item-content\">\n",
    "    <div class=\"ipl-ratings-bar\">\n",
    "            <span class=\"rating-other-user-rating\">\n",
    "            <svg class=\"ipl-icon ipl-star-icon  \" xmlns=\"http://www.w3.org/2000/svg\" fill=\"#000000\" height=\"24\" viewBox=\"0 0 24 24\" width=\"24\">\n",
    "                <path d=\"M0 0h24v24H0z\" fill=\"none\"/>\n",
    "                <path d=\"M12 17.27L18.18 21l-1.64-7.03L22 9.24l-7.19-.61L12 2 9.19 8.63 2 9.24l5.46 4.73L5.82 21z\"/>\n",
    "                <path d=\"M0 0h24v24H0z\" fill=\"none\"/>\n",
    "            </svg>\n",
    "                <span>9</span><span class=\"point-scale\">/10</span>\n",
    "            </span>\n",
    "    </div>\n",
    "<a href=\"/review/rw5638050/?ref_=tt_urv\"\n",
    "class=\"title\" > Just rewatching in 2020\n",
    "</a>            <div class=\"display-name-date\">\n",
    "                    <span class=\"display-name-link\"><a href=\"/user/ur68951879/?ref_=tt_urv\"\n",
    ">koyushun</a></span><span class=\"review-date\">14 April 2020</span>\n",
    "            </div>\n",
    "            <div class=\"content\">\n",
    "                <div class=\"text show-more__control\">I was a kid when I watched this in cinema back in 2004\n",
    "I just want to say after all these years after a few version of Spider-Mans and all the MCU movie.\n",
    "<br>\n",
    "<br>\n",
    "This one is hands down the best Superhero movie <a href=\"google.com\">text to keep</a>.\n",
    "It has everything done within 2 hours. Perfectly <a href=\"https://google.com\">https://google.com</a> caught up what it left of from the previous Spider-Man and Toby Maguire will always be my Spider-Man <a href=\"www.google.com\">www.google.com</a>.</div>\n",
    "                <div class=\"actions text-muted\">\n",
    "                    26 out of 37 found this helpful.\n",
    "                        <span>\n",
    "                            Was this review helpful? <a href=\"/registration/signin?ref_=urv\"\n",
    "> Sign in</a> to vote.\n",
    "                        </span>\n",
    "                        <br/>\n",
    "                    <a href=\"/review/rw5638050/?ref_=tt_urv\"\n",
    ">Permalink</a>\n",
    "                </div>\n",
    "            </div>\n",
    "        </div>\n",
    "        <div class=\"clear\"></div>\n",
    "    </div>\n",
    "\"\"\"\n",
    "\n",
    "div_soup = bs4.BeautifulSoup(div).find(\"div\", class_=\"review-container\")\n",
    "print(extract_review_from_div(div_soup))\n"
   ]
  },
  {
   "source": [
    "### Many reviews\n",
    "Scraping all of the reviews for a movie it is a little bit trickier than iterating through all of the review containers on the page. The pagination on IMDb is done by clicking the \"Load more\" button at the bottom of the page. This button does not change the URL of the page, but instead it does an asynchronous request that fetches the new components that need to be rendered on the current page. To simulate that request we need a \"pagination key\" that is specified in an attribute of the load button. Using that we can retrieve more reviews and also the pagination key for the next batch.\n",
    "\n",
    "Using this method we can scrape all the reviews but we chose to stop after a maximum of 100 for a given movie."
   ],
   "cell_type": "markdown",
   "metadata": {}
  },
  {
   "cell_type": "code",
   "execution_count": 7,
   "metadata": {},
   "outputs": [],
   "source": [
    "MAX_REVIEW_COUNT = 100\n",
    "\n",
    "\n",
    "def scrape_reviews(movie_id: str) -> List[Review]:\n",
    "    \"\"\"Get all reviews for given movie id\n",
    "    \"\"\"\n",
    "    request_link = f\"https://www.imdb.com/title/{movie_id}/reviews\"\n",
    "    review_divs = []\n",
    "    while len(review_divs) < MAX_REVIEW_COUNT:\n",
    "        response = requests.get(\n",
    "            request_link,\n",
    "            headers = headers\n",
    "        )\n",
    "        souped_content = bs4.BeautifulSoup(response.content, \"html.parser\")\n",
    "        review_divs.extend(\n",
    "            souped_content.find_all(\"div\", class_=\"review-container\")\n",
    "        )\n",
    "        \n",
    "        # load more link\n",
    "        load_more_div = souped_content.find(\"div\", class_=\"load-more-data\")\n",
    "        if not load_more_div:\n",
    "            break\n",
    "        pagination_key = load_more_div[\"data-key\"]\n",
    "        request_link = (\n",
    "            f\"https://www.imdb.com/title/{movie_id}/reviews/_ajax?ref_=undefined&\" +\n",
    "            f\"paginationKey={pagination_key}\"\n",
    "        )\n",
    "    reviews = []\n",
    "    for review_div in review_divs:\n",
    "        reviews.append(extract_review_from_div(review_div))\n",
    "\n",
    "    return reviews"
   ]
  },
  {
   "cell_type": "code",
   "execution_count": 10,
   "metadata": {},
   "outputs": [
    {
     "output_type": "stream",
     "name": "stdout",
     "text": [
      "100\nBetter then the original (9/10)\nby epatters-3 on 2008/06/14\nThis one of those sequels that surpasses the first one. A great blockbuster. A great second installment to the series. A great superhero film. There are some similarities to this and Superman II. If you have seen both, then you should know what I am talking about. If you liked the first one, then you will love this. A great second Part. I highly recommend this film. I love all 3 films. I loved this film. One of the best superhero films out there. If you are a DVD collector(Like me) then you should add this to your collection. It is that good. The acting is good. It has some humor. It has action and romance so Males and females will enjoy it. My overall rating for Spider-Man 2 is 8 out of 10 spiders. Enjoy. Thank you. Great film.\n\n3 out of 3 found it useful\n"
     ]
    }
   ],
   "source": [
    "# Test scrape_reviews\n",
    "import random\n",
    "\n",
    "\n",
    "reviews = scrape_reviews(\"tt0316654\")\n",
    "print(len(reviews))\n",
    "print(random.choice(reviews))"
   ]
  },
  {
   "source": [
    "## Building a dataset\n",
    "Now we are able to run these methods for a list of movie titles and retrieve all the reviews for them. We are going to store them in an in-memory DataFrame and we can also write them to disk on a CSV file for later usage."
   ],
   "cell_type": "markdown",
   "metadata": {}
  },
  {
   "cell_type": "code",
   "execution_count": 11,
   "metadata": {},
   "outputs": [
    {
     "output_type": "stream",
     "name": "stderr",
     "text": [
      "100%|██████████| 4/4 [00:17<00:00,  4.35s/it]\n"
     ]
    }
   ],
   "source": [
    "from tqdm import tqdm\n",
    "\n",
    "MOVIES = [\"Spiderman 2\", \"taxi driver\", \"goodfellas\", \"the   green mile\"]\n",
    "COLUMNS = [\"movie\", \"title\", \"text\", \"score\", \"user\", \"date\", \"helpfulness_votes\", \"positive_helpfulness_votes\"]\n",
    "\n",
    "\n",
    "all_reviews = []\n",
    "for movie in tqdm(MOVIES):\n",
    "    movie_title, movie_id = get_movie_true_title_and_id(movie)\n",
    "    reviews = scrape_reviews(movie_id)\n",
    "    all_reviews.extend(\n",
    "        (\n",
    "            (\n",
    "                movie_title, review.title, review.text, review.score, review.user,\n",
    "                review.date, review.helpfulness_votes, review.positive_helpfulness_votes\n",
    "            ) \n",
    "            for review in reviews\n",
    "        )\n",
    "    )"
   ]
  },
  {
   "cell_type": "code",
   "execution_count": 25,
   "metadata": {},
   "outputs": [
    {
     "output_type": "execute_result",
     "data": {
      "text/plain": [
       "            movie                                              title  \\\n",
       "0    Spider-Man 2              Maintains the energy of the first one   \n",
       "1     Taxi Driver                                        Taxi Drivel   \n",
       "2  The Green Mile  Overlong and too worthy but still a good story...   \n",
       "3     Taxi Driver                 Taxi Driver interprets Shakespeare   \n",
       "4  The Green Mile     Archetypal biblical-like theme of human nature   \n",
       "5    Spider-Man 2                                \"Face it, Tiger ...   \n",
       "6  The Green Mile                              It is Beyond its Date   \n",
       "7      Goodfellas                         Most overrated movie ever!   \n",
       "8      Goodfellas    Can A Sick Film Be A Good One, too? I Guess So.   \n",
       "9    Spider-Man 2                           The best Spiderman movie   \n",
       "\n",
       "                                                text  score  \\\n",
       "0  A cut above the typical comic book movie, S-M ...    8.0   \n",
       "1  I delayed for many, many years my watching of ...    3.0   \n",
       "2  Now a resident in a rest home, one time head w...    NaN   \n",
       "3  THE SICILIAN CONNECTION Taxi Driver and The Wi...   10.0   \n",
       "4  I think this movie addresses a universal theme...   10.0   \n",
       "5  ... you just hit the jackpot\", Mary Jane Watso...    9.0   \n",
       "6  There is nothing left to say after 21 years ha...   10.0   \n",
       "7  Maybe I was so disappointed in this movie beca...    1.0   \n",
       "8  Sad to say, almost everyone I know - at least,...    9.0   \n",
       "9  I'm a big fan of comic books and comic book co...   10.0   \n",
       "\n",
       "                    user        date  helpfulness_votes  \\\n",
       "0             dfranzen70  2004/12/20                144   \n",
       "1              j-lacerra  2010/08/22                 23   \n",
       "2            bob the moo  2003/03/08                 36   \n",
       "3                yurikon  2006/03/05                 11   \n",
       "4               yuenw003  2006/03/07                  7   \n",
       "5  Mister_Gordon_Shumway  2007/12/04                 22   \n",
       "6            burakparlak  2020/02/03                  2   \n",
       "7              mfmoore-1  2007/10/14                153   \n",
       "8        ccthemovieman-1  2007/01/12                 33   \n",
       "9          freemantle_uk  2008/05/06                  9   \n",
       "\n",
       "   positive_helpfulness_votes  \n",
       "0                          93  \n",
       "1                          10  \n",
       "2                          14  \n",
       "3                           6  \n",
       "4                           4  \n",
       "5                          16  \n",
       "6                           2  \n",
       "7                          63  \n",
       "8                          17  \n",
       "9                           7  "
      ],
      "text/html": "<div>\n<style scoped>\n    .dataframe tbody tr th:only-of-type {\n        vertical-align: middle;\n    }\n\n    .dataframe tbody tr th {\n        vertical-align: top;\n    }\n\n    .dataframe thead th {\n        text-align: right;\n    }\n</style>\n<table border=\"1\" class=\"dataframe\">\n  <thead>\n    <tr style=\"text-align: right;\">\n      <th></th>\n      <th>movie</th>\n      <th>title</th>\n      <th>text</th>\n      <th>score</th>\n      <th>user</th>\n      <th>date</th>\n      <th>helpfulness_votes</th>\n      <th>positive_helpfulness_votes</th>\n    </tr>\n  </thead>\n  <tbody>\n    <tr>\n      <th>0</th>\n      <td>Spider-Man 2</td>\n      <td>Maintains the energy of the first one</td>\n      <td>A cut above the typical comic book movie, S-M ...</td>\n      <td>8.0</td>\n      <td>dfranzen70</td>\n      <td>2004/12/20</td>\n      <td>144</td>\n      <td>93</td>\n    </tr>\n    <tr>\n      <th>1</th>\n      <td>Taxi Driver</td>\n      <td>Taxi Drivel</td>\n      <td>I delayed for many, many years my watching of ...</td>\n      <td>3.0</td>\n      <td>j-lacerra</td>\n      <td>2010/08/22</td>\n      <td>23</td>\n      <td>10</td>\n    </tr>\n    <tr>\n      <th>2</th>\n      <td>The Green Mile</td>\n      <td>Overlong and too worthy but still a good story...</td>\n      <td>Now a resident in a rest home, one time head w...</td>\n      <td>NaN</td>\n      <td>bob the moo</td>\n      <td>2003/03/08</td>\n      <td>36</td>\n      <td>14</td>\n    </tr>\n    <tr>\n      <th>3</th>\n      <td>Taxi Driver</td>\n      <td>Taxi Driver interprets Shakespeare</td>\n      <td>THE SICILIAN CONNECTION Taxi Driver and The Wi...</td>\n      <td>10.0</td>\n      <td>yurikon</td>\n      <td>2006/03/05</td>\n      <td>11</td>\n      <td>6</td>\n    </tr>\n    <tr>\n      <th>4</th>\n      <td>The Green Mile</td>\n      <td>Archetypal biblical-like theme of human nature</td>\n      <td>I think this movie addresses a universal theme...</td>\n      <td>10.0</td>\n      <td>yuenw003</td>\n      <td>2006/03/07</td>\n      <td>7</td>\n      <td>4</td>\n    </tr>\n    <tr>\n      <th>5</th>\n      <td>Spider-Man 2</td>\n      <td>\"Face it, Tiger ...</td>\n      <td>... you just hit the jackpot\", Mary Jane Watso...</td>\n      <td>9.0</td>\n      <td>Mister_Gordon_Shumway</td>\n      <td>2007/12/04</td>\n      <td>22</td>\n      <td>16</td>\n    </tr>\n    <tr>\n      <th>6</th>\n      <td>The Green Mile</td>\n      <td>It is Beyond its Date</td>\n      <td>There is nothing left to say after 21 years ha...</td>\n      <td>10.0</td>\n      <td>burakparlak</td>\n      <td>2020/02/03</td>\n      <td>2</td>\n      <td>2</td>\n    </tr>\n    <tr>\n      <th>7</th>\n      <td>Goodfellas</td>\n      <td>Most overrated movie ever!</td>\n      <td>Maybe I was so disappointed in this movie beca...</td>\n      <td>1.0</td>\n      <td>mfmoore-1</td>\n      <td>2007/10/14</td>\n      <td>153</td>\n      <td>63</td>\n    </tr>\n    <tr>\n      <th>8</th>\n      <td>Goodfellas</td>\n      <td>Can A Sick Film Be A Good One, too? I Guess So.</td>\n      <td>Sad to say, almost everyone I know - at least,...</td>\n      <td>9.0</td>\n      <td>ccthemovieman-1</td>\n      <td>2007/01/12</td>\n      <td>33</td>\n      <td>17</td>\n    </tr>\n    <tr>\n      <th>9</th>\n      <td>Spider-Man 2</td>\n      <td>The best Spiderman movie</td>\n      <td>I'm a big fan of comic books and comic book co...</td>\n      <td>10.0</td>\n      <td>freemantle_uk</td>\n      <td>2008/05/06</td>\n      <td>9</td>\n      <td>7</td>\n    </tr>\n  </tbody>\n</table>\n</div>"
     },
     "metadata": {},
     "execution_count": 25
    }
   ],
   "source": [
    "import pandas as pd\n",
    "import random\n",
    "\n",
    "\n",
    "random.shuffle(all_reviews)\n",
    "df = pd.DataFrame(all_reviews, columns=COLUMNS)\n",
    "df.to_csv(\"imdb_reviews.csv\")\n",
    "df.head(10)"
   ]
  }
 ]
}